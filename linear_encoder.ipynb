{
 "metadata": {
  "name": "linear_encoder"
 },
 "nbformat": 3,
 "nbformat_minor": 0,
 "worksheets": [
  {
   "cells": [
    {
     "cell_type": "code",
     "collapsed": false,
     "input": [
      "minfilename = 'edge6/2012/7/13.21.07.03.288.0.txt'#'edge6/2012/10/24.21.59.05.325.0.txt'\n",
      "bucketname = 'incoming-simscore-org'\n",
      "is_secure = False if '.' in bucketname else True\n",
      "maxfile, data = shape.getAllDataAfter(minfilename=minfilename, bucketname=bucketname, is_secure=is_secure)\n"
     ],
     "language": "python",
     "metadata": {},
     "outputs": []
    },
    {
     "cell_type": "code",
     "collapsed": false,
     "input": [
      "# now create a file\n",
      "# replace filename with the file you want to create\n",
      "file = open('2012.7.13_data_onwards.txt', 'wb')\n",
      "# now let's pickle picklelist\n",
      "pickle.dump(data,file)\n",
      "# close the file, and your pickling is complete\n",
      "file.close()\n"
     ],
     "language": "python",
     "metadata": {},
     "outputs": []
    },
    {
     "cell_type": "code",
     "collapsed": false,
     "input": [
      "file = open('2012.7.13_data_onwards.txt', 'rb')\n",
      "data = pickle.load(file)\n",
      "file.close()"
     ],
     "language": "python",
     "metadata": {},
     "outputs": []
    },
    {
     "cell_type": "code",
     "collapsed": false,
     "input": [
      "import sys, os\n",
      "sys.path.append('C:\\\\Users\\\\Tyler\\\\.ipython\\\\Simscore-Computing')\n",
      "\n",
      "import ast\n",
      "import pickle\n",
      "import numpy as np\n",
      "import validity_metrics as vm\n",
      "drift = {}\n",
      "\n",
      "for k, v in data.iteritems():\n",
      "\n",
      "    #v= data.values()[4]\n",
      "    \n",
      "    if len(v)>1:\n",
      "        try:\n",
      "            xx = np.array(ast.literal_eval(v[1]))\n",
      "            #item 3 is Lin_L, item 9 is Lin_R\n",
      "            ld = round(vm.start_v_end(xx[:,3]), 4)\n",
      "            rd = round(vm.start_v_end(xx[:,9]), 4)\n",
      "            \n",
      "            if v[0]['EdgeToolIdLeftHex'] in drift.keys():\n",
      "                drift[v[0]['EdgeToolIdLeftHex']].append([ld, k])\n",
      "            else:\n",
      "                drift[v[0]['EdgeToolIdLeftHex']] = [[ld, k]]\n",
      "                \n",
      "            if v[0]['EdgeToolIdRightHex'] in drift.keys():\n",
      "                drift[v[0]['EdgeToolIdRightHex']].append([rd, k])\n",
      "            else:\n",
      "                drift[v[0]['EdgeToolIdRightHex']] = [[rd, k]]\n",
      "              \n",
      "        except:\n",
      "            #print 'bad data from:',k\n",
      "            pass\n",
      "        \n"
     ],
     "language": "python",
     "metadata": {},
     "outputs": []
    },
    {
     "cell_type": "code",
     "collapsed": false,
     "input": [
      "for k, v in drift.iteritems():\n",
      "    print k\n",
      "    print len(v)\n",
      "    for val in v:\n",
      "        if abs(val[0]) > 1:\n",
      "            print val\n"
     ],
     "language": "python",
     "metadata": {},
     "outputs": []
    },
    {
     "cell_type": "code",
     "collapsed": false,
     "input": [
      "import matplotlib\n",
      "fig = plt.figure()\n",
      "n, bins, patches = hist( ggg ,50)\n"
     ],
     "language": "python",
     "metadata": {},
     "outputs": []
    }
   ],
   "metadata": {}
  }
 ]
}