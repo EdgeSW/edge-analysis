{
 "metadata": {
  "name": "scrub"
 },
 "nbformat": 3,
 "nbformat_minor": 0,
 "worksheets": [
  {
   "cells": [
    {
     "cell_type": "code",
     "collapsed": false,
     "input": [
      "import numpy as np"
     ],
     "language": "python",
     "metadata": {},
     "outputs": [],
     "prompt_number": 1
    },
    {
     "cell_type": "code",
     "collapsed": false,
     "input": [
      "def fixOffset(npdata, offset=1e8):    \n",
      "    '''cleans up data with large, instantaneous offsets (intended for Rot)'''\n",
      "    ndata = np.copy(npdata -npdata[0])\n",
      "    diffs = np.diff(ndata)\n",
      "    idxs = np.nonzero(abs(diffs) > offset)\n",
      "    \n",
      "    for idx in idxs[0]:\n",
      "        ndata[idx+1:] = ndata[idx+1:] - diffs[idx]\n",
      "        \n",
      "    return ndata"
     ],
     "language": "python",
     "metadata": {},
     "outputs": [],
     "prompt_number": 2
    },
    {
     "cell_type": "code",
     "collapsed": false,
     "input": [
      "def arcLength(d, th):\n",
      "    '''d = 1xn data to "
     ],
     "language": "python",
     "metadata": {},
     "outputs": []
    }
   ],
   "metadata": {}
  }
 ]
}