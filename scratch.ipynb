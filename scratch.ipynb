{
 "metadata": {
  "name": "scratch"
 },
 "nbformat": 3,
 "nbformat_minor": 0,
 "worksheets": [
  {
   "cells": [
    {
     "cell_type": "code",
     "collapsed": false,
     "input": [
      "import boto\n",
      "sys.path.append('C:\\\\Users\\\\Tyler\\\\.ipython\\\\Simscore-Computing')\n",
      "import fetch.myS3 as myS3\n",
      "from aws import aws_ak, aws_sk\n",
      "from datetime import datetime\n",
      "import json\n",
      "import cStringIO\n",
      "\n",
      "\n",
      "bucketname='incoming-simscore-org'\n",
      "minfilename = 'edge6/2012/12/05.21.59.05.325.0.txt'\n",
      "mindate = myS3.getFileDateFromKey(minfilename)\n",
      "maxdate = datetime.now()\n",
      "\n",
      "conn = boto.connect_s3(aws_ak, aws_sk)\n",
      "bucket = conn.get_bucket(bucketname)\n",
      "        \n",
      "start = datetime.now()\n",
      "\n",
      "\n",
      "meta = myS3.getMetaDataBetween(mindate, maxdate, bucket)"
     ],
     "language": "python",
     "metadata": {},
     "outputs": [],
     "prompt_number": 4
    },
    {
     "cell_type": "code",
     "collapsed": false,
     "input": [
      "v = meta[meta.keys()[0]]\n",
      "print type(v['IsPracticeTest'])\n",
      "isPractice = lambda v: v['IsPracticeTest']\n",
      "\n",
      "end = datetime.now()-start\n",
      "print end"
     ],
     "language": "python",
     "metadata": {},
     "outputs": [
      {
       "output_type": "stream",
       "stream": "stdout",
       "text": [
        "<type 'bool'>\n",
        "0:00:33.405000\n"
       ]
      }
     ],
     "prompt_number": 5
    },
    {
     "cell_type": "code",
     "collapsed": false,
     "input": [
      "#Add some fake SNS messages to the queue\n",
      "sns_conn = boto.connect_sns(aws_ak, aws_sk)\n",
      "for i in range(5):\n",
      "    sns_conn.publish('arn:aws:sns:us-east-1:409355352037:test','edge6/2012/11/05.19.16.31.340.3.txt',subject='EdgeData')"
     ],
     "language": "python",
     "metadata": {},
     "outputs": []
    },
    {
     "cell_type": "heading",
     "level": 1,
     "metadata": {},
     "source": [
      "SQS "
     ]
    },
    {
     "cell_type": "code",
     "collapsed": false,
     "input": [
      "c = pycurl.Curl() \n",
      "%load_ext autoreload\n",
      "%autoreload\n",
      "compute = 'http://dev.simscore.md3productions.com/simscores-v1/machinereport'\n",
      "#login = 'http://simscore.org/simscores-v1/user/login'\n",
      "login = 'http://dev.simscore.md3productions.com/simscores-v1/user/login'\n",
      "logout='http://dev.simscore.md3productions.com/simscores-v1/user/logout'\n"
     ],
     "language": "python",
     "metadata": {},
     "outputs": [],
     "prompt_number": 2
    },
    {
     "cell_type": "code",
     "collapsed": false,
     "input": [
      "conn = boto.connect_sqs(\n",
      "        aws_access_key_id=aws_ak,\n",
      "        aws_secret_access_key=aws_sk)\n",
      "\n",
      "q = conn.get_queue('EdgeFiles2Process')\n",
      "q.set_message_class(boto.sqs.message.RawMessage)\n",
      "rs = q.read()\n",
      "#print rs.get_body()\n"
     ],
     "language": "python",
     "metadata": {},
     "outputs": [],
     "prompt_number": 17
    },
    {
     "cell_type": "code",
     "collapsed": false,
     "input": [
      "conn = boto.connect_sqs(aws_access_key_id=aws_ak, aws_secret_access_key=aws_sk)\n",
      "q = conn.get_queue('Files2Ship')\n",
      "q.get_attributes()\n"
     ],
     "language": "python",
     "metadata": {},
     "outputs": [],
     "prompt_number": 11
    },
    {
     "cell_type": "code",
     "collapsed": false,
     "input": [
      "bucketname = 'incoming-simscore-org'\n",
      "filename = 'edge6/2012/11/05.19.16.31.340.3.txt'\n",
      "data, meta = shape.getData(filename, bucketname, is_secure=True)\n",
      "#Compute Summary Metrics\n",
      "jsonSimscore = vm.summary_metrics(meta,data)\n",
      "#Compute additional data validity metrics\n",
      "jsonSimscore = vm.data_metrics_append(jsonSimscore, data, filename)\n",
      "#Compute machine health metrics\n",
      "jsonSimscore = vm.machine_health_append(jsonSimscore, meta, data)\n",
      "jsonSimscore = vm.round_dict(jsonSimscore,3)\n",
      "print 'jsonSimscore computed!'"
     ],
     "language": "python",
     "metadata": {},
     "outputs": [
      {
       "output_type": "pyout",
       "prompt_number": 13,
       "text": [
        "u'edge12/2012/11/14.17.08.01.109.2.txt'"
       ]
      }
     ],
     "prompt_number": 13
    },
    {
     "cell_type": "code",
     "collapsed": false,
     "input": [
      "qq = conn.get_queue('Files2Ship')\n",
      "from boto.sqs.message import Message\n",
      "\n",
      "for i in range(1, 11):\n",
      "   m = Message()\n",
      "   m.set_body(json.dumps(jsonSimscore))\n",
      "   qq.write(m)\n",
      "\n"
     ],
     "language": "python",
     "metadata": {},
     "outputs": [],
     "prompt_number": 20
    },
    {
     "cell_type": "heading",
     "level": 2,
     "metadata": {},
     "source": [
      "SDB"
     ]
    },
    {
     "cell_type": "code",
     "collapsed": false,
     "input": [
      "i='s'\n",
      "assert type(i) is int, \"i is not an integer: %r\" % i"
     ],
     "language": "python",
     "metadata": {},
     "outputs": [
      {
       "ename": "AssertionError",
       "evalue": "i is not an integer: 's'",
       "output_type": "pyerr",
       "traceback": [
        "\u001b[1;31m---------------------------------------------------------------------------\u001b[0m\n\u001b[1;31mAssertionError\u001b[0m                            Traceback (most recent call last)",
        "\u001b[1;32m<ipython-input-19-b4f2be01be9d>\u001b[0m in \u001b[0;36m<module>\u001b[1;34m()\u001b[0m\n\u001b[0;32m      1\u001b[0m \u001b[0mi\u001b[0m\u001b[1;33m=\u001b[0m\u001b[1;34m's'\u001b[0m\u001b[1;33m\u001b[0m\u001b[0m\n\u001b[1;32m----> 2\u001b[1;33m \u001b[1;32massert\u001b[0m \u001b[0mtype\u001b[0m\u001b[1;33m(\u001b[0m\u001b[0mi\u001b[0m\u001b[1;33m)\u001b[0m \u001b[1;32mis\u001b[0m \u001b[0mint\u001b[0m\u001b[1;33m,\u001b[0m \u001b[1;34m\"i is not an integer: %r\"\u001b[0m \u001b[1;33m%\u001b[0m \u001b[0mi\u001b[0m\u001b[1;33m\u001b[0m\u001b[0m\n\u001b[0m",
        "\u001b[1;31mAssertionError\u001b[0m: i is not an integer: 's'"
       ]
      }
     ],
     "prompt_number": 19
    },
    {
     "cell_type": "code",
     "collapsed": false,
     "input": [
      "import sys, os, boto\n",
      "sys.path.append('C:\\\\Users\\\\Tyler\\\\.ipython\\\\Simscore-Computing')\n",
      "from aws import aws_access_key, aws_secret_key\n",
      "\n",
      "conn = boto.connect_sdb(\n",
      "        aws_access_key_id=aws_access_key,\n",
      "        aws_secret_access_key=aws_secret_key)"
     ],
     "language": "python",
     "metadata": {},
     "outputs": [],
     "prompt_number": 15
    },
    {
     "cell_type": "code",
     "collapsed": false,
     "input": [
      "domain = conn.get_domain('ProcessedEdgeFiles')\n",
      "\n",
      "item = domain.new_item('edge12/2013/10/14.17.08.01.109.2')\n",
      "item['IsProcessed'] = True\n",
      "item['IsSent'] = False\n",
      "item['UploadDate'] = '2012/11/14.17.08.01'\n",
      "item['Score'] = 1\n",
      "item['UserID'] = 192\n",
      "item.save()"
     ],
     "language": "python",
     "metadata": {},
     "outputs": [],
     "prompt_number": 31
    },
    {
     "cell_type": "code",
     "collapsed": false,
     "input": [
      "domain.put_attributes('edge12/2013/10/14.17.08.01.109.2',{'Score':'55'},replace=False)"
     ],
     "language": "python",
     "metadata": {},
     "outputs": [
      {
       "output_type": "pyout",
       "prompt_number": 46,
       "text": [
        "True"
       ]
      }
     ],
     "prompt_number": 46
    },
    {
     "cell_type": "code",
     "collapsed": false,
     "input": [
      "data = domain.get_item('edge12/2013/11/14.17.08.01.109.2')"
     ],
     "language": "python",
     "metadata": {},
     "outputs": [],
     "prompt_number": 23
    },
    {
     "cell_type": "code",
     "collapsed": false,
     "input": [
      "dom_name = 'ProcessedEdgeFiles'\n",
      "#syntax: select * from `ProcessedEdgeFiles` where Score>'2' \n",
      "#alt syntax: select * from `ProcessedEdgeFiles` where IsSent='True' and IsProcessed='True'\n",
      "query = \"select {0} from `{1}` where {2}\".format('*', dom_name, \"IsSent='True' \")\n",
      "print query\n",
      "rs = domain.select(query)\n",
      "for item in rs:\n",
      "    print item.name, item"
     ],
     "language": "python",
     "metadata": {},
     "outputs": [
      {
       "output_type": "stream",
       "stream": "stdout",
       "text": [
        "select * from `ProcessedEdgeFiles` where Score>'2'\n",
        "edge12/2013/11/14.17.08.01.109.2"
       ]
      },
      {
       "output_type": "stream",
       "stream": "stdout",
       "text": [
        " {u'UserID': u'124', u'Score': u'88.12', u'IsSent': u'True', u'UploadDate': u'2012/11/14.17.08.01', u'IsProcessed': u'True'}\n",
        "edge12/2013/12/14.17.08.01.109.2 {u'UserID': u'124', u'Score': u'88.12', u'IsSent': u'False', u'UploadDate': u'2012/11/14.17.08.01', u'IsProcessed': u'True'}\n"
       ]
      }
     ],
     "prompt_number": 44
    },
    {
     "cell_type": "code",
     "collapsed": false,
     "input": [],
     "language": "python",
     "metadata": {},
     "outputs": []
    }
   ],
   "metadata": {}
  }
 ]
}