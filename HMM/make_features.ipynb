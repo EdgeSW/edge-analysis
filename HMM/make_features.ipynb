{
 "metadata": {
  "name": "make_features"
 },
 "nbformat": 3,
 "nbformat_minor": 0,
 "worksheets": [
  {
   "cells": [
    {
     "cell_type": "code",
     "collapsed": false,
     "input": [
      "%load_ext autoreload\n",
      "%autoreload 2"
     ],
     "language": "python",
     "metadata": {},
     "outputs": [],
     "prompt_number": 1
    },
    {
     "cell_type": "code",
     "collapsed": false,
     "input": [
      "import sys\n",
      "sys.path.append('C:\\\\Users\\\\Tyler\\\\.ipython\\\\edge-analysis')\n",
      "from scipy.cluster import vq\n",
      "import numpy as np\n",
      "import json\n",
      "import scipy\n",
      "from scipy.signal import butter, filtfilt\n",
      "from datetime import datetime\n",
      "import matplotlib.pyplot as plt\n",
      "\n",
      "from HMM.data_wrangling import *\n",
      "import HMM.scrub as scrub"
     ],
     "language": "python",
     "metadata": {},
     "outputs": [],
     "prompt_number": 1
    },
    {
     "cell_type": "heading",
     "level": 3,
     "metadata": {},
     "source": [
      "Filter, scrub data, Compute derivatives "
     ]
    },
    {
     "cell_type": "code",
     "collapsed": false,
     "input": [
      "features = None"
     ],
     "language": "python",
     "metadata": {},
     "outputs": [],
     "prompt_number": 10
    },
    {
     "cell_type": "code",
     "collapsed": false,
     "input": [
      "#Define labels, initial variables\n",
      "print 'getting features'\n",
      "dataset = 'timdata'\n",
      "task = 'pegtransfer'\n",
      "\n",
      "# Final Features are Vel-dRta-Gr-dQg (dX, dY, dZ, dRta, Fg, Qg, dQg)\n",
      "snsrs = {'left':['Time','xL', 'yL', 'zL', 'Q3Lrel', 'QgL', 'FgL'] , 'right':['Time','xR', 'yR', 'zR', 'Q3Rrel', 'QgR', 'FgR']}\n",
      "snsrs_edge = ['Time','X','Y','Z','Rot','ThG','Fg']\n",
      "feats = ['Time','dX','dY','dZ','dRta','Fg','Qg','dQg']\n",
      "hand = 'right'\n",
      "idx = {}; \n",
      "for n in snsrs_edge: idx[n] = snsrs_edge.index(n)\n",
      "\n",
      "try:\n",
      "    features\n",
      "except NameError:\n",
      "    features = None\n",
      "if features is None:\n",
      "    print 'Loading data...'\n",
      "    features = getFeatures(dataset, task, limit=0, sensors=snsrs[hand], order='key, Time', asdict=True)\n",
      "    \n",
      "#Should be len 193, 165, 89 for peg, cut, sut\n",
      "print 'got features of size', len(features)"
     ],
     "language": "python",
     "metadata": {},
     "outputs": [
      {
       "output_type": "stream",
       "stream": "stdout",
       "text": [
        "getting features\n",
        "Loading data..."
       ]
      },
      {
       "output_type": "stream",
       "stream": "stdout",
       "text": [
        "\n",
        "SELECT key, Time, xR, yR, zR, Q3Rrel, QgR, FgR FROM [data.timdata] WHERE task='pegtransfer'  ORDER BY key, Time\n",
        "current length: "
       ]
      },
      {
       "output_type": "stream",
       "stream": "stdout",
       "text": [
        " 100000\n",
        "1 "
       ]
      },
      {
       "output_type": "stream",
       "stream": "stdout",
       "text": [
        "current row:  200000\n",
        "2 "
       ]
      },
      {
       "output_type": "stream",
       "stream": "stdout",
       "text": [
        "current row:  300000\n",
        "3 "
       ]
      },
      {
       "output_type": "stream",
       "stream": "stdout",
       "text": [
        "current row:  400000\n",
        "4 "
       ]
      },
      {
       "output_type": "stream",
       "stream": "stdout",
       "text": [
        "current row:  500000\n",
        "5 "
       ]
      },
      {
       "output_type": "stream",
       "stream": "stdout",
       "text": [
        "current row:  600000\n",
        "6 "
       ]
      },
      {
       "output_type": "stream",
       "stream": "stdout",
       "text": [
        "current row:  700000\n",
        "7 "
       ]
      },
      {
       "output_type": "stream",
       "stream": "stdout",
       "text": [
        "current row:  769018\n",
        "8 "
       ]
      },
      {
       "output_type": "stream",
       "stream": "stdout",
       "text": [
        "returning data\n",
        "got features of size"
       ]
      },
      {
       "output_type": "stream",
       "stream": "stdout",
       "text": [
        " 193\n"
       ]
      }
     ],
     "prompt_number": 11
    },
    {
     "cell_type": "code",
     "collapsed": false,
     "input": [
      "#Fix Offsets in Rotation Angle (Tim has already scrubbed this for his dataset)\n",
      "#features[:,idx['Rot']] = scrub.fix_offset_between_tests(ids, features[:,idx['Rot']])\n",
      "#features[:,idx['Rot']] = scrub.fixOffset(features[:,idx['Rot']], offffset=125)\n",
      "#print  np.diff(features[:,idx['Rot']])[np.diff(features[:,idx['Rot']]) > 20]\n",
      "#plt.plot(features[:,idx['Rot']])"
     ],
     "language": "python",
     "metadata": {},
     "outputs": [],
     "prompt_number": 12
    },
    {
     "cell_type": "code",
     "collapsed": false,
     "input": [
      "#Filter using 10th order Butterworth filter and calc'd Fc's\n",
      "for k, v in features.iteritems():\n",
      "    #Ignore column 0 - it's Time\n",
      "    features[k][:,1:] = scrub.butter_filter(v[:,1:], snsrs_edge[1:], task, in_place=True)\n",
      "    \n",
      "#Compute derivatives\n",
      "h = 1.0/30 # 1/Fs\n",
      "for k, v in features.iteritems():\n",
      "    features[k][:,idx['X']] = scrub.holo(v[:,idx['X']], h)\n",
      "    features[k][:,idx['Y']] = scrub.holo(v[:,idx['Y']], h)\n",
      "    features[k][:,idx['Z']] = scrub.holo(v[:,idx['Z']], h)\n",
      "    \n",
      "    features[k][:,idx['Rot']] = scrub.holo(v[:,idx['Rot']], h)\n",
      "    #### Pass dRot through arctan function to decrease high spikes\n",
      "    features[k][:,idx['Rot']] = scrub.dRtaArctan(v[:,idx['Rot']])\n",
      "    ##### Append dQg to end of features\n",
      "    features[k] = np.column_stack((features[k], scrub.holo(v[:,idx['ThG']], h)))\n",
      "    \n",
      "    features[k] = np.array(features[k], dtype=float16)\n",
      "\n",
      "#print features[features.keys()[1]]"
     ],
     "language": "python",
     "metadata": {},
     "outputs": [],
     "prompt_number": 13
    },
    {
     "cell_type": "heading",
     "level": 4,
     "metadata": {},
     "source": [
      "Upload Computed Features to BigQuery"
     ]
    },
    {
     "cell_type": "code",
     "collapsed": false,
     "input": [
      "xx = features['pegtransfer_69'][:10,2] \n",
      "print type(xx), type(xx[0])\n",
      "yy = np.array(xx, dtype=np.float16)\n",
      "print type(yy), type(yy[0])\n",
      "print xx[0]\n",
      "print repr(xx[0])\n",
      "print yy[0]\n",
      "print repr(yy[0])"
     ],
     "language": "python",
     "metadata": {},
     "outputs": [
      {
       "output_type": "stream",
       "stream": "stdout",
       "text": [
        "<type 'numpy.ndarray'> <type 'numpy.float16'>\n",
        "<type 'numpy.ndarray'> <type 'numpy.float16'>\n",
        "-6.6484\n",
        "-6.6484"
       ]
      },
      {
       "output_type": "stream",
       "stream": "stdout",
       "text": [
        "\n",
        "-6.6484\n",
        "-6.6484"
       ]
      },
      {
       "output_type": "stream",
       "stream": "stdout",
       "text": [
        "\n"
       ]
      }
     ],
     "prompt_number": 14
    },
    {
     "cell_type": "code",
     "collapsed": false,
     "input": [
      "date = '2013.1.21'\n",
      "tablename = 'Vel_dRta_Gr_dQg'\n",
      "\n",
      "upload_features(features, date, dataset, hand, task, tablename)"
     ],
     "language": "python",
     "metadata": {},
     "outputs": [
      {
       "output_type": "stream",
       "stream": "stdout",
       "text": [
        "current length:  13\n",
        "1 "
       ]
      },
      {
       "output_type": "stream",
       "stream": "stdout",
       "text": [
        "returning data\n",
        "{'status': '200', 'content-length': '1529', 'expires': 'Fri, 01 Jan 1990 00:00:00 GMT', 'server': 'HTTP Upload Server Built on Jan 17 2013 13:01:39 (1358456499)', 'etag': '\"GwY6LdvTeqT4YdFN4PyQz2tXZdQ/QMP3RbOV4oqJnelbmLZ6S1t4Udk\"', 'pragma': 'no-cache', 'cache-control': 'no-cache, no-store, must-revalidate', 'date': 'Tue, 22 Jan 2013 03:12:22 GMT', 'content-type': 'application/json'}\n"
       ]
      },
      {
       "output_type": "stream",
       "stream": "stdout",
       "text": [
        "\n",
        "{\n",
        " \"kind\": \"bigquery#job\",\n",
        " \"etag\": \"\\\"GwY6LdvTeqT4YdFN4PyQz2tXZdQ/QMP3RbOV4oqJnelbmLZ6S1t4Udk\\\"\",\n",
        " \"id\": \"864869604064:job_d8a9c6ba96394a02a347456f525b6ee2\",\n",
        " \"selfLink\": \"https://www.googleapis.com/bigquery/v2/projects/864869604064/jobs/job_d8a9c6ba96394a02a347456f525b6ee2\",\n",
        " \"jobReference\": {\n",
        "  \"projectId\": \"864869604064\",\n",
        "  \"jobId\": \"job_d8a9c6ba96394a02a347456f525b6ee2\"\n",
        " },\n",
        " \"configuration\": {\n",
        "  \"load\": {\n",
        "   \"schema\": {\n",
        "    \"fields\": [\n",
        "     {\n",
        "      \"name\": \"key\",\n",
        "      \"type\": \"STRING\"\n",
        "     },\n",
        "     {\n",
        "      \"name\": \"Time\",\n",
        "      \"type\": \"FLOAT\"\n",
        "     },\n",
        "     {\n",
        "      \"name\": \"dX\",\n",
        "      \"type\": \"FLOAT\"\n",
        "     },\n",
        "     {\n",
        "      \"name\": \"dY\",\n",
        "      \"type\": \"FLOAT\"\n",
        "     },\n",
        "     {\n",
        "      \"name\": \"dZ\",\n",
        "      \"type\": \"FLOAT\"\n",
        "     },\n",
        "     {\n",
        "      \"name\": \"dRta\",\n",
        "      \"type\": \"FLOAT\"\n",
        "     },\n",
        "     {\n",
        "      \"name\": \"Fg\",\n",
        "      \"type\": \"FLOAT\"\n",
        "     },\n",
        "     {\n",
        "      \"name\": \"Qg\",\n",
        "      \"type\": \"FLOAT\"\n",
        "     },\n",
        "     {\n",
        "      \"name\": \"dQg\",\n",
        "      \"type\": \"FLOAT\"\n",
        "     },\n",
        "     {\n",
        "      \"name\": \"date\",\n",
        "      \"type\": \"STRING\"\n",
        "     },\n",
        "     {\n",
        "      \"name\": \"dataset\",\n",
        "      \"type\": \"STRING\"\n",
        "     },\n",
        "     {\n",
        "      \"name\": \"hand\",\n",
        "      \"type\": \"STRING\"\n",
        "     },\n",
        "     {\n",
        "      \"name\": \"task\",\n",
        "      \"type\": \"STRING\"\n",
        "     }\n",
        "    ]\n",
        "   },\n",
        "   \"destinationTable\": {\n",
        "    \"projectId\": \"864869604064\",\n",
        "    \"datasetId\": \"data\",\n",
        "    \"tableId\": \"Vel_dRta_Gr_dQg\"\n",
        "   },\n",
        "   \"createDisposition\": \"CREATE_IF_NEEDED\",\n",
        "   \"writeDisposition\": \"WRITE_APPEND\",\n",
        "   \"fieldDelimiter\": \",\",\n",
        "   \"allowQuotedNewlines\": false\n",
        "  }\n",
        " },\n",
        " \"status\": {\n",
        "  \"state\": \"PENDING\"\n",
        " }\n",
        "}\n",
        "\n"
       ]
      }
     ],
     "prompt_number": 15
    },
    {
     "cell_type": "code",
     "collapsed": false,
     "input": [],
     "language": "python",
     "metadata": {},
     "outputs": []
    }
   ],
   "metadata": {}
  }
 ]
}