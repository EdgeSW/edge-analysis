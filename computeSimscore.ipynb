{
 "metadata": {
  "name": "computeSimscore"
 },
 "nbformat": 3,
 "nbformat_minor": 0,
 "worksheets": [
  {
   "cells": [
    {
     "cell_type": "heading",
     "level": 4,
     "metadata": {},
     "source": [
      "Determine metadata, validity metrics, HMM score and add to Simscore queue"
     ]
    },
    {
     "cell_type": "code",
     "collapsed": false,
     "input": [
      "import sys, os\n",
      "sys.path.append('C:\\\\Users\\\\Tyler\\\\.ipython\\\\Simscore-Computing')\n",
      "import boto, time, json, pprint\n",
      "from datetime import datetime\n",
      "import numpy as np\n",
      "\n",
      "import scoring\n",
      "import fetch.shapeS3 as shape\n",
      "import fetch.mySQS as mySQS\n",
      "import validity_metrics as vm\n",
      "from aws import aws_ak, aws_sk\n",
      "from boto.sqs.message import Message\n"
     ],
     "language": "python",
     "metadata": {},
     "outputs": [],
     "prompt_number": 30
    },
    {
     "cell_type": "code",
     "collapsed": false,
     "input": [
      "def send_fail(failure, conn): \n",
      "    conn.send_email(source='thartley@simulab.com',\n",
      "        subject='computeSimscore.py Errors', format='html',\n",
      "        body=failure, to_addresses=['thartley@simulab.com'])\n",
      "    \n",
      "def logit(log, message):\n",
      "    log.write(message)\n",
      "    log.flush()\n",
      "    \n",
      "def add_file_sdb(domain, meta):\n",
      "    attrs = {'IsProcessed':True, 'IsSent':False, 'UploadDateUnix':meta['UploadDateUnix'], 'UploadDate':meta['UploadDate'],'Score':meta['Score'], \n",
      "            'FailTypes':meta['FailTypes'], 'IsPractice':meta['IsPractice'], 'UserID':meta['UserID']}\n",
      "    return domain.put_attributes(meta['TestID'],attrs)\n",
      "\n",
      "    \n",
      "#add if __name__ == '__main__':"
     ],
     "language": "python",
     "metadata": {},
     "outputs": [],
     "prompt_number": 31
    },
    {
     "cell_type": "code",
     "collapsed": false,
     "input": [
      "# Open up log file to write pycurl info to\n",
      "log = open (os.getcwd()+'\\\\ComputeFails.log', 'a')\n",
      "logit(log,'{0}\\n{1}\\n{2}\\n{0}\\n'.format('*'*26,datetime.now(),'Booting up computeSimscore.py'))\n",
      "\n",
      "'''Define Connections'''\n",
      "#Connect to sqs\n",
      "sqs_conn = boto.connect_sqs(aws_ak, aws_sk)\n",
      "q = sqs_conn.get_queue('EdgeFiles2Process')\n",
      "q.set_message_class(boto.sqs.message.RawMessage)\n",
      "shipq = sqs_conn.get_queue('Files2Ship')\n",
      "#Connect to ses\n",
      "ses_conn = boto.connect_ses(aws_ak, aws_sk)\n",
      "#Connect to SimpleDB\n",
      "sdb_conn = boto.connect_sdb(aws_ak, aws_sk)\n",
      "sdb_domain = sdb_conn.get_domain('ProcessedEdgeFiles')\n",
      "\n",
      "#Load in codebooks, hmms:"
     ],
     "language": "python",
     "metadata": {},
     "outputs": [],
     "prompt_number": 32
    },
    {
     "cell_type": "code",
     "collapsed": false,
     "input": [
      "'''Run Eternally'''\n",
      "#while True:  \n",
      "\n",
      "#Get a file off the SQS stack using 20sec long poll\n",
      "rs = q.read(wait_time_seconds=20)\n",
      "\n",
      "#if there's a file in the queue,\n",
      "if rs:\n",
      "    '''Compute all metrics'''\n",
      "    try:\n",
      "        #Pull filename from S3\n",
      "        filename = mySQS.get_sqs_filename(rs) #'edge6/2012/11/05.18.46.23.340.0.txt'\n",
      "        data, meta = shape.getData(filename, bucketname='incoming-simscore-org', is_secure=True)\n",
      "        logit(log,'{0}\\n{1}\\nProcessing {2}\\n'.format('-'*20,datetime.now(),filename) )\n",
      "        \n",
      "        '''Where the magic happens'''\n",
      "        #Compute Summary Metrics\n",
      "        jsonSimscore = vm.summary_metrics(meta,data)\n",
      "        #Compute additional data validity metrics\n",
      "        jsonSimscore = vm.data_metrics_append(jsonSimscore, data, filename)\n",
      "        #Compute machine health metrics\n",
      "        jsonSimscore = vm.machine_health_append(jsonSimscore, meta, data)\n",
      "        #Score data\n",
      "        jsonSimscore.update({'Score': scoring.score_test(data)} )\n",
      "        \n",
      "        #Processing is completed --Add this jsonSimscore to new SQS stack for POST\n",
      "        jsonSimscore = vm.round_dict(jsonSimscore,3)\n",
      "        logit(log,'Successfully processed.\\n'); print 'Successfully processed.'\n",
      "        \n",
      "    except Exception as err:\n",
      "        #print/log exception, email me, then continue\n",
      "        logit(log,'ERROR: %s\\n'%str(err) )\n",
      "        if filename == None: filename = 'Unknown'\n",
      "        send_fail('Error computing {0}. computeSimscore.py error: {1}.'.format(filename, err), ses_conn)\n",
      "        #continue\n",
      "        \n",
      "    '''Add to queue for shipSimscore'''\n",
      "    try:\n",
      "        m = Message()\n",
      "        m.set_body(json.dumps(jsonSimscore))\n",
      "        receipt = shipq.write(m)\n",
      "            \n",
      "        #If json is DEFINITELY received by new SQS, delete from original Files2Process queue\n",
      "        assert receipt, \"Could not write to queue\"\n",
      "        d = q.delete_message(rs)\n",
      "        \n",
      "        assert d, \"Could not delete from queue\"\n",
      "        logit(log, 'Deleted from queue\\n'); print 'Deleted %s from queue' %filename\n",
      "                    \n",
      "        #Add entry to SimpleDB\n",
      "        s = add_file_sdb(sdb_domain, jsonSimscore)\n",
      "        assert s, \"SimpleDB not updated\"\n",
      "        \n",
      "    except Exception as err:\n",
      "        logit(log, 'ERROR: %s\\n'%str(err) )\n",
      "        send_fail('Error sending {0}. computeSimscore.py error: {1}.'.format(filename, err), ses_conn)    \n",
      "          \n",
      "print 'done'"
     ],
     "language": "python",
     "metadata": {},
     "outputs": [
      {
       "output_type": "stream",
       "stream": "stdout",
       "text": [
        "Successfully processed.\n",
        "Deleted edge6/2012/11/05.19.16.31.340.3.txt from queue"
       ]
      },
      {
       "output_type": "stream",
       "stream": "stdout",
       "text": [
        "\n",
        "done"
       ]
      },
      {
       "output_type": "stream",
       "stream": "stdout",
       "text": [
        "\n"
       ]
      }
     ],
     "prompt_number": 33
    },
    {
     "cell_type": "heading",
     "level": 1,
     "metadata": {},
     "source": [
      "Scratch"
     ]
    },
    {
     "cell_type": "code",
     "collapsed": false,
     "input": [
      "#Add some fake SNS messages to the queue\n",
      "sns_conn = boto.connect_sns(aws_ak, aws_sk)\n",
      "for i in range(5):\n",
      "    sns_conn.publish('arn:aws:sns:us-east-1:409355352037:test','edge6/2012/11/05.19.16.31.340.3.txt',subject='EdgeData')\n"
     ],
     "language": "python",
     "metadata": {},
     "outputs": [],
     "prompt_number": 5
    },
    {
     "cell_type": "code",
     "collapsed": false,
     "input": [
      "'''\n",
      "bucketname = 'incoming-simscore-org'\n",
      "filename = 'edge6/2012/11/05.19.16.31.340.3.txt'\n",
      "#data, meta = shape.getData(filename, bucketname, is_secure=True)\n",
      "#Compute Summary Metrics\n",
      "jsonSimscore = vm.summary_metrics(meta,data)\n",
      "#Compute additional data validity metrics\n",
      "jsonSimscore = vm.data_metrics_append(jsonSimscore, data, filename)\n",
      "#Compute machine health metrics\n",
      "jsonSimscore = vm.machine_health_append(jsonSimscore, meta, data)\n",
      "jsonSimscore = vm.round_dict(jsonSimscore,3)\n",
      "\n",
      "#pp = pprint.PrettyPrinter(indent=4)\n",
      "#print pp.pprint(jsonSimscore)\n",
      "'''"
     ],
     "language": "python",
     "metadata": {},
     "outputs": [
      {
       "output_type": "stream",
       "stream": "stdout",
       "text": [
        "{   'BadFrames': 'clear',\n",
        "    'BadFramesCount': 1,\n",
        "    'Continuous': 'clear',\n",
        "    'DeadSensors': [],\n",
        "    'EdgeID': '6',\n",
        "    'FailTypes': ['OutOfRange'],\n",
        "    'IsPractice': False,\n",
        "    'LToolID': u'40000014',\n",
        "    'LastCalibration': '2012-05-30 14:55:29.433',\n",
        "    'LinEncDrift': {   'left': 'clear', 'right': 'clear'},\n",
        "    'LinEncDriftValue': {   'left': -0.012, 'right': -0.265},\n",
        "    'MetadataFilename': u'edge6/2012/11/05.19.16.31.340.3.log',\n",
        "    'MinMax': {   '%Time_V1': {   'max': 143.764, 'min': 0.049},\n",
        "                  'Fg_L': {   'max': -6.867, 'min': -8.584},\n",
        "                  'Fg_R': {   'max': 16.728, 'min': -3.802},\n",
        "                  'J1_L': {   'max': 46.034, 'min': 0.283},\n",
        "                  'J1_R': {   'max': 54.896, 'min': 5.341},\n",
        "                  'J2_L': {   'max': 0.288, 'min': -56.396},\n",
        "                  'J2_R': {   'max': -3.706, 'min': -71.547},\n",
        "                  'Lin_L': {   'max': 2.654, 'min': -5.388},\n",
        "                  'Lin_R': {   'max': 3.307, 'min': -6.518},\n",
        "                  'Rot_L': {   'max': -30.168, 'min': -116.784},\n",
        "                  'Rot_R': {   'max': 0.0, 'min': 0.0},\n",
        "                  'ThG_L': {   'max': 13.25, 'min': -0.883},\n",
        "                  'ThG_R': {   'max': 0.0, 'min': 0.0},\n",
        "                  'X_L': {   'max': 0.353, 'min': -6.841},\n",
        "                  'X_R': {   'max': 6.66, 'min': -3.48},\n",
        "                  'Y_L': {   'max': 3.203, 'min': -6.418},\n",
        "                  'Y_R': {   'max': 1.541, 'min': -8.873},\n",
        "                  'Z_L': {   'max': 14.147, 'min': -0.331},\n",
        "                  'Z_R': {   'max': 12.499, 'min': -2.396}},\n",
        "    'NaNSensors': [],\n",
        "    'OutOfRange': ['Fg_L', 'Fg_R'],\n",
        "    'ProctorID': '288',\n",
        "    'ProctorValues': {   u'CrossingClips': False,\n",
        "                         u'FailedToPut4Clips': False,\n",
        "                         u'FailedToPutMinimum2ClipsBetweenLines': False,\n",
        "                         u'GraspedTheRenalArtery': False,\n",
        "                         u'IncompleteCoaption': False,\n",
        "                         u'InstrumentLeftFieldOfView': True,\n",
        "                         u'StraightCutOnMiddleDottedLine': False},\n",
        "    'ProctorValuesCheck': 'clear',\n",
        "    'RToolID': u'82000037',\n",
        "    'SwVersion': u'1.6.0.0',\n",
        "    'TaskType': 3,\n",
        "    'TestDataFilename': u'edge6/2012/11/05.19.16.31.340.3.txt',\n",
        "    'TestID': u'edge6/2012/11/05.19.16.31.340.3',\n",
        "    'TestLength': 143.731,\n",
        "    'TestLengthCheck': 'clear',\n",
        "    'ToolTipDrift': {   'left': 'clear', 'right': 'clear'},\n",
        "    'ToolTipDriftValue': {   'left': {   'x': -0.018, 'y': -0.011, 'z': 0.033},\n",
        "                             'right': {   'x': -0.54, 'y': -0.433, 'z': -1.135}},\n",
        "    'UploadDate': '2012-11-05 19:16:31',\n",
        "    'UploadDateUnix': 1352171791,\n",
        "    'UserID': '340',\n",
        "    'VideoDataFilename': u'edge6/2012/11/05.19.16.31.340.3.mp4'}\n",
        "None\n"
       ]
      }
     ],
     "prompt_number": 24
    },
    {
     "cell_type": "code",
     "collapsed": false,
     "input": [],
     "language": "python",
     "metadata": {},
     "outputs": []
    }
   ],
   "metadata": {}
  }
 ]
}