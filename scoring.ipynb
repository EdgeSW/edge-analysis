{
 "metadata": {
  "name": "scoring"
 },
 "nbformat": 3,
 "nbformat_minor": 0,
 "worksheets": [
  {
   "cells": [
    {
     "cell_type": "code",
     "collapsed": false,
     "input": [
      "from collections import defaultdict\n",
      "\n",
      "def getGrasps(seg_idxs, exam_rawdata):\n",
      "    \"\"\"given the computed segmented indices and the relevant test data, return only data within those indices\"\"\"\n",
      "    graspsegs = defaultdict(list)\n",
      "    \n",
      "    try: #Get grasps for left side, checking there are left indices\n",
      "        graspsegs['left'] = []\n",
      "        graspsegs['right'] = []\n",
      "        \n",
      "        for i in range(len(seg_idxs[0])):\n",
      "            graspsegs['left'].append(exam_rawdata[:,5:7][seg_idxs[0][i,0]:seg_idxs[0][i,1]]  )\n",
      "        for i in range(len(seg_idxs[1])):\n",
      "            graspsegs['right'].append(exam_rawdata[:,11:13][seg_idxs[1][i,0]:seg_idxs[1][i,1]]  )\n",
      "    except Exception as e:\n",
      "        print e\n",
      "    \n",
      "    return graspsegs"
     ],
     "language": "python",
     "metadata": {},
     "outputs": [],
     "prompt_number": 1
    },
    {
     "cell_type": "code",
     "collapsed": false,
     "input": [
      "import numpy as np\n",
      "#def segment(args):\n",
      "def segment_exam(task, arr):\n",
      "    \"\"\"Given the task and a \"\"\"\n",
      "    #task, thresholds, kv = args\n",
      "    thresholds = {'suturing': (1.5, 0.1*30), 'cutting': (3, 0.5*30), 'pegtransfer': (3, 1*30)} \n",
      "    task_threshold = thresholds.get(task, (0, 0))\n",
      "    \n",
      "    #arr = arr.astype(float) #Convert from unicode to float\n",
      "    \n",
      "    lidx, = np.diff(arr[:, 0] > task_threshold[0]).nonzero()\n",
      "    lidx = np.delete(lidx,-1) if len(lidx)%2==1 else lidx\n",
      "    lidx = np.append(np.matrix(lidx[range(0,len(lidx),2)]).transpose(), np.matrix(lidx[range(1,len(lidx),2)]).transpose() , 1)\n",
      "    lidx = np.squeeze(np.asarray(lidx)) #lidx = lidx.shape(-1,2) #puts idx into a two column matrix\n",
      "\n",
      "    ridx, = np.diff(arr[:, 1] > task_threshold[0]).nonzero()\n",
      "    ridx = np.delete(ridx,-1) if len(ridx)%2==1 else ridx\n",
      "        \n",
      "    ridx = np.append(np.matrix(ridx[range(0,len(ridx),2)]).transpose(), np.matrix(ridx[range(1,len(ridx),2)]).transpose() , 1)\n",
      "    ridx = np.squeeze(np.asarray(ridx)) #ridx = ridx.shape(-1,2) #puts idx into a two column matrix\n",
      "\n",
      "    #Check to make sure grasp is longer than time thresh:: IndexError: invalid index\n",
      "    e = None\n",
      "    try:\n",
      "        left =  lidx[lidx[:, 1] - lidx[:, 0] > task_threshold[1]]\n",
      "    except Exception as e:\n",
      "        left = None\n",
      "    \n",
      "    try:\n",
      "        right = ridx[ridx[:, 1] - ridx[:, 0] > task_threshold[1]]\n",
      "    except Exception as e:\n",
      "        right = None \n",
      "    \n",
      "    return (left, right, e)"
     ],
     "language": "python",
     "metadata": {},
     "outputs": [],
     "prompt_number": 2
    },
    {
     "cell_type": "code",
     "collapsed": false,
     "input": [
      "def download_codebook(date):\n",
      "    qs = \"SELECT dataset, task, json FROM data.codebooks WHERE date ='{0}'\".format('10-OCT-2012 1:33')\n",
      "    data = queryGoogle(qs)\n",
      "    \n",
      "    cdbkL = data['rows'][0]['f'][2]['v']\n",
      "    cdbkR = data['rows'][1]['f'][2]['v'] \n",
      "    cdbkL = np.array(json.loads(cdbkL))\n",
      "    cdbkR = np.array(json.loads(cdbkR))\n",
      "    \n",
      "    dataset = str(data['rows'][0]['f'][0]['v'])\n",
      "    task = str(data['rows'][0]['f'][1]['v'] )\n",
      "        \n",
      "    return cdbkL, cdbkR, dataset, task"
     ],
     "language": "python",
     "metadata": {},
     "outputs": [],
     "prompt_number": 1
    },
    {
     "cell_type": "code",
     "collapsed": false,
     "input": [],
     "language": "python",
     "metadata": {},
     "outputs": []
    }
   ],
   "metadata": {}
  }
 ]
}