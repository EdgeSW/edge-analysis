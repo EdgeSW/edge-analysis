{
 "metadata": {
  "name": "scratch_city"
 },
 "nbformat": 3,
 "nbformat_minor": 0,
 "worksheets": [
  {
   "cells": [
    {
     "cell_type": "code",
     "collapsed": false,
     "input": [
      "import sys, os\n",
      "sys.path.append('C:\\\\Users\\\\Tyler\\\\.ipython\\\\Simscore-Computing')\n",
      "import boto, time, json, pprint\n",
      "from datetime import datetime\n",
      "import numpy as np\n",
      "\n",
      "import scoring\n",
      "import fetch.myS3 as myS3\n",
      "import fetch.mySQS as mySQS\n",
      "import validity_metrics as vm\n",
      "from aws import aws_ak, aws_sk\n",
      "from boto.sqs.message import Message\n"
     ],
     "language": "python",
     "metadata": {},
     "outputs": [],
     "prompt_number": 4
    },
    {
     "cell_type": "code",
     "collapsed": false,
     "input": [
      "filename = 'edge8/2012/12/07.20.57.25.358.1.txt'\n",
      "\n",
      "conn = boto.connect_s3(aws_ak, aws_sk)\n",
      "bucket = conn.get_bucket('incoming-simscore-org')\n",
      "data, meta = myS3.getData(bucket, filename, labeled=True)"
     ],
     "language": "python",
     "metadata": {},
     "outputs": [],
     "prompt_number": 5
    },
    {
     "cell_type": "code",
     "collapsed": false,
     "input": [
      "for a in np.diff(data['Rot_L']):\n",
      "    if a > 1000: print a"
     ],
     "language": "python",
     "metadata": {},
     "outputs": [
      {
       "output_type": "stream",
       "stream": "stdout",
       "text": [
        "309237644.232\n",
        "309237644.52\n",
        "309237644.304\n"
       ]
      }
     ],
     "prompt_number": 11
    },
    {
     "cell_type": "code",
     "collapsed": false,
     "input": [
      "data['Rot_L'][:3000]+offset"
     ],
     "language": "python",
     "metadata": {},
     "outputs": [
      {
       "output_type": "pyout",
       "prompt_number": 18,
       "text": [
        "array([  3.09237593e+08,   3.09237589e+08,   3.09237587e+08, ...,\n",
        "        -2.59999999e+00,  -2.52800000e+00,  -2.52800000e+00])"
       ]
      }
     ],
     "prompt_number": 18
    },
    {
     "cell_type": "code",
     "collapsed": false,
     "input": [
      "offset = int(309237644.304/2)\n",
      "print data['Rot_L'][0] - offset"
     ],
     "language": "python",
     "metadata": {},
     "outputs": [
      {
       "output_type": "stream",
       "stream": "stdout",
       "text": [
        "-51.0399999917\n"
       ]
      }
     ],
     "prompt_number": 15
    },
    {
     "cell_type": "code",
     "collapsed": false,
     "input": [
      "print offset"
     ],
     "language": "python",
     "metadata": {},
     "outputs": [
      {
       "output_type": "stream",
       "stream": "stdout",
       "text": [
        "154618822\n"
       ]
      }
     ],
     "prompt_number": 24
    },
    {
     "cell_type": "code",
     "collapsed": false,
     "input": [
      "import matplotlib\n",
      "plot(data['Rot_L'][30:3000]+offset)\n"
     ],
     "language": "python",
     "metadata": {},
     "outputs": [
      {
       "output_type": "pyout",
       "prompt_number": 28,
       "text": [
        "[<matplotlib.lines.Line2D at 0xa1a5810>]"
       ]
      },
      {
       "output_type": "display_data",
       "png": "[encoded data removed]"
      }
     ],
     "prompt_number": 28
    },
    {
     "cell_type": "code",
     "collapsed": false,
     "input": [],
     "language": "python",
     "metadata": {},
     "outputs": []
    }
   ],
   "metadata": {}
  }
 ]
}