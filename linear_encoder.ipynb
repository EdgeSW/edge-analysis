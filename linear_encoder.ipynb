{
 "metadata": {
  "name": "linear_encoder"
 },
 "nbformat": 3,
 "nbformat_minor": 0,
 "worksheets": [
  {
   "cells": [
    {
     "cell_type": "code",
     "collapsed": false,
     "input": [
      "minfilename = 'edge6/2012/7/13.21.07.03.288.0.txt'#'edge6/2012/10/24.21.59.05.325.0.txt'\n",
      "bucketname = 'incoming-simscore-org'\n",
      "is_secure = False if '.' in bucketname else True\n",
      "maxfile, data = shape.getAllDataAfter(minfilename=minfilename, bucketname=bucketname, is_secure=is_secure)\n"
     ],
     "language": "python",
     "metadata": {},
     "outputs": []
    },
    {
     "cell_type": "code",
     "collapsed": false,
     "input": [
      "file = open('2012.7.13_data_onwards', 'rb')\n",
      "data = pickle.load(file)\n",
      "file.close()"
     ],
     "language": "python",
     "metadata": {},
     "outputs": [],
     "prompt_number": 2
    },
    {
     "cell_type": "code",
     "collapsed": false,
     "input": [
      "import sys, os\n",
      "sys.path.append('C:\\\\Users\\\\Tyler\\\\.ipython\\\\Simscore-Computing')\n",
      "import numpy as np\n",
      "from fetch.configuration import dtype\n",
      "import pickle\n",
      "import ast, json\n",
      "\n",
      "v = data[data.keys()[4]]\n",
      "'''\n",
      "x = ast.literal_eval(data[data.keys()[4]][1])\n",
      "print type(dtype)\n",
      "xx = np.array(x, dtype)#, dtype)\n",
      "print xx\n",
      "'''\n",
      "x = json.loads(v[1])\n",
      "xx = np.array(x)#, dtype=np.dtype(dtype))\n",
      "print type(xx)\n",
      "xx.dtype = np.dtype(dtype)\n",
      "\n",
      "#yy = np.rec.array(xx, np.dtype(dtype))\n",
      "\n",
      "print xx['Lin_L']"
     ],
     "language": "python",
     "metadata": {},
     "outputs": [
      {
       "output_type": "stream",
       "stream": "stdout",
       "text": [
        "<type 'numpy.ndarray'>\n",
        "[[-0.06 ]\n",
        " [-0.192]\n",
        " [-0.312]\n",
        " ..., \n",
        " [-0.02 ]\n",
        " [-0.02 ]\n",
        " [-0.02 ]]\n"
       ]
      }
     ],
     "prompt_number": 74
    },
    {
     "cell_type": "code",
     "collapsed": false,
     "input": [
      "k = 'edge8/2012/12/06.18.37.47.109.3'\n",
      "isClipTask = k[-1] == '3'\n",
      "isClipTask"
     ],
     "language": "python",
     "metadata": {},
     "outputs": [
      {
       "output_type": "pyout",
       "prompt_number": 76,
       "text": [
        "True"
       ]
      }
     ],
     "prompt_number": 76
    },
    {
     "cell_type": "code",
     "collapsed": false,
     "input": [
      "import sys, os\n",
      "sys.path.append('C:\\\\Users\\\\Tyler\\\\.ipython\\\\Simscore-Computing')\n",
      "\n",
      "import ast\n",
      "import pickle\n",
      "import numpy as np\n",
      "import validity_metrics as vm\n",
      "drift = {}\n",
      "\n",
      "for k, v in data.iteritems():\n",
      "    \n",
      "    #v= data.values()[4]\n",
      "    \n",
      "    if len(v)>1:\n",
      "        try:\n",
      "            xx = np.array(ast.literal_eval(v[1]))\n",
      "            #item 3 is Lin_L, item 9 is Lin_R\n",
      "            ld = round(vm.start_v_end(xx[:,3]), 4)\n",
      "            rd = round(vm.start_v_end(xx[:,9]), 4)\n",
      "            \n",
      "            if v[0]['EdgeToolIdLeftHex'] in drift.keys():\n",
      "                drift[v[0]['EdgeToolIdLeftHex']].append([ld, k])\n",
      "            else:\n",
      "                drift[v[0]['EdgeToolIdLeftHex']] = [[ld, k]]\n",
      "                \n",
      "            if v[0]['EdgeToolIdRightHex'] in drift.keys():\n",
      "                drift[v[0]['EdgeToolIdRightHex']].append([rd, k])\n",
      "            else:\n",
      "                drift[v[0]['EdgeToolIdRightHex']] = [[rd, k]]\n",
      "              \n",
      "        except:\n",
      "            #print 'bad data from:',k\n",
      "            pass\n",
      "        \n"
     ],
     "language": "python",
     "metadata": {},
     "outputs": [],
     "prompt_number": 5
    },
    {
     "cell_type": "code",
     "collapsed": false,
     "input": [
      "for k, v in drift.iteritems():\n",
      "    print k\n",
      "    print len(v)\n",
      "    for val in v:\n",
      "        if abs(val[0]) > 1:\n",
      "            print val\n"
     ],
     "language": "python",
     "metadata": {},
     "outputs": [
      {
       "output_type": "stream",
       "stream": "stdout",
       "text": [
        "00000008\n",
        "11\n",
        "[6.638, u'edge1/2012/10/08.15.22.48.323.1']\n",
        "C100002D\n",
        "6\n",
        "C0000015\n",
        "9\n",
        "[-8.161, u'edge0/2012/10/26.17.15.07.109.0']\n",
        "[-1.833, u'edge0/2012/10/31.22.37.26.109.0']\n",
        "[-1.322, u'edge12/2012/11/03.00.04.39.109.0']\n",
        "[4.258, u'edge0/2012/10/26.16.59.39.109.0']\n",
        "[-3.139, u'edge11/2012/11/09.18.52.06.109.0']\n",
        "00000040\n",
        "2\n",
        "C0000010\n",
        "1\n",
        "00000002\n",
        "2\n",
        "00000004\n",
        "9\n",
        "[1.895, u'edge7/2012/10/19.21.32.47.326.0']\n",
        "[1.26, u'edge7/2012/10/19.20.48.33.326.0']\n",
        "[2.34, u'edge7/2012/10/26.22.36.50.326.0']\n",
        "00000007\n",
        "9\n",
        "8100001F\n",
        "6\n",
        "41000026\n",
        "1\n",
        "01000022\n",
        "1\n",
        "01000021\n",
        "1\n",
        "02000036\n",
        "1\n",
        "81000020\n",
        "1\n",
        "02000033\n",
        "1\n",
        "02000030\n",
        "7\n",
        "[-1.34, u'edge1/2012/10/20.18.43.26.329.3']\n",
        "0100001D\n",
        "4\n",
        "[-1.015, u'edge11/2012/11/08.01.02.10.109.2']\n",
        "0100001B\n",
        "1\n",
        "8000000A\n",
        "2\n",
        "[-1.192, u'edge12/2012/11/03.00.04.39.109.0']\n",
        "C000000E\n",
        "3\n",
        "C000000D\n",
        "9\n",
        "[-15.821, u'edge7/2012/10/26.22.36.50.326.0']\n",
        "80000000\n",
        "1\n",
        "[1.286, u'edge3/2012/11/02.20.21.23.338.0']\n",
        "4000000F\n",
        "3\n",
        "80000003\n",
        "2\n",
        "80000005\n",
        "2\n",
        "01000018\n",
        "7\n",
        "[-1.036, u'edge6/2012/09/28.18.14.32.307.2']\n",
        "[2.867, u'edge6/2012/10/10.21.52.28.312.2']\n",
        "[-2.46, u'edge6/2012/10/24.22.43.02.325.2']\n",
        "[1.965, u'edge6/2012/10/08.18.45.09.313.2']\n",
        "4000000C\n",
        "18\n",
        "[2.294, u'edge1/2012/10/08.15.22.48.323.1']\n",
        "[1.41, u'edge1/2012/10/16.15.59.20.321.1']\n",
        "[-1.35, u'edge1/2012/10/16.16.18.19.321.3']\n",
        "[-2.021, u'edge1/2012/10/20.19.39.43.328.3']\n",
        "[1.53, u'edge1/2012/10/04.23.16.56.319.1']\n",
        "[-1.198, u'edge1/2012/10/20.18.33.01.329.0']\n",
        "[-1.002, u'edge1/2012/10/09.22.40.28.319.3']\n",
        "[1.518, u'edge1/2012/10/04.23.31.03.319.0']\n",
        "4100002F\n",
        "1\n",
        "40000014\n",
        "13\n",
        "[1.198, u'edge6/2012/10/24.22.22.51.325.3']\n",
        "[-1.729, u'edge6/2012/10/10.21.36.59.312.3']\n",
        "4100002C\n",
        "1\n",
        "[1.02, u'edge5/2012/10/12.19.48.59.324.2']\n",
        "40000012\n",
        "2\n",
        "4100002A\n",
        "7\n",
        "[1.899, u'edge6/2012/11/05.19.24.12.340.2']\n",
        "[2.887, u'edge6/2012/10/10.21.52.28.312.2']\n",
        "[1.699, u'edge6/2012/10/24.22.43.02.325.2']\n",
        "[2.746, u'edge6/2012/10/08.18.45.09.313.2']\n",
        "82000037\n",
        "9\n",
        "[-3.023, u'edge6/2012/10/08.18.26.32.313.3']\n",
        "C1000027\n",
        "4\n",
        "C1000024\n",
        "1\n"
       ]
      }
     ],
     "prompt_number": 6
    },
    {
     "cell_type": "code",
     "collapsed": false,
     "input": [
      "import matplotlib\n",
      "fig = plt.figure()\n",
      "n, bins, patches = hist( ggg ,50)\n"
     ],
     "language": "python",
     "metadata": {},
     "outputs": []
    },
    {
     "cell_type": "code",
     "collapsed": false,
     "input": [
      "\n",
      "# now create a file\n",
      "# replace filename with the file you want to create\n",
      "file = open('2012.7.13_data_onwards.txt', 'wb')\n",
      "# now let's pickle picklelist\n",
      "pickle.dump(data,file)\n",
      "# close the file, and your pickling is complete\n",
      "file.close()\n"
     ],
     "language": "python",
     "metadata": {},
     "outputs": [
      {
       "ename": "NameError",
       "evalue": "name 'data' is not defined",
       "output_type": "pyerr",
       "traceback": [
        "\u001b[1;31m---------------------------------------------------------------------------\u001b[0m\n\u001b[1;31mNameError\u001b[0m                                 Traceback (most recent call last)",
        "\u001b[1;32m<ipython-input-1-d5e8124e703e>\u001b[0m in \u001b[0;36m<module>\u001b[1;34m()\u001b[0m\n\u001b[0;32m      4\u001b[0m \u001b[0mfile\u001b[0m \u001b[1;33m=\u001b[0m \u001b[0mopen\u001b[0m\u001b[1;33m(\u001b[0m\u001b[1;34m'2012.7.13_data_onwards.txt'\u001b[0m\u001b[1;33m,\u001b[0m \u001b[1;34m'wb'\u001b[0m\u001b[1;33m)\u001b[0m\u001b[1;33m\u001b[0m\u001b[0m\n\u001b[0;32m      5\u001b[0m \u001b[1;31m# now let's pickle picklelist\u001b[0m\u001b[1;33m\u001b[0m\u001b[1;33m\u001b[0m\u001b[0m\n\u001b[1;32m----> 6\u001b[1;33m \u001b[0mpickle\u001b[0m\u001b[1;33m.\u001b[0m\u001b[0mdump\u001b[0m\u001b[1;33m(\u001b[0m\u001b[0mdata\u001b[0m\u001b[1;33m,\u001b[0m\u001b[0mfile\u001b[0m\u001b[1;33m)\u001b[0m\u001b[1;33m\u001b[0m\u001b[0m\n\u001b[0m\u001b[0;32m      7\u001b[0m \u001b[1;31m# close the file, and your pickling is complete\u001b[0m\u001b[1;33m\u001b[0m\u001b[1;33m\u001b[0m\u001b[0m\n\u001b[0;32m      8\u001b[0m \u001b[0mfile\u001b[0m\u001b[1;33m.\u001b[0m\u001b[0mclose\u001b[0m\u001b[1;33m(\u001b[0m\u001b[1;33m)\u001b[0m\u001b[1;33m\u001b[0m\u001b[0m\n",
        "\u001b[1;31mNameError\u001b[0m: name 'data' is not defined"
       ]
      }
     ],
     "prompt_number": 1
    }
   ],
   "metadata": {}
  }
 ]
}