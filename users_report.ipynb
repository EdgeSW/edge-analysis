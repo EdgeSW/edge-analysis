{
 "metadata": {
  "name": "users_report"
 },
 "nbformat": 3,
 "nbformat_minor": 0,
 "worksheets": [
  {
   "cells": [
    {
     "cell_type": "code",
     "collapsed": false,
     "input": [
      "import sys, os\n",
      "sys.path.append('C:\\\\Users\\\\Tyler\\\\.ipython\\\\Simscore-Computing')\n",
      "import boto, time, json, pprint\n",
      "from datetime import datetime, timedelta\n",
      "import numpy as np\n",
      "\n",
      "import fetch.myS3 as myS3\n",
      "import fetch.mySQS as mySQS\n",
      "import validity_metrics as vm\n",
      "from aws import aws_ak, aws_sk\n"
     ],
     "language": "python",
     "metadata": {},
     "outputs": [],
     "prompt_number": 1
    },
    {
     "cell_type": "code",
     "collapsed": false,
     "input": [
      "conn = boto.connect_s3(aws_ak, aws_sk)\n",
      "bucket = conn.get_bucket('incoming-simscore-org')\n",
      "allfiles = myS3.getFilesBetween(mindate=datetime.now()-timedelta(days=170), maxdate=datetime.now()-timedelta(days=79), bucket=bucket, onlyTxtFiles=True)"
     ],
     "language": "python",
     "metadata": {},
     "outputs": [],
     "prompt_number": 2
    },
    {
     "cell_type": "code",
     "collapsed": false,
     "input": [
      "userfiles = []\n",
      "for f in allfiles:\n",
      "    edge = f.split('/')[0][4:]\n",
      "    if f.split('.')[-3] != '109' and edge not in ['0','11','12']:\n",
      "        userfiles.append(f)\n",
      "        \n",
      "ffs = myS3.getTestFiles(userfiles, bucket) "
     ],
     "language": "python",
     "metadata": {},
     "outputs": [],
     "prompt_number": 7
    },
    {
     "cell_type": "code",
     "collapsed": false,
     "input": [
      "print ffs"
     ],
     "language": "python",
     "metadata": {},
     "outputs": [
      {
       "output_type": "stream",
       "stream": "stdout",
       "text": [
        "['edge10/2012/09/19.18.57.26.240.0.txt', 'edge10/2012/09/19.19.10.50.240.2.txt', 'edge10/2012/09/19.19.27.39.240.1.txt', 'edge10/2012/09/19.19.42.59.240.3.txt', 'edge6/2012/08/07.10.56.02.288.0.txt', 'edge6/2012/08/13.18.13.40.288.2.txt', 'edge6/2012/08/13.18.39.00.288.1.txt', 'edge6/2012/08/13.19.10.28.288.3.txt', 'edge6/2012/08/23.19.28.41.292.0.txt', 'edge6/2012/08/23.20.04.06.292.2.txt', 'edge6/2012/08/23.20.42.10.292.1.txt', 'edge6/2012/08/23.21.04.13.292.3.txt', 'edge6/2012/09/28.18.14.32.307.2.txt', 'edge6/2012/09/28.18.37.22.311.0.txt', 'edge6/2012/09/28.18.44.48.311.1.txt', 'edge6/2012/09/28.19.17.15.311.3.txt', 'edge6/2012/09/28.19.26.24.311.2.txt', 'edge8/2012/09/14.18.45.56.297.0.txt', 'edge8/2012/09/14.18.46.48.297.1.txt', 'edge8/2012/09/14.18.49.05.297.3.txt', 'edge8/2012/09/14.18.52.17.297.2.txt']\n"
       ]
      }
     ],
     "prompt_number": 8
    },
    {
     "cell_type": "code",
     "collapsed": false,
     "input": [
      "report = {}\n",
      "tasks = ['PegTx','Cutting','Suturing','ClipApply']\n",
      "%load_ext autoreload\n",
      "%autoreload\n",
      "\n",
      "for f in ffs:\n",
      "    print f\n",
      "    uid = f.split('.')[-3]\n",
      "    task = int(f.split('.')[-2])\n",
      "    if not report.get(uid, False): report[uid] = {'Summary':[0,0,0,0], tasks[0]:[], tasks[1]:[], tasks[2]:[], tasks[3]:[]}\n",
      "    \n",
      "    data, meta = myS3.getData(bucket, f, labeled=True)\n",
      "    #Compute Summary Metrics\n",
      "    jsonSimscore = vm.summary_metrics(meta, data, conn)\n",
      "    jsonSimscore = vm.data_metrics_append(jsonSimscore, data, f)\n",
      "    jsonSimscore = vm.machine_health_append(jsonSimscore, meta, data)\n",
      "    failtypes = jsonSimscore['FailTypes']\n",
      "    \n",
      "    report[uid]['Summary'][task] += 1\n",
      "    report[uid][tasks[task]].append([f, failtypes])\n",
      "        "
     ],
     "language": "python",
     "metadata": {},
     "outputs": [
      {
       "output_type": "stream",
       "stream": "stdout",
       "text": [
        "edge10/2012/09/19.18.57.26.240.0.txt\n",
        "edge10/2012/09/19.19.10.50.240.2.txt"
       ]
      },
      {
       "output_type": "stream",
       "stream": "stdout",
       "text": [
        "\n",
        "edge10/2012/09/19.19.27.39.240.1.txt"
       ]
      },
      {
       "output_type": "stream",
       "stream": "stdout",
       "text": [
        "\n",
        "edge10/2012/09/19.19.42.59.240.3.txt"
       ]
      },
      {
       "output_type": "stream",
       "stream": "stdout",
       "text": [
        "\n",
        "edge6/2012/08/07.10.56.02.288.0.txt"
       ]
      },
      {
       "output_type": "stream",
       "stream": "stdout",
       "text": [
        "\n",
        "edge6/2012/08/13.18.13.40.288.2.txt"
       ]
      },
      {
       "output_type": "stream",
       "stream": "stdout",
       "text": [
        "\n",
        "edge6/2012/08/13.18.39.00.288.1.txt"
       ]
      },
      {
       "output_type": "stream",
       "stream": "stdout",
       "text": [
        "\n",
        "edge6/2012/08/13.19.10.28.288.3.txt"
       ]
      },
      {
       "output_type": "stream",
       "stream": "stdout",
       "text": [
        "\n",
        "edge6/2012/08/23.19.28.41.292.0.txt"
       ]
      },
      {
       "output_type": "stream",
       "stream": "stdout",
       "text": [
        "\n",
        "edge6/2012/08/23.20.04.06.292.2.txt"
       ]
      },
      {
       "output_type": "stream",
       "stream": "stdout",
       "text": [
        "\n",
        "edge6/2012/08/23.20.42.10.292.1.txt"
       ]
      },
      {
       "output_type": "stream",
       "stream": "stdout",
       "text": [
        "\n",
        "edge6/2012/08/23.21.04.13.292.3.txt"
       ]
      },
      {
       "output_type": "stream",
       "stream": "stdout",
       "text": [
        "\n",
        "edge6/2012/09/28.18.14.32.307.2.txt"
       ]
      },
      {
       "output_type": "stream",
       "stream": "stdout",
       "text": [
        "\n",
        "edge6/2012/09/28.18.37.22.311.0.txt"
       ]
      },
      {
       "output_type": "stream",
       "stream": "stdout",
       "text": [
        "\n",
        "edge6/2012/09/28.18.44.48.311.1.txt"
       ]
      },
      {
       "output_type": "stream",
       "stream": "stdout",
       "text": [
        "\n",
        "edge6/2012/09/28.19.17.15.311.3.txt"
       ]
      },
      {
       "output_type": "stream",
       "stream": "stdout",
       "text": [
        "\n",
        "edge6/2012/09/28.19.26.24.311.2.txt"
       ]
      },
      {
       "output_type": "stream",
       "stream": "stdout",
       "text": [
        "\n",
        "edge8/2012/09/14.18.45.56.297.0.txt"
       ]
      },
      {
       "output_type": "stream",
       "stream": "stdout",
       "text": [
        "\n",
        "edge8/2012/09/14.18.46.48.297.1.txt"
       ]
      },
      {
       "output_type": "stream",
       "stream": "stdout",
       "text": [
        "\n",
        "edge8/2012/09/14.18.49.05.297.3.txt"
       ]
      },
      {
       "output_type": "stream",
       "stream": "stdout",
       "text": [
        "\n",
        "edge8/2012/09/14.18.52.17.297.2.txt"
       ]
      },
      {
       "output_type": "stream",
       "stream": "stdout",
       "text": [
        "\n"
       ]
      }
     ],
     "prompt_number": 17
    },
    {
     "cell_type": "code",
     "collapsed": false,
     "input": [
      "import scoring\n",
      "report = scoring.load_pickle('user_report.txt')"
     ],
     "language": "python",
     "metadata": {},
     "outputs": [],
     "prompt_number": 4
    },
    {
     "cell_type": "code",
     "collapsed": false,
     "input": [
      "import pprint\n",
      "pprint.pprint(report)"
     ],
     "language": "python",
     "metadata": {},
     "outputs": []
    },
    {
     "cell_type": "code",
     "collapsed": false,
     "input": [
      "%load_ext autoreload\n",
      "%autoreload\n",
      "\n",
      "import openpyxl, json\n",
      "from openpyxl.workbook import Workbook\n",
      "from openpyxl.writer.excel import ExcelWriter\n",
      "\n",
      "from openpyxl.cell import get_column_letter\n",
      "\n",
      "wb = Workbook()\n",
      "dest_filename = r'User_Report.xlsx'\n",
      "ws = wb.worksheets[0]\n",
      "ws.title = \"User Report\"\n",
      "\n",
      "tasks = ['PegTx','Cutting','Suturing','ClipApply']\n",
      "i = 1\n",
      "url = 'http://simscore.org/browse_simscore/show?bucket=incoming-simscore-org&path=/'\n",
      "for u in report:\n",
      "    ws.append([int(u), 'Tasks','Files','FailTypes','Links','Check'])\n",
      "    for task in tasks:\n",
      "        if report[u][task]: \n",
      "            for test in report[u][task]:\n",
      "                ws.append(['', task, test[0], json.dumps(test[1]), url+test[0]])\n",
      "        else:\n",
      "            ws.append(['', task])\n",
      "            \n",
      "    ws.append(['', 'Tests:', json.dumps(report[u]['Summary']) ])\n",
      "    ws.append(['', 'Needs:'])\n",
      "    ws.append(['', 'Redo:'])\n",
      "    ws.append(['', 'SUMMARY:'])\n",
      "    ws.append([''])\n",
      "    \n",
      "\n",
      "\n",
      "\n",
      "wb.save(filename = dest_filename)"
     ],
     "language": "python",
     "metadata": {},
     "outputs": [],
     "prompt_number": 18
    },
    {
     "cell_type": "code",
     "collapsed": false,
     "input": [
      "for k in report.keys():\n",
      "    filename = report[k]['Suturing'][0][0]\n",
      "    \n",
      "    print filename.split('/')[1]+'/'+filename.split('/')[2]+'/'+filename.split('/')[3].split('.')[0]"
     ],
     "language": "python",
     "metadata": {},
     "outputs": [
      {
       "output_type": "stream",
       "stream": "stdout",
       "text": [
        "2012/09/28\n",
        "2012/09/28\n",
        "2012/08/13\n",
        "2012/09/19\n",
        "2012/09/14\n",
        "2012/08/23\n"
       ]
      }
     ],
     "prompt_number": 20
    },
    {
     "cell_type": "code",
     "collapsed": false,
     "input": [
      "for col_idx in xrange(1, 40):\n",
      "    col = get_column_letter(col_idx)\n",
      "    for row in xrange(1, 600):\n",
      "        ws.cell('%s%s'%(col, row)).value = '%s%s' % (col, row)\n"
     ],
     "language": "python",
     "metadata": {},
     "outputs": []
    }
   ],
   "metadata": {}
  }
 ]
}