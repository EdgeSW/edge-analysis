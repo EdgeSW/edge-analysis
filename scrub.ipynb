{
 "metadata": {
  "name": "scrub"
 },
 "nbformat": 3,
 "nbformat_minor": 0,
 "worksheets": [
  {
   "cells": [
    {
     "cell_type": "code",
     "collapsed": false,
     "input": [
      "import numpy as np\n",
      "import scipy\n",
      "#from scipy.signal import butter, filtfilt"
     ],
     "language": "python",
     "metadata": {},
     "outputs": [],
     "prompt_number": 1
    },
    {
     "cell_type": "code",
     "collapsed": false,
     "input": [
      "def fixOffset(npdata, offset=1e8):    \n",
      "    '''cleans up data with large, instantaneous offsets (intended for Rot)'''\n",
      "    ndata = np.copy(npdata -npdata[0])\n",
      "    diffs = np.diff(ndata)\n",
      "    idxs = np.nonzero(abs(diffs) > offset)\n",
      "    \n",
      "    for idx in idxs[0]:\n",
      "        ndata[idx+1:] = ndata[idx+1:] - diffs[idx]\n",
      "        \n",
      "    return ndata"
     ],
     "language": "python",
     "metadata": {},
     "outputs": [],
     "prompt_number": 2
    },
    {
     "cell_type": "code",
     "collapsed": false,
     "input": [
      "def arcLength(d, th):\n",
      "    '''d = 3xn data (x, y, z) converted to arc length.\n",
      "Movement below th cut to zero, data should be filtered prior'''\n",
      "    pass"
     ],
     "language": "python",
     "metadata": {},
     "outputs": []
    },
    {
     "cell_type": "code",
     "collapsed": false,
     "input": [
      "def fb(data, i, howfar):\n",
      "    return (data(i+howfar)-data(i-howfar))\n",
      "\n",
      "def holo(data, h):\n",
      "    '''Calculate time derivative according to holoborodko's 11th order method\n",
      "http://www.holoborodko.com/pavel/numerical-methods/numerical-derivative/smooth-low-noise-differentiators/\n",
      "f = the data to be differentiated\n",
      "h = the step size, or change in time, between each sample'''\n",
      "    \n",
      "    df = np.zeros(len(data)) \n",
      "    s = 5 #depends on order of holoborodko\n",
      "    \n",
      "    pad1 = [2*data[0]]*s - data[s:0:-1]\n",
      "    pad2 = [2*data[-1]]*s - data[-2:-(s+2):-1]\n",
      "    f = np.append(np.append(pad1, data),pad2)\n",
      "    \n",
      "    for i in range(s, len(f)+s-1):\n",
      "        #Real 11th order Holoborodko\n",
      "        df[i] = (322*(f[i+1]-f[i-1])+256*(f[i+2]-f[i-2])+39*(f[i+3]-f[i-3])\n",
      "            -32*(f[i+4]-f[i-4])-11*(f[i+5]-f[i-5]) ) / (1536*h)\n",
      "            \n",
      "        '''#Deal with head/tail cases\n",
      "        elif i == 0: df[i] = (f[i+1]-f[i]) / h\n",
      "        elif i == len(f)-1: df[i] = (f[i]-f[i-1]) / h \n",
      "        elif i == 1 or i == len(f)-2:\n",
      "            df[i] = (f[i+1]-f[i-1])/(2*h)  \n",
      "        elif i == 2 or i == len(f)-3:\n",
      "            df[i] = (2*(f[i+1]-f[i-1])+f[i+2]-f[i-2])/(8*h)  \n",
      "        elif i == 3 or i == len(f)-4:\n",
      "            df[i] = (39*(f[i+1]-f[i-1])+12*(f[i+2]-f[i-2])-5*(f[i+3]-f[i-3])) / (96*h)      \n",
      "        elif i == 4 or i == len(f)-5:\n",
      "            df[i] = (27*(f[i+1]-f[i-1])+16*(f[i+2]-f[i-2])-(f[i+3]-f[i-3])-2*(f[i+4]-f[i-4])) / (96*h)\n",
      "        '''    \n",
      "    return df"
     ],
     "language": "python",
     "metadata": {},
     "outputs": [],
     "prompt_number": 36
    },
    {
     "cell_type": "code",
     "collapsed": false,
     "input": [
      "def butterLowpass(input_sig=None, N=10, Wn=5, Fs=None, filter_saftey_margin=1.15):\n",
      "    '''N = filter order, Wn is cutoff frequency, Fs is sampling frequency, \n",
      "safety_marign multiplies cutoff frequency to prevent data wipeout'''\n",
      "    b, a = scipy.signal.iirfilter(N, filter_saftey_margin*Wn/(Fs/2), btype='low', ftype='butter')\n",
      "    return scipy.signal.filtfilt(b, a, input_sig)"
     ],
     "language": "python",
     "metadata": {},
     "outputs": [],
     "prompt_number": 1
    },
    {
     "cell_type": "code",
     "collapsed": false,
     "input": [
      "def dRtaArctan(dRta):\n",
      "    '''(k\u0019pi/2)arctan(\u0019pi*dQ3/k) where k = 125\u000edeg*sec. See Timk Thesis p32'''\n",
      "    k = 125\n",
      "    return (k*np.pi/2) * np.arctan(np.pi*dRta/k)"
     ],
     "language": "python",
     "metadata": {},
     "outputs": [],
     "prompt_number": 24
    }
   ],
   "metadata": {}
  }
 ]
}