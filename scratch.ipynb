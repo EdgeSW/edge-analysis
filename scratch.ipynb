{
 "metadata": {
  "name": "scratch"
 },
 "nbformat": 3,
 "nbformat_minor": 0,
 "worksheets": [
  {
   "cells": [
    {
     "cell_type": "code",
     "collapsed": false,
     "input": [
      "import sys, os\n",
      "sys.path.append('C:\\\\Users\\\\Tyler\\\\.ipython\\\\Simscore-Computing')\n",
      "\n",
      "import boto\n",
      "import json\n",
      "import pycurl\n",
      "import validity_metrics as vm\n",
      "import report.simscore as sim\n",
      "import fetch.shapeS3 as shape\n",
      "from aws import aws_ak, aws_sk\n"
     ],
     "language": "python",
     "metadata": {},
     "outputs": [
      {
       "ename": "ImportError",
       "evalue": "cannot import name aws_ak",
       "output_type": "pyerr",
       "traceback": [
        "\u001b[1;31m---------------------------------------------------------------------------\u001b[0m\n\u001b[1;31mImportError\u001b[0m                               Traceback (most recent call last)",
        "\u001b[1;32m<ipython-input-47-4ea443cc36c5>\u001b[0m in \u001b[0;36m<module>\u001b[1;34m()\u001b[0m\n\u001b[0;32m      8\u001b[0m \u001b[1;32mimport\u001b[0m \u001b[0mreport\u001b[0m\u001b[1;33m.\u001b[0m\u001b[0msimscore\u001b[0m \u001b[1;32mas\u001b[0m \u001b[0msim\u001b[0m\u001b[1;33m\u001b[0m\u001b[0m\n\u001b[0;32m      9\u001b[0m \u001b[1;32mimport\u001b[0m \u001b[0mfetch\u001b[0m\u001b[1;33m.\u001b[0m\u001b[0mshapeS3\u001b[0m \u001b[1;32mas\u001b[0m \u001b[0mshape\u001b[0m\u001b[1;33m\u001b[0m\u001b[0m\n\u001b[1;32m---> 10\u001b[1;33m \u001b[1;32mfrom\u001b[0m \u001b[0maws\u001b[0m \u001b[1;32mimport\u001b[0m \u001b[0maws_ak\u001b[0m\u001b[1;33m,\u001b[0m \u001b[0maws_sk\u001b[0m\u001b[1;33m\u001b[0m\u001b[0m\n\u001b[0m",
        "\u001b[1;31mImportError\u001b[0m: cannot import name aws_ak"
       ]
      }
     ],
     "prompt_number": 47
    },
    {
     "cell_type": "code",
     "collapsed": false,
     "input": [
      "c = pycurl.Curl() \n",
      "%load_ext autoreload\n",
      "%autoreload\n",
      "compute = 'http://dev.simscore.md3productions.com/simscores-v1/machinereport'\n",
      "#login = 'http://simscore.org/simscores-v1/user/login'\n",
      "login = 'http://dev.simscore.md3productions.com/simscores-v1/user/login'\n",
      "\n",
      "\n",
      "\n",
      "%load_ext autoreload\n",
      "if sim.is_expired_cookie(c):\n",
      "    c, buf = sim.loginSimscore(c, address=login)\n",
      "    print c.getinfo(pycurl.HTTP_CODE)\n",
      "    print buf.getvalue()"
     ],
     "language": "python",
     "metadata": {},
     "outputs": [
      {
       "output_type": "stream",
       "stream": "stdout",
       "text": [
        "200\n",
        "{\"sessid\":\"SgHAp_LTalXnQx0WKxUegbZv86EpBztM2oMVGee5Hd0\",\"session_name\":\"SESS2ba34ea6b2cb8b62e54d7460474f7f7e\",\"user\":{\"uid\":\"404\",\"name\":\"grading\",\"mail\":\"grading@simscore.org\",\"theme\":\"\",\"signature\":\"\",\"signature_format\":\"full_html\",\"created\":\"1354312829\",\"access\":\"1354580190\",\"login\":1354580266,\"status\":\"1\",\"timezone\":null,\"language\":\"\",\"picture\":\"0\",\"init\":\"grading@simscore.org\",\"data\":false,\"roles\":{\"2\":\"authenticated user\",\"16\":\"grading client service user\"},\"group_audience\":{\"und\":[{\"gid\":\"3\",\"state\":\"1\",\"created\":\"1354580179\"},{\"gid\":\"4\",\"state\":\"1\",\"created\":\"1354580179\"},{\"gid\":\"5\",\"state\":\"1\",\"created\":\"1354580179\"},{\"gid\":\"6\",\"state\":\"1\",\"created\":\"1354580179\"},{\"gid\":\"7\",\"state\":\"1\",\"created\":\"1354580179\"},{\"gid\":\"8\",\"state\":\"1\",\"created\":\"1354580179\"},{\"gid\":\"9\",\"state\":\"1\",\"created\":\"1354580179\"},{\"gid\":\"10\",\"state\":\"1\",\"created\":\"1354580179\"},{\"gid\":\"11\",\"state\":\"1\",\"created\":\"1354580179\"},{\"gid\":\"12\",\"state\":\"1\",\"created\":\"1354580179\"},{\"gid\":\"13\",\"state\":\"1\",\"created\":\"1354580179\"},{\"gid\":\"14\",\"state\":\"1\",\"created\":\"1354580179\"},{\"gid\":\"15\",\"state\":\"1\",\"created\":\"1354580179\"},{\"gid\":\"16\",\"state\":\"1\",\"created\":\"1354580179\"}]},\"field_institution_other\":[],\"field_blus_exam_id\":[],\"field_user_simulab_id\":[],\"rdf_mapping\":{\"rdftype\":[\"sioc:UserAccount\"],\"name\":{\"predicates\":[\"foaf:name\"]},\"homepage\":{\"predicates\":[\"foaf:page\"],\"type\":\"rel\"}}}}\n"
       ]
      }
     ],
     "prompt_number": 22
    },
    {
     "cell_type": "code",
     "collapsed": false,
     "input": [
      "bucketname = 'incoming-simscore-org'\n",
      "filename = 'edge6/2012/11/05.19.16.31.340.3.txt'\n",
      "data, meta = shape.getData(filename, bucketname, is_secure=True)\n",
      "#Compute Summary Metrics\n",
      "jsonSimscore = vm.summary_metrics(meta,data)\n",
      "#Compute additional data validity metrics\n",
      "jsonSimscore = vm.data_metrics_append(jsonSimscore, data, filename)\n",
      "#Compute machine health metrics\n",
      "jsonSimscore = vm.machine_health_append(jsonSimscore, meta, data)\n",
      "jsonSimscore = vm.round_dict(jsonSimscore,3)\n",
      "print 'jsonSimscore computed!'"
     ],
     "language": "python",
     "metadata": {},
     "outputs": [
      {
       "output_type": "stream",
       "stream": "stdout",
       "text": [
        "jsonSimscore computed!\n"
       ]
      }
     ],
     "prompt_number": 23
    },
    {
     "cell_type": "code",
     "collapsed": false,
     "input": [
      "compute = 'http://dev.simscore.md3productions.com/simscores-v1/machinereport' \n",
      "pp = sim.RESTfields(address=compute, header=['Content-Type: application/json'], values=json.dumps(jsonSimscore))\n",
      "c, out = pp.posthttp(c)\n",
      "print c.getinfo(c.HTTP_CODE)\n",
      "print out.getvalue()"
     ],
     "language": "python",
     "metadata": {},
     "outputs": [
      {
       "output_type": "stream",
       "stream": "stdout",
       "text": [
        "200\n",
        "{\"mhid\":\"49\",\"trid\":\"50\"}\n"
       ]
      }
     ],
     "prompt_number": 24
    },
    {
     "cell_type": "code",
     "collapsed": false,
     "input": [
      "(c.HTTP_CODE)"
     ],
     "language": "python",
     "metadata": {},
     "outputs": [
      {
       "output_type": "pyout",
       "prompt_number": 18,
       "text": [
        "2097154"
       ]
      }
     ],
     "prompt_number": 18
    },
    {
     "cell_type": "code",
     "collapsed": false,
     "input": [
      "import time \n",
      "logout='http://dev.simscore.md3productions.com/simscores-v1/user/logout'\n",
      "c = sim.logoutSimscore(c, address=logout)\n",
      "print c.getinfo(pycurl.HTTP_CODE)\n",
      "\n",
      "\n",
      "#print buf.getvalue()"
     ],
     "language": "python",
     "metadata": {},
     "outputs": [
      {
       "ename": "error",
       "evalue": "cannot invoke setopt() - no curl handle",
       "output_type": "pyerr",
       "traceback": [
        "\u001b[1;31m---------------------------------------------------------------------------\u001b[0m\n\u001b[1;31merror\u001b[0m                                     Traceback (most recent call last)",
        "\u001b[1;32m<ipython-input-9-9ccd233e02cb>\u001b[0m in \u001b[0;36m<module>\u001b[1;34m()\u001b[0m\n\u001b[0;32m      1\u001b[0m \u001b[1;32mimport\u001b[0m \u001b[0mtime\u001b[0m\u001b[1;33m\u001b[0m\u001b[0m\n\u001b[0;32m      2\u001b[0m \u001b[0mlogout\u001b[0m\u001b[1;33m=\u001b[0m\u001b[1;34m'http://dev.simscore.md3productions.com/simscores-v1/user/logout'\u001b[0m\u001b[1;33m\u001b[0m\u001b[0m\n\u001b[1;32m----> 3\u001b[1;33m \u001b[0mc\u001b[0m \u001b[1;33m=\u001b[0m \u001b[0msim\u001b[0m\u001b[1;33m.\u001b[0m\u001b[0mlogoutSimscore\u001b[0m\u001b[1;33m(\u001b[0m\u001b[0mc\u001b[0m\u001b[1;33m,\u001b[0m \u001b[0maddress\u001b[0m\u001b[1;33m=\u001b[0m\u001b[0mlogout\u001b[0m\u001b[1;33m)\u001b[0m\u001b[1;33m\u001b[0m\u001b[0m\n\u001b[0m\u001b[0;32m      4\u001b[0m \u001b[1;32mprint\u001b[0m \u001b[0mc\u001b[0m\u001b[1;33m.\u001b[0m\u001b[0mgetinfo\u001b[0m\u001b[1;33m(\u001b[0m\u001b[0mpycurl\u001b[0m\u001b[1;33m.\u001b[0m\u001b[0mHTTP_CODE\u001b[0m\u001b[1;33m)\u001b[0m\u001b[1;33m\u001b[0m\u001b[0m\n\u001b[0;32m      5\u001b[0m \u001b[1;33m\u001b[0m\u001b[0m\n",
        "\u001b[1;32mC:\\Users\\Tyler\\.ipython\\Simscore-Computing\\report\\simscore.py\u001b[0m in \u001b[0;36mlogoutSimscore\u001b[1;34m(c, address)\u001b[0m\n\u001b[0;32m     53\u001b[0m     \u001b[1;32mif\u001b[0m \u001b[0mp\u001b[0m\u001b[1;33m.\u001b[0m\u001b[0maddress\u001b[0m\u001b[1;33m==\u001b[0m\u001b[0mNone\u001b[0m\u001b[1;33m:\u001b[0m \u001b[0mp\u001b[0m\u001b[1;33m.\u001b[0m\u001b[0maddress\u001b[0m \u001b[1;33m=\u001b[0m \u001b[1;34m'http://simscore.org/simscores-v1/user/logout'\u001b[0m\u001b[1;33m\u001b[0m\u001b[0m\n\u001b[0;32m     54\u001b[0m \u001b[1;33m\u001b[0m\u001b[0m\n\u001b[1;32m---> 55\u001b[1;33m     \u001b[0mc\u001b[0m\u001b[1;33m,\u001b[0m \u001b[0mbuf\u001b[0m \u001b[1;33m=\u001b[0m \u001b[0mp\u001b[0m\u001b[1;33m.\u001b[0m\u001b[0mposthttp\u001b[0m\u001b[1;33m(\u001b[0m\u001b[0mc\u001b[0m\u001b[1;33m)\u001b[0m\u001b[1;33m\u001b[0m\u001b[0m\n\u001b[0m\u001b[0;32m     56\u001b[0m     \u001b[0mc\u001b[0m\u001b[1;33m.\u001b[0m\u001b[0mclose\u001b[0m\u001b[1;33m(\u001b[0m\u001b[1;33m)\u001b[0m\u001b[1;33m\u001b[0m\u001b[0m\n\u001b[0;32m     57\u001b[0m     \u001b[1;32mreturn\u001b[0m \u001b[0mc\u001b[0m\u001b[1;33m\u001b[0m\u001b[0m\n",
        "\u001b[1;32mC:\\Users\\Tyler\\.ipython\\Simscore-Computing\\report\\simscore.py\u001b[0m in \u001b[0;36mposthttp\u001b[1;34m(self, c)\u001b[0m\n\u001b[0;32m     23\u001b[0m         \u001b[0mbuf\u001b[0m  \u001b[1;33m=\u001b[0m \u001b[0mcStringIO\u001b[0m\u001b[1;33m.\u001b[0m\u001b[0mStringIO\u001b[0m\u001b[1;33m(\u001b[0m\u001b[1;33m)\u001b[0m\u001b[1;33m\u001b[0m\u001b[0m\n\u001b[0;32m     24\u001b[0m \u001b[1;33m\u001b[0m\u001b[0m\n\u001b[1;32m---> 25\u001b[1;33m         \u001b[0mc\u001b[0m\u001b[1;33m.\u001b[0m\u001b[0msetopt\u001b[0m\u001b[1;33m(\u001b[0m\u001b[0mc\u001b[0m\u001b[1;33m.\u001b[0m\u001b[0mURL\u001b[0m\u001b[1;33m,\u001b[0m \u001b[0mself\u001b[0m\u001b[1;33m.\u001b[0m\u001b[0maddress\u001b[0m\u001b[1;33m)\u001b[0m\u001b[1;33m\u001b[0m\u001b[0m\n\u001b[0m\u001b[0;32m     26\u001b[0m         \u001b[0mc\u001b[0m\u001b[1;33m.\u001b[0m\u001b[0msetopt\u001b[0m\u001b[1;33m(\u001b[0m\u001b[0mc\u001b[0m\u001b[1;33m.\u001b[0m\u001b[0mHTTPHEADER\u001b[0m\u001b[1;33m,\u001b[0m \u001b[0mself\u001b[0m\u001b[1;33m.\u001b[0m\u001b[0mheader\u001b[0m\u001b[1;33m)\u001b[0m\u001b[1;33m\u001b[0m\u001b[0m\n\u001b[0;32m     27\u001b[0m         \u001b[1;32mif\u001b[0m \u001b[0mself\u001b[0m\u001b[1;33m.\u001b[0m\u001b[0mvalues\u001b[0m\u001b[1;33m:\u001b[0m\u001b[1;33m\u001b[0m\u001b[0m\n",
        "\u001b[1;31merror\u001b[0m: cannot invoke setopt() - no curl handle"
       ]
      }
     ],
     "prompt_number": 9
    },
    {
     "cell_type": "code",
     "collapsed": false,
     "input": [
      "json.dumps({'username': 'grading', 'password': 'r*tFQqmb'})"
     ],
     "language": "python",
     "metadata": {},
     "outputs": [
      {
       "output_type": "pyout",
       "prompt_number": 53,
       "text": [
        "'{\"username\": \"grading\", \"password\": \"r*tFQqmb\"}'"
       ]
      }
     ],
     "prompt_number": 53
    },
    {
     "cell_type": "heading",
     "level": 1,
     "metadata": {},
     "source": [
      "SQS "
     ]
    },
    {
     "cell_type": "code",
     "collapsed": false,
     "input": [
      "conn = boto.connect_sqs(\n",
      "        aws_access_key_id=aws_access_key,\n",
      "        aws_secret_access_key=aws_secret_key)\n",
      "\n",
      "q = conn.get_queue('EdgeFiles2Process')\n",
      "q.set_message_class(boto.sqs.message.RawMessage)\n",
      "rs = q.read()\n",
      "print rs.get_body()\n"
     ],
     "language": "python",
     "metadata": {},
     "outputs": [
      {
       "output_type": "stream",
       "stream": "stdout",
       "text": [
        "{\n",
        "  \"Type\" : \"Notification\",\n",
        "  \"MessageId\" : \"2421dfd7-6405-4471-b720-cef9a41964f7\",\n",
        "  \"TopicArn\" : \"arn:aws:sns:us-east-1:409355352037:test\",\n",
        "  \"Subject\" : \"Junk\",\n",
        "  \"Message\" : \"edge12/2012/11/14.17.08.01.109.2.log\",\n",
        "  \"Timestamp\" : \"2012-11-19T17:56:49.450Z\",\n",
        "  \"SignatureVersion\" : \"1\",\n",
        "  \"Signature\" : \"Q2SezqosZKlu15iGugq7iST1QWK5ekBtzoO5+hJb2UZh/QKe3COoLrzo+pGATPMXqov5cPOSzoMCYwu42wS63Sb2BQbhCK9gDvSaNk1cWkOZXQCvWHg2+/TVFfzjChWhghhz4F8paeEi3G0BY3ihsO4YZ793YeLk+RME9kFqeME=\",\n",
        "  \"SigningCertURL\" : \"https://sns.us-east-1.amazonaws.com/SimpleNotificationService-f3ecfb7224c7233fe7bb5f59f96de52f.pem\",\n",
        "  \"UnsubscribeURL\" : \"https://sns.us-east-1.amazonaws.com/?Action=Unsubscribe&SubscriptionArn=arn:aws:sns:us-east-1:409355352037:test:a487a5f1-a577-4568-9884-23454fed1cc0\"\n",
        "}\n"
       ]
      }
     ],
     "prompt_number": 7
    },
    {
     "cell_type": "code",
     "collapsed": false,
     "input": [
      "bucketname = 'incoming-simscore-org'\n",
      "filename = 'edge6/2012/11/05.19.16.31.340.3.txt'\n",
      "data, meta = shape.getData(filename, bucketname, is_secure=True)\n",
      "#Compute Summary Metrics\n",
      "jsonSimscore = vm.summary_metrics(meta,data)\n",
      "#Compute additional data validity metrics\n",
      "jsonSimscore = vm.data_metrics_append(jsonSimscore, data, filename)\n",
      "#Compute machine health metrics\n",
      "jsonSimscore = vm.machine_health_append(jsonSimscore, meta, data)\n",
      "jsonSimscore = vm.round_dict(jsonSimscore,3)\n",
      "print 'jsonSimscore computed!'"
     ],
     "language": "python",
     "metadata": {},
     "outputs": [
      {
       "output_type": "pyout",
       "prompt_number": 13,
       "text": [
        "u'edge12/2012/11/14.17.08.01.109.2.txt'"
       ]
      }
     ],
     "prompt_number": 13
    },
    {
     "cell_type": "code",
     "collapsed": false,
     "input": [
      "qq = conn.get_queue('Files2Ship')\n",
      "from boto.sqs.message import Message\n",
      "\n",
      "for i in range(1, 11):\n",
      "   m = Message()\n",
      "   m.set_body(json.dumps(jsonSimscore))\n",
      "   qq.write(m)\n",
      "\n"
     ],
     "language": "python",
     "metadata": {},
     "outputs": [],
     "prompt_number": 20
    },
    {
     "cell_type": "heading",
     "level": 2,
     "metadata": {},
     "source": [
      "SDB"
     ]
    },
    {
     "cell_type": "code",
     "collapsed": false,
     "input": [
      "import sys, os, boto\n",
      "sys.path.append('C:\\\\Users\\\\Tyler\\\\.ipython\\\\Simscore-Computing')\n",
      "from aws import aws_access_key, aws_secret_key\n",
      "\n",
      "conn = boto.connect_sdb(\n",
      "        aws_access_key_id=aws_access_key,\n",
      "        aws_secret_access_key=aws_secret_key)"
     ],
     "language": "python",
     "metadata": {},
     "outputs": [],
     "prompt_number": 15
    },
    {
     "cell_type": "code",
     "collapsed": false,
     "input": [
      "domain = conn.get_domain('ProcessedEdgeFiles')\n",
      "\n",
      "item = domain.new_item('edge12/2013/10/14.17.08.01.109.2')\n",
      "item['IsProcessed'] = True\n",
      "item['IsSent'] = False\n",
      "item['UploadDate'] = '2012/11/14.17.08.01'\n",
      "item['Score'] = 1\n",
      "item['UserID'] = 192\n",
      "item.save()"
     ],
     "language": "python",
     "metadata": {},
     "outputs": [],
     "prompt_number": 31
    },
    {
     "cell_type": "code",
     "collapsed": false,
     "input": [
      "domain.put_attributes('edge12/2013/10/14.17.08.01.109.2',{'Score':'55'},replace=False)"
     ],
     "language": "python",
     "metadata": {},
     "outputs": [
      {
       "output_type": "pyout",
       "prompt_number": 46,
       "text": [
        "True"
       ]
      }
     ],
     "prompt_number": 46
    },
    {
     "cell_type": "code",
     "collapsed": false,
     "input": [
      "data = domain.get_item('edge12/2013/11/14.17.08.01.109.2')"
     ],
     "language": "python",
     "metadata": {},
     "outputs": [],
     "prompt_number": 23
    },
    {
     "cell_type": "code",
     "collapsed": false,
     "input": [
      "dom_name = 'ProcessedEdgeFiles'\n",
      "#syntax: select * from `ProcessedEdgeFiles` where Score>'2' \n",
      "#alt syntax: select * from `ProcessedEdgeFiles` where IsSent='True' and IsProcessed='True'\n",
      "query = \"select {0} from `{1}` where {2}\".format('*', dom_name, \"IsSent='True' \")\n",
      "print query\n",
      "rs = domain.select(query)\n",
      "for item in rs:\n",
      "    print item.name, item"
     ],
     "language": "python",
     "metadata": {},
     "outputs": [
      {
       "output_type": "stream",
       "stream": "stdout",
       "text": [
        "select * from `ProcessedEdgeFiles` where Score>'2'\n",
        "edge12/2013/11/14.17.08.01.109.2"
       ]
      },
      {
       "output_type": "stream",
       "stream": "stdout",
       "text": [
        " {u'UserID': u'124', u'Score': u'88.12', u'IsSent': u'True', u'UploadDate': u'2012/11/14.17.08.01', u'IsProcessed': u'True'}\n",
        "edge12/2013/12/14.17.08.01.109.2 {u'UserID': u'124', u'Score': u'88.12', u'IsSent': u'False', u'UploadDate': u'2012/11/14.17.08.01', u'IsProcessed': u'True'}\n"
       ]
      }
     ],
     "prompt_number": 44
    },
    {
     "cell_type": "code",
     "collapsed": false,
     "input": [],
     "language": "python",
     "metadata": {},
     "outputs": []
    }
   ],
   "metadata": {}
  }
 ]
}