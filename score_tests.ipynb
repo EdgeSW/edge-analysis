{
 "metadata": {
  "name": "score_tests"
 },
 "nbformat": 3,
 "nbformat_minor": 0,
 "worksheets": [
  {
   "cells": [
    {
     "cell_type": "code",
     "collapsed": false,
     "input": [
      "%load_ext autoreload\n",
      "%autoreload 2\n",
      "from datetime import datetime\n",
      "from scoring import *\n",
      "import scipy.cluster.vq as vq\n",
      "import nltk, pdb, ipdb\n",
      "import pickle, cStringIO, ast, json\n",
      "import fetch.shapeS3 as shape\n",
      "import fetch.fetchS3 as fetchS3\n",
      "import pickle"
     ],
     "language": "python",
     "metadata": {},
     "outputs": [],
     "prompt_number": 1
    },
    {
     "cell_type": "heading",
     "level": 4,
     "metadata": {},
     "source": [
      "Load the Data"
     ]
    },
    {
     "cell_type": "code",
     "collapsed": false,
     "input": [
      "### Get Codebook if Needed\n",
      "#sut_cdbkL, sut_cdbkR, a, b = vqr.download_codebook('10-OCT-2012 1:33')\n",
      "f = open(r'C:\\Users\\Tyler\\.ipython\\Simscore-Computing\\sut_cdbkL', 'r')\n",
      "sut_cdbkL = pickle.load(f)\n",
      "f.close()\n",
      "f = open(r'C:\\Users\\Tyler\\.ipython\\Simscore-Computing\\sut_cdbkR', 'r')\n",
      "sut_cdbkR = pickle.load(f)\n",
      "f.close\n",
      "\n",
      "# replace filename with the file you want to create\n",
      "#file = open('humblewriter', 'w')\n",
      "#pickle.dump(m,file)\n",
      "#file.close()\n",
      "\n",
      "###Open Saved HMM \n",
      "#unpicklefile = open('trainedNovL', 'r') #in Ubuntu\n",
      "f = open(r'C:\\Users\\Tyler\\.ipython\\HMM-Train\\suturingNovL', 'r')\n",
      "suturingNovL = pickle.load(f)\n",
      "f.close()\n",
      "f = open(r'C:\\Users\\Tyler\\.ipython\\HMM-Train\\suturingExpL', 'r')\n",
      "suturingExpL = pickle.load(f)\n",
      "f.close()\n",
      "print suturingExpL"
     ],
     "language": "python",
     "metadata": {},
     "outputs": [
      {
       "output_type": "stream",
       "stream": "stdout",
       "text": [
        "<HiddenMarkovModelTagger 15 states and 70 output symbols>\n"
       ]
      }
     ],
     "prompt_number": 2
    },
    {
     "cell_type": "code",
     "collapsed": false,
     "input": [
      "'''import pickle\n",
      "# now create a file\n",
      "# replace filename with the file you want to create\n",
      "file = open('sut_cdbkR', 'w')\n",
      "# now let's pickle picklelist\n",
      "pickle.dump(sut_cdbkR,file)\n",
      "# close the file, and your pickling is complete\n",
      "file.close()'''\n",
      "\n"
     ],
     "language": "python",
     "metadata": {},
     "outputs": [
      {
       "output_type": "pyout",
       "prompt_number": 3,
       "text": [
        "\"import pickle\\n# now create a file\\n# replace filename with the file you want to create\\nfile = open('sut_cdbkR', 'w')\\n# now let's pickle picklelist\\npickle.dump(sut_cdbkR,file)\\n# close the file, and your pickling is complete\\nfile.close()\""
       ]
      }
     ],
     "prompt_number": 3
    },
    {
     "cell_type": "code",
     "collapsed": false,
     "input": [
      "'''load data from local file'''\n",
      "from numpy import genfromtxt\n",
      "\n",
      "#'Time' 'Q1L' 'Q2L' 'dL' 'Q3L-rel' 'QgL' 'FgL' 'Q1R' 'Q2R' 'dR' 'Q3R-rel' 'QgR' 'FgR' 'xL' 'yL' 'zL' 'xR' 'yR' 'zR'\n",
      "#exam_rawdata = genfromtxt(r'C:\\Users\\Tyler\\Google Drive\\CSVs\\LSU_Subj205_Suturing_01.27.2011-11.05.41_EDGE3.txt', delimiter=',') #A true Novice\n",
      "\n",
      "'''filename = 'edge6/2012/10/24.21.59.05.325.0.txt'\n",
      "bucketname = 'incoming-simscore-org'\n",
      "is_secure = False if '.' in bucketname else True\n",
      "exam_rawdata, meta = shape.getData(filename, bucketname, is_secure=is_secure)'''\n",
      "\n",
      "exam_rawdata = genfromtxt(r'C:\\Users\\Tyler\\Google Drive\\CSVs\\LSU_Subj223_Suturing_01.29.2011-15.13.30_EDGE3.txt ', delimiter=',')# A true Expert\n"
     ],
     "language": "python",
     "metadata": {},
     "outputs": [],
     "prompt_number": 4
    },
    {
     "cell_type": "heading",
     "level": 4,
     "metadata": {},
     "source": [
      "Prep the Data"
     ]
    },
    {
     "cell_type": "code",
     "collapsed": false,
     "input": [
      "'''Segment the data that will be scored'''\n",
      "FgLR = exam_rawdata[:,[6,12]]\n",
      "seg_idxs = segment_exam('suturing',FgLR)\n",
      "\n",
      "graspsegsLR = getGrasps(seg_idxs, exam_rawdata)\n",
      "\n"
     ],
     "language": "python",
     "metadata": {},
     "outputs": [],
     "prompt_number": 5
    },
    {
     "cell_type": "heading",
     "level": 4,
     "metadata": {},
     "source": [
      "Score the Data"
     ]
    },
    {
     "cell_type": "code",
     "collapsed": false,
     "input": [
      "'''Compute log probability of each grasp segment for each hand'''\n",
      "#For each segment in the Left Hand\n",
      "logprobNovL = 0; logprobExpL = 0; i=0\n",
      "#start = datetime.now()\n",
      "\n",
      "def score_log_prob(cdbk, seg_encod):\n",
      "    lp = cdbk.log_probability( [(t,None) for t in seg_encod]) / len(seg_encod)\n",
      "    if lp > -1e290:\n",
      "        return lp\n",
      "    else: \n",
      "        print 'segment %d shows zero probability' %i\n",
      "        return 0\n",
      "    \n",
      "    \n",
      "for seg in graspsegsLR['left']:\n",
      "    print i; \n",
      "    #Encode the data\n",
      "    seg_encod, dist = vq.vq(seg, sut_cdbkL)\n",
      "    \n",
      "    logprobNovL += score_log_prob(suturingNovL, seg_encod)\n",
      "    logprobExpL += score_log_prob(suturingExpL, seg_encod)\n",
      "    i += 1\n",
      "print logprobNovL, logprobExpL\n",
      "\n",
      "#print datetime.now() - start"
     ],
     "language": "python",
     "metadata": {},
     "outputs": [
      {
       "output_type": "stream",
       "stream": "stdout",
       "text": [
        "0\n",
        "1"
       ]
      },
      {
       "output_type": "stream",
       "stream": "stdout",
       "text": [
        "\n",
        "2"
       ]
      },
      {
       "output_type": "stream",
       "stream": "stdout",
       "text": [
        "\n",
        "3"
       ]
      },
      {
       "output_type": "stream",
       "stream": "stdout",
       "text": [
        "\n",
        "segment 3 shows zero probability"
       ]
      },
      {
       "output_type": "stream",
       "stream": "stdout",
       "text": [
        "\n",
        "segment 3 shows zero probability"
       ]
      },
      {
       "output_type": "stream",
       "stream": "stdout",
       "text": [
        "\n",
        "4\n",
        "5"
       ]
      },
      {
       "output_type": "stream",
       "stream": "stdout",
       "text": [
        "\n",
        "-16.8642612931"
       ]
      },
      {
       "output_type": "stream",
       "stream": "stdout",
       "text": [
        " -15.9719410337\n"
       ]
      }
     ],
     "prompt_number": 18
    },
    {
     "cell_type": "code",
     "collapsed": false,
     "input": [
      "#vq.vq(graspsegsLR['left'][3], cdbkL) #WHY is that one number so small...it's clearly the log of zero\n",
      "if 2**(-4.04858299595e+297) < 1e-100:\n",
      "    print 'small'\n",
      "else: print 'big'"
     ],
     "language": "python",
     "metadata": {},
     "outputs": [
      {
       "output_type": "stream",
       "stream": "stdout",
       "text": [
        "small\n"
       ]
      }
     ],
     "prompt_number": 10
    },
    {
     "cell_type": "heading",
     "level": 2,
     "metadata": {},
     "source": [
      "Functions"
     ]
    },
    {
     "cell_type": "code",
     "collapsed": false,
     "input": [
      "type([('33',None)])"
     ],
     "language": "python",
     "metadata": {},
     "outputs": [
      {
       "output_type": "pyout",
       "prompt_number": 3,
       "text": [
        "list"
       ]
      }
     ],
     "prompt_number": 3
    },
    {
     "cell_type": "code",
     "collapsed": false,
     "input": [],
     "language": "python",
     "metadata": {},
     "outputs": [],
     "prompt_number": 12
    },
    {
     "cell_type": "code",
     "collapsed": false,
     "input": [],
     "language": "python",
     "metadata": {},
     "outputs": []
    }
   ],
   "metadata": {}
  }
 ]
}