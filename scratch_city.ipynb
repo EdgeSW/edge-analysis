{
 "metadata": {
  "name": "scratch_city"
 },
 "nbformat": 3,
 "nbformat_minor": 0,
 "worksheets": [
  {
   "cells": [
    {
     "cell_type": "code",
     "collapsed": false,
     "input": [
      "import sys, os\n",
      "#sys.path.append('C:\\\\Users\\\\Tyler\\\\.ipython\\\\Simscore-Computing')\n",
      "import boto, time, json, pprint\n",
      "from datetime import datetime\n",
      "import numpy as np\n",
      "\n",
      "import scoring\n",
      "import fetch.myS3 as myS3\n",
      "import fetch.mySQS as mySQS\n",
      "import validity_metrics as vm\n",
      "from aws import aws_ak, aws_sk\n",
      "from boto.sqs.message import Message\n"
     ],
     "language": "python",
     "metadata": {},
     "outputs": [],
     "prompt_number": 6
    },
    {
     "cell_type": "code",
     "collapsed": false,
     "input": [
      "filename = 'edge4/2012/11/29.00.15.18.109.0.txt'\n",
      "conn = boto.connect_s3(aws_ak, aws_sk)\n",
      "bucket = conn.get_bucket('incoming-simscore-org')\n",
      "data, meta = myS3.getData(bucket, filename, labeled=True)"
     ],
     "language": "python",
     "metadata": {},
     "outputs": [],
     "prompt_number": 2
    },
    {
     "cell_type": "code",
     "collapsed": false,
     "input": [
      "import report.validate as validate\n",
      "from fetch.configuration import isClipTask\n",
      "minmax = validate.findMinMax(data)\n",
      "validate.findNans(data, isClipTask(filename))"
     ],
     "language": "python",
     "metadata": {},
     "outputs": [
      {
       "output_type": "pyout",
       "prompt_number": 9,
       "text": [
        "['Fg_R']"
       ]
      }
     ],
     "prompt_number": 9
    },
    {
     "cell_type": "code",
     "collapsed": false,
     "input": [
      "print type(data['Fg_R'][0])"
     ],
     "language": "python",
     "metadata": {},
     "outputs": [
      {
       "output_type": "stream",
       "stream": "stdout",
       "text": [
        "<type 'numpy.float64'>\n"
       ]
      }
     ],
     "prompt_number": 11
    },
    {
     "cell_type": "code",
     "collapsed": false,
     "input": [],
     "language": "python",
     "metadata": {},
     "outputs": []
    }
   ],
   "metadata": {}
  }
 ]
}