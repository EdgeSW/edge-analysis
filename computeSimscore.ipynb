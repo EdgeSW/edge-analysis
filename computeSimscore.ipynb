{
 "metadata": {
  "name": "computeSimscore"
 },
 "nbformat": 3,
 "nbformat_minor": 0,
 "worksheets": [
  {
   "cells": [
    {
     "cell_type": "heading",
     "level": 4,
     "metadata": {},
     "source": [
      "Determine metadata, validity metrics, HMM score and add to Simscore queue"
     ]
    },
    {
     "cell_type": "code",
     "collapsed": false,
     "input": [
      "import sys, os\n",
      "sys.path.append('C:\\\\Users\\\\Tyler\\\\.ipython\\\\Simscore-Computing')\n",
      "import boto, time, json, pprint\n",
      "from datetime import datetime\n",
      "import numpy as np\n",
      "\n",
      "import scoring\n",
      "import fetch.myS3 as myS3\n",
      "import fetch.mySQS as mySQS\n",
      "import validity_metrics as vm\n",
      "from aws import aws_ak, aws_sk\n",
      "from boto.sqs.message import Message\n"
     ],
     "language": "python",
     "metadata": {},
     "outputs": [],
     "prompt_number": 1
    },
    {
     "cell_type": "code",
     "collapsed": false,
     "input": [
      "def send_fail(failure, conn): \n",
      "    conn.send_email(source='thartley@simulab.com',\n",
      "        subject='computeSimscore.py Errors', format='html',\n",
      "        body=failure, to_addresses=['thartley@simulab.com'])\n",
      "    \n",
      "def logit(log, message):\n",
      "    log.write(message)\n",
      "    log.flush()\n",
      "    \n",
      "def add_file_sdb(domain, meta):\n",
      "    attrs = {'IsProcessed':True, 'IsSent':False, 'UploadDateUnix':meta['UploadDateUnix'], 'UploadDate':meta['UploadDate'],'Score':meta['Score'], \n",
      "            'FailTypes':meta['FailTypes'], 'IsPractice':meta['IsPractice'], 'UserID':meta['UserID']}\n",
      "    return domain.put_attributes(meta['TestID'],attrs)\n",
      "\n",
      "    \n",
      "#add if __name__ == '__main__':"
     ],
     "language": "python",
     "metadata": {},
     "outputs": [],
     "prompt_number": 2
    },
    {
     "cell_type": "code",
     "collapsed": false,
     "input": [
      "# Open up log file to write pycurl info to\n",
      "log = open (os.getcwd()+'\\\\ComputeFails.log', 'a')\n",
      "logit(log,'{0}\\n{1}\\n{2}\\n{0}\\n'.format('*'*26,datetime.now(),'Booting up computeSimscore.py'))\n",
      "\n",
      "'''Define Connections'''\n",
      "#connect to S3\n",
      "conn = boto.connect_s3(aws_ak, aws_sk)\n",
      "bucket = conn.get_bucket('incoming-simscore-org')\n",
      "#Connect to sqs\n",
      "sqs_conn = boto.connect_sqs(aws_ak, aws_sk)\n",
      "q = sqs_conn.get_queue('EdgeFiles2Process')\n",
      "q.set_message_class(boto.sqs.message.RawMessage)\n",
      "shipq = sqs_conn.get_queue('Files2Ship')\n",
      "#Connect to ses\n",
      "ses_conn = boto.connect_ses(aws_ak, aws_sk)\n",
      "#Connect to SimpleDB\n",
      "sdb_conn = boto.connect_sdb(aws_ak, aws_sk)\n",
      "sdb_domain = sdb_conn.get_domain('ProcessedEdgeFiles')\n",
      "\n",
      "#Load in codebooks, hmms:"
     ],
     "language": "python",
     "metadata": {},
     "outputs": [],
     "prompt_number": 3
    },
    {
     "cell_type": "code",
     "collapsed": false,
     "input": [
      "'''Run Eternally'''\n",
      "while True:  \n",
      "    \n",
      "    #Get a file off the SQS stack using 20sec long poll\n",
      "    rs = q.read(wait_time_seconds=20)\n",
      "    \n",
      "    #if there's a file in the queue,\n",
      "    if rs:\n",
      "        '''Compute all metrics'''\n",
      "        try:\n",
      "            #Pull filename from S3\n",
      "            filename = mySQS.get_sqs_filename(rs) #'edge6/2012/11/05.18.46.23.340.0.txt'\n",
      "            data, meta = myS3.getData(bucket, filename, labeled=True)\n",
      "            logit(log,'{0}\\n{1}\\nProcessing {2}\\n'.format('-'*20,datetime.now(),filename) )\n",
      "            \n",
      "            '''Where the magic happens'''\n",
      "            #Compute Summary Metrics\n",
      "            jsonSimscore = vm.summary_metrics(meta, data, conn)\n",
      "            jsonSimscore = vm.data_metrics_append(jsonSimscore, data, filename)\n",
      "            jsonSimscore = vm.machine_health_append(jsonSimscore, meta, data)\n",
      "            #Score data\n",
      "            jsonSimscore.update({'Score': scoring.score_test(data, meta)} )\n",
      "            \n",
      "            #Processing is completed --Add this jsonSimscore to new SQS stack for POST\n",
      "            jsonSimscore = vm.round_dict(jsonSimscore,3)\n",
      "            logit(log,'Successfully processed.\\n'); print 'Successfully processed.'\n",
      "            \n",
      "        except Exception as err:\n",
      "            #make more invisible, print/log exception, email me, then continue\n",
      "            #rs.change_visibility(5*60)\n",
      "            logit(log,'ERROR: %s - %s\\n'%(filename, str(err)) )\n",
      "            if filename == None: filename = 'Unknown'\n",
      "            send_fail('Error computing {0}. computeSimscore.py error: {1}.'.format(filename, err), ses_conn)\n",
      "            raise #remove, replace with continue\n",
      "            \n",
      "        '''Add to queue for shipSimscore'''\n",
      "        try:\n",
      "            receipt = mySQS.append_to_queue(jsonSimscore, shipq, raw=False)\n",
      "            assert receipt, \"Could not write to queue\"    \n",
      "            #If json is DEFINITELY received by new SQS, delete from original Files2Process queue\n",
      "            d = q.delete_message(rs)\n",
      "            \n",
      "            assert d, \"Could not delete from queue\"\n",
      "            logit(log, 'Deleted from queue\\n'); print 'Deleted %s from queue' %filename\n",
      "                        \n",
      "            s = add_file_sdb(sdb_domain, jsonSimscore)\n",
      "            assert s, \"SimpleDB not updated\"\n",
      "            logit(log, \"Updated SimpleDB\\n\")\n",
      "            \n",
      "        except Exception as err:\n",
      "            rs.change_visibility(5*60)\n",
      "            logit(log, 'ERROR: %s\\n'%str(err) )\n",
      "            send_fail('Error sending {0}. computeSimscore.py error: {1}.'.format(filename, err), ses_conn)    \n",
      "          \n",
      "print 'done'"
     ],
     "language": "python",
     "metadata": {},
     "outputs": [
      {
       "output_type": "stream",
       "stream": "stdout",
       "text": [
        "Successfully processed.\n",
        "Deleted edge9/2012/12/11.22.55.48.109.3.txt from queue"
       ]
      },
      {
       "output_type": "stream",
       "stream": "stdout",
       "text": [
        "\n",
        "Successfully processed."
       ]
      },
      {
       "output_type": "stream",
       "stream": "stdout",
       "text": [
        "\n",
        "Deleted edge9/2012/12/11.22.53.20.109.0.txt from queue"
       ]
      },
      {
       "output_type": "stream",
       "stream": "stdout",
       "text": [
        "\n",
        "Successfully processed."
       ]
      },
      {
       "output_type": "stream",
       "stream": "stdout",
       "text": [
        "\n",
        "Deleted edge8/2012/12/11.15.45.54.297.2.txt from queue"
       ]
      },
      {
       "output_type": "stream",
       "stream": "stdout",
       "text": [
        "\n",
        "Successfully processed."
       ]
      },
      {
       "output_type": "stream",
       "stream": "stdout",
       "text": [
        "\n",
        "Deleted edge9/2012/12/11.22.46.52.109.2.txt from queue"
       ]
      },
      {
       "output_type": "stream",
       "stream": "stdout",
       "text": [
        "\n",
        "Successfully processed."
       ]
      },
      {
       "output_type": "stream",
       "stream": "stdout",
       "text": [
        "\n",
        "Deleted edge6/2012/12/07.18.30.47.345.3.txt from queue"
       ]
      },
      {
       "output_type": "stream",
       "stream": "stdout",
       "text": [
        "\n",
        "Successfully processed."
       ]
      },
      {
       "output_type": "stream",
       "stream": "stdout",
       "text": [
        "\n",
        "Deleted edge8/2012/12/07.19.36.57.357.0.txt from queue"
       ]
      },
      {
       "output_type": "stream",
       "stream": "stdout",
       "text": [
        "\n",
        "Successfully processed."
       ]
      },
      {
       "output_type": "stream",
       "stream": "stdout",
       "text": [
        "\n",
        "Deleted edge8/2012/12/07.19.45.40.357.1.txt from queue"
       ]
      },
      {
       "output_type": "stream",
       "stream": "stdout",
       "text": [
        "\n",
        "Successfully processed."
       ]
      },
      {
       "output_type": "stream",
       "stream": "stdout",
       "text": [
        "\n",
        "Deleted edge7/2012/12/07.16.17.59.109.3.txt from queue"
       ]
      },
      {
       "output_type": "stream",
       "stream": "stdout",
       "text": [
        "\n",
        "Successfully processed."
       ]
      },
      {
       "output_type": "stream",
       "stream": "stdout",
       "text": [
        "\n",
        "Deleted edge7/2012/12/07.15.37.27.109.2.txt from queue"
       ]
      },
      {
       "output_type": "stream",
       "stream": "stdout",
       "text": [
        "\n",
        "Successfully processed."
       ]
      },
      {
       "output_type": "stream",
       "stream": "stdout",
       "text": [
        "\n",
        "Deleted edge7/2012/12/07.18.56.55.109.0.txt from queue"
       ]
      },
      {
       "output_type": "stream",
       "stream": "stdout",
       "text": [
        "\n",
        "Successfully processed."
       ]
      },
      {
       "output_type": "stream",
       "stream": "stdout",
       "text": [
        "\n",
        "Deleted edge8/2012/12/07.20.38.27.358.0.txt from queue"
       ]
      },
      {
       "output_type": "stream",
       "stream": "stdout",
       "text": [
        "\n",
        "Successfully processed."
       ]
      },
      {
       "output_type": "stream",
       "stream": "stdout",
       "text": [
        "\n",
        "Deleted edge7/2012/12/07.15.42.40.109.3.txt from queue"
       ]
      },
      {
       "output_type": "stream",
       "stream": "stdout",
       "text": [
        "\n",
        "Successfully processed."
       ]
      },
      {
       "output_type": "stream",
       "stream": "stdout",
       "text": [
        "\n",
        "Deleted edge8/2012/12/07.21.19.31.358.2.txt from queue"
       ]
      },
      {
       "output_type": "stream",
       "stream": "stdout",
       "text": [
        "\n",
        "Successfully processed."
       ]
      },
      {
       "output_type": "stream",
       "stream": "stdout",
       "text": [
        "\n",
        "Deleted edge8/2012/12/07.20.43.45.358.0.txt from queue"
       ]
      },
      {
       "output_type": "stream",
       "stream": "stdout",
       "text": [
        "\n",
        "Successfully processed."
       ]
      },
      {
       "output_type": "stream",
       "stream": "stdout",
       "text": [
        "\n",
        "Deleted edge7/2012/12/07.18.57.56.109.1.txt from queue"
       ]
      },
      {
       "output_type": "stream",
       "stream": "stdout",
       "text": [
        "\n",
        "Successfully processed."
       ]
      },
      {
       "output_type": "stream",
       "stream": "stdout",
       "text": [
        "\n",
        "Deleted edge7/2012/12/07.18.57.22.109.0.txt from queue"
       ]
      },
      {
       "output_type": "stream",
       "stream": "stdout",
       "text": [
        "\n",
        "Successfully processed."
       ]
      },
      {
       "output_type": "stream",
       "stream": "stdout",
       "text": [
        "\n",
        "Deleted edge8/2012/12/07.19.54.31.357.2.txt from queue"
       ]
      },
      {
       "output_type": "stream",
       "stream": "stdout",
       "text": [
        "\n",
        "Successfully processed."
       ]
      },
      {
       "output_type": "stream",
       "stream": "stdout",
       "text": [
        "\n",
        "Deleted edge7/2012/12/07.19.01.29.109.2.txt from queue"
       ]
      },
      {
       "output_type": "stream",
       "stream": "stdout",
       "text": [
        "\n",
        "Successfully processed."
       ]
      },
      {
       "output_type": "stream",
       "stream": "stdout",
       "text": [
        "\n",
        "Deleted edge8/2012/12/07.21.13.01.358.2.txt from queue"
       ]
      },
      {
       "output_type": "stream",
       "stream": "stdout",
       "text": [
        "\n",
        "Successfully processed."
       ]
      },
      {
       "output_type": "stream",
       "stream": "stdout",
       "text": [
        "\n",
        "Deleted edge8/2012/12/07.16.42.34.297.2.txt from queue"
       ]
      },
      {
       "output_type": "stream",
       "stream": "stdout",
       "text": [
        "\n",
        "Successfully processed."
       ]
      },
      {
       "output_type": "stream",
       "stream": "stdout",
       "text": [
        "\n",
        "Deleted edge7/2012/12/07.16.19.36.109.1.txt from queue"
       ]
      },
      {
       "output_type": "stream",
       "stream": "stdout",
       "text": [
        "\n",
        "Successfully processed."
       ]
      },
      {
       "output_type": "stream",
       "stream": "stdout",
       "text": [
        "\n",
        "Deleted edge8/2012/12/07.19.40.03.357.0.txt from queue"
       ]
      },
      {
       "output_type": "stream",
       "stream": "stdout",
       "text": [
        "\n",
        "Successfully processed."
       ]
      },
      {
       "output_type": "stream",
       "stream": "stdout",
       "text": [
        "\n",
        "Deleted edge7/2012/12/07.18.56.25.109.0.txt from queue"
       ]
      },
      {
       "output_type": "stream",
       "stream": "stdout",
       "text": [
        "\n",
        "Successfully processed."
       ]
      },
      {
       "output_type": "stream",
       "stream": "stdout",
       "text": [
        "\n",
        "Deleted edge7/2012/12/07.16.20.08.109.0.txt from queue"
       ]
      },
      {
       "output_type": "stream",
       "stream": "stdout",
       "text": [
        "\n",
        "Successfully processed."
       ]
      },
      {
       "output_type": "stream",
       "stream": "stdout",
       "text": [
        "\n",
        "Deleted edge7/2012/12/07.18.59.38.109.3.txt from queue"
       ]
      },
      {
       "output_type": "stream",
       "stream": "stdout",
       "text": [
        "\n",
        "Successfully processed."
       ]
      },
      {
       "output_type": "stream",
       "stream": "stdout",
       "text": [
        "\n",
        "Deleted edge8/2012/12/07.20.50.39.358.1.txt from queue"
       ]
      },
      {
       "output_type": "stream",
       "stream": "stdout",
       "text": [
        "\n",
        "Successfully processed."
       ]
      },
      {
       "output_type": "stream",
       "stream": "stdout",
       "text": [
        "\n",
        "Deleted edge8/2012/12/07.16.46.42.297.2.txt from queue"
       ]
      },
      {
       "output_type": "stream",
       "stream": "stdout",
       "text": [
        "\n",
        "Successfully processed."
       ]
      },
      {
       "output_type": "stream",
       "stream": "stdout",
       "text": [
        "\n",
        "Deleted edge8/2012/12/07.18.01.23.297.2.txt from queue"
       ]
      },
      {
       "output_type": "stream",
       "stream": "stdout",
       "text": [
        "\n",
        "Successfully processed."
       ]
      },
      {
       "output_type": "stream",
       "stream": "stdout",
       "text": [
        "\n",
        "Deleted edge8/2012/12/07.19.53.03.357.2.txt from queue"
       ]
      },
      {
       "output_type": "stream",
       "stream": "stdout",
       "text": [
        "\n",
        "Successfully processed."
       ]
      },
      {
       "output_type": "stream",
       "stream": "stdout",
       "text": [
        "\n",
        "Deleted edge8/2012/12/07.17.55.16.297.2.txt from queue"
       ]
      },
      {
       "output_type": "stream",
       "stream": "stdout",
       "text": [
        "\n",
        "Successfully processed."
       ]
      },
      {
       "output_type": "stream",
       "stream": "stdout",
       "text": [
        "\n",
        "Deleted edge8/2012/12/07.20.57.25.358.1.txt from queue"
       ]
      },
      {
       "output_type": "stream",
       "stream": "stdout",
       "text": [
        "\n",
        "Successfully processed."
       ]
      },
      {
       "output_type": "stream",
       "stream": "stdout",
       "text": [
        "\n",
        "Deleted edge8/2012/12/07.21.04.17.358.2.txt from queue"
       ]
      },
      {
       "output_type": "stream",
       "stream": "stdout",
       "text": [
        "\n",
        "Successfully processed."
       ]
      },
      {
       "output_type": "stream",
       "stream": "stdout",
       "text": [
        "\n",
        "Deleted edge8/2012/12/07.21.19.21.358.2.txt from queue"
       ]
      },
      {
       "ename": "KeyboardInterrupt",
       "evalue": "",
       "output_type": "pyerr",
       "traceback": [
        "\u001b[1;31m---------------------------------------------------------------------------\u001b[0m\n\u001b[1;31mKeyboardInterrupt\u001b[0m                         Traceback (most recent call last)",
        "\u001b[1;32m<ipython-input-6-e7c169d17244>\u001b[0m in \u001b[0;36m<module>\u001b[1;34m()\u001b[0m\n\u001b[0;32m      3\u001b[0m \u001b[1;33m\u001b[0m\u001b[0m\n\u001b[0;32m      4\u001b[0m     \u001b[1;31m#Get a file off the SQS stack using 20sec long poll\u001b[0m\u001b[1;33m\u001b[0m\u001b[1;33m\u001b[0m\u001b[0m\n\u001b[1;32m----> 5\u001b[1;33m     \u001b[0mrs\u001b[0m \u001b[1;33m=\u001b[0m \u001b[0mq\u001b[0m\u001b[1;33m.\u001b[0m\u001b[0mread\u001b[0m\u001b[1;33m(\u001b[0m\u001b[0mwait_time_seconds\u001b[0m\u001b[1;33m=\u001b[0m\u001b[1;36m20\u001b[0m\u001b[1;33m)\u001b[0m\u001b[1;33m\u001b[0m\u001b[0m\n\u001b[0m\u001b[0;32m      6\u001b[0m \u001b[1;33m\u001b[0m\u001b[0m\n\u001b[0;32m      7\u001b[0m     \u001b[1;31m#if there's a file in the queue,\u001b[0m\u001b[1;33m\u001b[0m\u001b[1;33m\u001b[0m\u001b[0m\n",
        "\u001b[1;32mC:\\Python27\\lib\\site-packages\\boto\\sqs\\queue.pyc\u001b[0m in \u001b[0;36mread\u001b[1;34m(self, visibility_timeout, wait_time_seconds)\u001b[0m\n\u001b[0;32m    194\u001b[0m         \"\"\"\n\u001b[0;32m    195\u001b[0m         rs = self.get_messages(1, visibility_timeout,\n\u001b[1;32m--> 196\u001b[1;33m                                wait_time_seconds=wait_time_seconds)\n\u001b[0m\u001b[0;32m    197\u001b[0m         \u001b[1;32mif\u001b[0m \u001b[0mlen\u001b[0m\u001b[1;33m(\u001b[0m\u001b[0mrs\u001b[0m\u001b[1;33m)\u001b[0m \u001b[1;33m==\u001b[0m \u001b[1;36m1\u001b[0m\u001b[1;33m:\u001b[0m\u001b[1;33m\u001b[0m\u001b[0m\n\u001b[0;32m    198\u001b[0m             \u001b[1;32mreturn\u001b[0m \u001b[0mrs\u001b[0m\u001b[1;33m[\u001b[0m\u001b[1;36m0\u001b[0m\u001b[1;33m]\u001b[0m\u001b[1;33m\u001b[0m\u001b[0m\n",
        "\u001b[1;32mC:\\Python27\\lib\\site-packages\\boto\\sqs\\queue.pyc\u001b[0m in \u001b[0;36mget_messages\u001b[1;34m(self, num_messages, visibility_timeout, attributes, wait_time_seconds)\u001b[0m\n\u001b[0;32m    279\u001b[0m             \u001b[0mself\u001b[0m\u001b[1;33m,\u001b[0m \u001b[0mnumber_messages\u001b[0m\u001b[1;33m=\u001b[0m\u001b[0mnum_messages\u001b[0m\u001b[1;33m,\u001b[0m\u001b[1;33m\u001b[0m\u001b[0m\n\u001b[0;32m    280\u001b[0m             \u001b[0mvisibility_timeout\u001b[0m\u001b[1;33m=\u001b[0m\u001b[0mvisibility_timeout\u001b[0m\u001b[1;33m,\u001b[0m \u001b[0mattributes\u001b[0m\u001b[1;33m=\u001b[0m\u001b[0mattributes\u001b[0m\u001b[1;33m,\u001b[0m\u001b[1;33m\u001b[0m\u001b[0m\n\u001b[1;32m--> 281\u001b[1;33m             wait_time_seconds=wait_time_seconds)\n\u001b[0m\u001b[0;32m    282\u001b[0m \u001b[1;33m\u001b[0m\u001b[0m\n\u001b[0;32m    283\u001b[0m     \u001b[1;32mdef\u001b[0m \u001b[0mdelete_message\u001b[0m\u001b[1;33m(\u001b[0m\u001b[0mself\u001b[0m\u001b[1;33m,\u001b[0m \u001b[0mmessage\u001b[0m\u001b[1;33m)\u001b[0m\u001b[1;33m:\u001b[0m\u001b[1;33m\u001b[0m\u001b[0m\n",
        "\u001b[1;32mC:\\Python27\\lib\\site-packages\\boto\\sqs\\connection.pyc\u001b[0m in \u001b[0;36mreceive_message\u001b[1;34m(self, queue, number_messages, visibility_timeout, attributes, wait_time_seconds)\u001b[0m\n\u001b[0;32m    190\u001b[0m         return self.get_list('ReceiveMessage', params,\n\u001b[0;32m    191\u001b[0m                              \u001b[1;33m[\u001b[0m\u001b[1;33m(\u001b[0m\u001b[1;34m'Message'\u001b[0m\u001b[1;33m,\u001b[0m \u001b[0mqueue\u001b[0m\u001b[1;33m.\u001b[0m\u001b[0mmessage_class\u001b[0m\u001b[1;33m)\u001b[0m\u001b[1;33m]\u001b[0m\u001b[1;33m,\u001b[0m\u001b[1;33m\u001b[0m\u001b[0m\n\u001b[1;32m--> 192\u001b[1;33m                              queue.id, queue)\n\u001b[0m\u001b[0;32m    193\u001b[0m \u001b[1;33m\u001b[0m\u001b[0m\n\u001b[0;32m    194\u001b[0m     \u001b[1;32mdef\u001b[0m \u001b[0mdelete_message\u001b[0m\u001b[1;33m(\u001b[0m\u001b[0mself\u001b[0m\u001b[1;33m,\u001b[0m \u001b[0mqueue\u001b[0m\u001b[1;33m,\u001b[0m \u001b[0mmessage\u001b[0m\u001b[1;33m)\u001b[0m\u001b[1;33m:\u001b[0m\u001b[1;33m\u001b[0m\u001b[0m\n",
        "\u001b[1;32mC:\\Python27\\lib\\site-packages\\boto\\connection.pyc\u001b[0m in \u001b[0;36mget_list\u001b[1;34m(self, action, params, markers, path, parent, verb)\u001b[0m\n\u001b[0;32m    964\u001b[0m         \u001b[1;32mif\u001b[0m \u001b[1;32mnot\u001b[0m \u001b[0mparent\u001b[0m\u001b[1;33m:\u001b[0m\u001b[1;33m\u001b[0m\u001b[0m\n\u001b[0;32m    965\u001b[0m             \u001b[0mparent\u001b[0m \u001b[1;33m=\u001b[0m \u001b[0mself\u001b[0m\u001b[1;33m\u001b[0m\u001b[0m\n\u001b[1;32m--> 966\u001b[1;33m         \u001b[0mresponse\u001b[0m \u001b[1;33m=\u001b[0m \u001b[0mself\u001b[0m\u001b[1;33m.\u001b[0m\u001b[0mmake_request\u001b[0m\u001b[1;33m(\u001b[0m\u001b[0maction\u001b[0m\u001b[1;33m,\u001b[0m \u001b[0mparams\u001b[0m\u001b[1;33m,\u001b[0m \u001b[0mpath\u001b[0m\u001b[1;33m,\u001b[0m \u001b[0mverb\u001b[0m\u001b[1;33m)\u001b[0m\u001b[1;33m\u001b[0m\u001b[0m\n\u001b[0m\u001b[0;32m    967\u001b[0m         \u001b[0mbody\u001b[0m \u001b[1;33m=\u001b[0m \u001b[0mresponse\u001b[0m\u001b[1;33m.\u001b[0m\u001b[0mread\u001b[0m\u001b[1;33m(\u001b[0m\u001b[1;33m)\u001b[0m\u001b[1;33m\u001b[0m\u001b[0m\n\u001b[0;32m    968\u001b[0m         \u001b[0mboto\u001b[0m\u001b[1;33m.\u001b[0m\u001b[0mlog\u001b[0m\u001b[1;33m.\u001b[0m\u001b[0mdebug\u001b[0m\u001b[1;33m(\u001b[0m\u001b[0mbody\u001b[0m\u001b[1;33m)\u001b[0m\u001b[1;33m\u001b[0m\u001b[0m\n",
        "\u001b[1;32mC:\\Python27\\lib\\site-packages\\boto\\connection.pyc\u001b[0m in \u001b[0;36mmake_request\u001b[1;34m(self, action, params, path, verb)\u001b[0m\n\u001b[0;32m    950\u001b[0m         \u001b[1;32mif\u001b[0m \u001b[0mself\u001b[0m\u001b[1;33m.\u001b[0m\u001b[0mAPIVersion\u001b[0m\u001b[1;33m:\u001b[0m\u001b[1;33m\u001b[0m\u001b[0m\n\u001b[0;32m    951\u001b[0m             \u001b[0mhttp_request\u001b[0m\u001b[1;33m.\u001b[0m\u001b[0mparams\u001b[0m\u001b[1;33m[\u001b[0m\u001b[1;34m'Version'\u001b[0m\u001b[1;33m]\u001b[0m \u001b[1;33m=\u001b[0m \u001b[0mself\u001b[0m\u001b[1;33m.\u001b[0m\u001b[0mAPIVersion\u001b[0m\u001b[1;33m\u001b[0m\u001b[0m\n\u001b[1;32m--> 952\u001b[1;33m         \u001b[1;32mreturn\u001b[0m \u001b[0mself\u001b[0m\u001b[1;33m.\u001b[0m\u001b[0m_mexe\u001b[0m\u001b[1;33m(\u001b[0m\u001b[0mhttp_request\u001b[0m\u001b[1;33m)\u001b[0m\u001b[1;33m\u001b[0m\u001b[0m\n\u001b[0m\u001b[0;32m    953\u001b[0m \u001b[1;33m\u001b[0m\u001b[0m\n\u001b[0;32m    954\u001b[0m     \u001b[1;32mdef\u001b[0m \u001b[0mbuild_list_params\u001b[0m\u001b[1;33m(\u001b[0m\u001b[0mself\u001b[0m\u001b[1;33m,\u001b[0m \u001b[0mparams\u001b[0m\u001b[1;33m,\u001b[0m \u001b[0mitems\u001b[0m\u001b[1;33m,\u001b[0m \u001b[0mlabel\u001b[0m\u001b[1;33m)\u001b[0m\u001b[1;33m:\u001b[0m\u001b[1;33m\u001b[0m\u001b[0m\n",
        "\u001b[1;32mC:\\Python27\\lib\\site-packages\\boto\\connection.pyc\u001b[0m in \u001b[0;36m_mexe\u001b[1;34m(self, request, sender, override_num_retries, retry_handler)\u001b[0m\n\u001b[0;32m    812\u001b[0m                     connection.request(request.method, request.path,\n\u001b[0;32m    813\u001b[0m                                        request.body, request.headers)\n\u001b[1;32m--> 814\u001b[1;33m                     \u001b[0mresponse\u001b[0m \u001b[1;33m=\u001b[0m \u001b[0mconnection\u001b[0m\u001b[1;33m.\u001b[0m\u001b[0mgetresponse\u001b[0m\u001b[1;33m(\u001b[0m\u001b[1;33m)\u001b[0m\u001b[1;33m\u001b[0m\u001b[0m\n\u001b[0m\u001b[0;32m    815\u001b[0m                 \u001b[0mlocation\u001b[0m \u001b[1;33m=\u001b[0m \u001b[0mresponse\u001b[0m\u001b[1;33m.\u001b[0m\u001b[0mgetheader\u001b[0m\u001b[1;33m(\u001b[0m\u001b[1;34m'location'\u001b[0m\u001b[1;33m)\u001b[0m\u001b[1;33m\u001b[0m\u001b[0m\n\u001b[0;32m    816\u001b[0m                 \u001b[1;31m# -- gross hack --\u001b[0m\u001b[1;33m\u001b[0m\u001b[1;33m\u001b[0m\u001b[0m\n",
        "\u001b[1;32mC:\\Python27\\lib\\httplib.pyc\u001b[0m in \u001b[0;36mgetresponse\u001b[1;34m(self, buffering)\u001b[0m\n\u001b[0;32m   1028\u001b[0m         \u001b[0mresponse\u001b[0m \u001b[1;33m=\u001b[0m \u001b[0mself\u001b[0m\u001b[1;33m.\u001b[0m\u001b[0mresponse_class\u001b[0m\u001b[1;33m(\u001b[0m\u001b[1;33m*\u001b[0m\u001b[0margs\u001b[0m\u001b[1;33m,\u001b[0m \u001b[1;33m**\u001b[0m\u001b[0mkwds\u001b[0m\u001b[1;33m)\u001b[0m\u001b[1;33m\u001b[0m\u001b[0m\n\u001b[0;32m   1029\u001b[0m \u001b[1;33m\u001b[0m\u001b[0m\n\u001b[1;32m-> 1030\u001b[1;33m         \u001b[0mresponse\u001b[0m\u001b[1;33m.\u001b[0m\u001b[0mbegin\u001b[0m\u001b[1;33m(\u001b[0m\u001b[1;33m)\u001b[0m\u001b[1;33m\u001b[0m\u001b[0m\n\u001b[0m\u001b[0;32m   1031\u001b[0m         \u001b[1;32massert\u001b[0m \u001b[0mresponse\u001b[0m\u001b[1;33m.\u001b[0m\u001b[0mwill_close\u001b[0m \u001b[1;33m!=\u001b[0m \u001b[0m_UNKNOWN\u001b[0m\u001b[1;33m\u001b[0m\u001b[0m\n\u001b[0;32m   1032\u001b[0m         \u001b[0mself\u001b[0m\u001b[1;33m.\u001b[0m\u001b[0m__state\u001b[0m \u001b[1;33m=\u001b[0m \u001b[0m_CS_IDLE\u001b[0m\u001b[1;33m\u001b[0m\u001b[0m\n",
        "\u001b[1;32mC:\\Python27\\lib\\httplib.pyc\u001b[0m in \u001b[0;36mbegin\u001b[1;34m(self)\u001b[0m\n\u001b[0;32m    405\u001b[0m         \u001b[1;31m# read until we get a non-100 response\u001b[0m\u001b[1;33m\u001b[0m\u001b[1;33m\u001b[0m\u001b[0m\n\u001b[0;32m    406\u001b[0m         \u001b[1;32mwhile\u001b[0m \u001b[0mTrue\u001b[0m\u001b[1;33m:\u001b[0m\u001b[1;33m\u001b[0m\u001b[0m\n\u001b[1;32m--> 407\u001b[1;33m             \u001b[0mversion\u001b[0m\u001b[1;33m,\u001b[0m \u001b[0mstatus\u001b[0m\u001b[1;33m,\u001b[0m \u001b[0mreason\u001b[0m \u001b[1;33m=\u001b[0m \u001b[0mself\u001b[0m\u001b[1;33m.\u001b[0m\u001b[0m_read_status\u001b[0m\u001b[1;33m(\u001b[0m\u001b[1;33m)\u001b[0m\u001b[1;33m\u001b[0m\u001b[0m\n\u001b[0m\u001b[0;32m    408\u001b[0m             \u001b[1;32mif\u001b[0m \u001b[0mstatus\u001b[0m \u001b[1;33m!=\u001b[0m \u001b[0mCONTINUE\u001b[0m\u001b[1;33m:\u001b[0m\u001b[1;33m\u001b[0m\u001b[0m\n\u001b[0;32m    409\u001b[0m                 \u001b[1;32mbreak\u001b[0m\u001b[1;33m\u001b[0m\u001b[0m\n",
        "\u001b[1;32mC:\\Python27\\lib\\httplib.pyc\u001b[0m in \u001b[0;36m_read_status\u001b[1;34m(self)\u001b[0m\n\u001b[0;32m    363\u001b[0m     \u001b[1;32mdef\u001b[0m \u001b[0m_read_status\u001b[0m\u001b[1;33m(\u001b[0m\u001b[0mself\u001b[0m\u001b[1;33m)\u001b[0m\u001b[1;33m:\u001b[0m\u001b[1;33m\u001b[0m\u001b[0m\n\u001b[0;32m    364\u001b[0m         \u001b[1;31m# Initialize with Simple-Response defaults\u001b[0m\u001b[1;33m\u001b[0m\u001b[1;33m\u001b[0m\u001b[0m\n\u001b[1;32m--> 365\u001b[1;33m         \u001b[0mline\u001b[0m \u001b[1;33m=\u001b[0m \u001b[0mself\u001b[0m\u001b[1;33m.\u001b[0m\u001b[0mfp\u001b[0m\u001b[1;33m.\u001b[0m\u001b[0mreadline\u001b[0m\u001b[1;33m(\u001b[0m\u001b[1;33m)\u001b[0m\u001b[1;33m\u001b[0m\u001b[0m\n\u001b[0m\u001b[0;32m    366\u001b[0m         \u001b[1;32mif\u001b[0m \u001b[0mself\u001b[0m\u001b[1;33m.\u001b[0m\u001b[0mdebuglevel\u001b[0m \u001b[1;33m>\u001b[0m \u001b[1;36m0\u001b[0m\u001b[1;33m:\u001b[0m\u001b[1;33m\u001b[0m\u001b[0m\n\u001b[0;32m    367\u001b[0m             \u001b[1;32mprint\u001b[0m \u001b[1;34m\"reply:\"\u001b[0m\u001b[1;33m,\u001b[0m \u001b[0mrepr\u001b[0m\u001b[1;33m(\u001b[0m\u001b[0mline\u001b[0m\u001b[1;33m)\u001b[0m\u001b[1;33m\u001b[0m\u001b[0m\n",
        "\u001b[1;32mC:\\Python27\\lib\\socket.pyc\u001b[0m in \u001b[0;36mreadline\u001b[1;34m(self, size)\u001b[0m\n\u001b[0;32m    428\u001b[0m                     \u001b[1;32mtry\u001b[0m\u001b[1;33m:\u001b[0m\u001b[1;33m\u001b[0m\u001b[0m\n\u001b[0;32m    429\u001b[0m                         \u001b[1;32mwhile\u001b[0m \u001b[0mdata\u001b[0m \u001b[1;33m!=\u001b[0m \u001b[1;34m\"\\n\"\u001b[0m\u001b[1;33m:\u001b[0m\u001b[1;33m\u001b[0m\u001b[0m\n\u001b[1;32m--> 430\u001b[1;33m                             \u001b[0mdata\u001b[0m \u001b[1;33m=\u001b[0m \u001b[0mrecv\u001b[0m\u001b[1;33m(\u001b[0m\u001b[1;36m1\u001b[0m\u001b[1;33m)\u001b[0m\u001b[1;33m\u001b[0m\u001b[0m\n\u001b[0m\u001b[0;32m    431\u001b[0m                             \u001b[1;32mif\u001b[0m \u001b[1;32mnot\u001b[0m \u001b[0mdata\u001b[0m\u001b[1;33m:\u001b[0m\u001b[1;33m\u001b[0m\u001b[0m\n\u001b[0;32m    432\u001b[0m                                 \u001b[1;32mbreak\u001b[0m\u001b[1;33m\u001b[0m\u001b[0m\n",
        "\u001b[1;32mC:\\Python27\\lib\\ssl.pyc\u001b[0m in \u001b[0;36mrecv\u001b[1;34m(self, buflen, flags)\u001b[0m\n\u001b[0;32m    239\u001b[0m                     \u001b[1;34m\"non-zero flags not allowed in calls to recv() on %s\"\u001b[0m \u001b[1;33m%\u001b[0m\u001b[1;33m\u001b[0m\u001b[0m\n\u001b[0;32m    240\u001b[0m                     self.__class__)\n\u001b[1;32m--> 241\u001b[1;33m             \u001b[1;32mreturn\u001b[0m \u001b[0mself\u001b[0m\u001b[1;33m.\u001b[0m\u001b[0mread\u001b[0m\u001b[1;33m(\u001b[0m\u001b[0mbuflen\u001b[0m\u001b[1;33m)\u001b[0m\u001b[1;33m\u001b[0m\u001b[0m\n\u001b[0m\u001b[0;32m    242\u001b[0m         \u001b[1;32melse\u001b[0m\u001b[1;33m:\u001b[0m\u001b[1;33m\u001b[0m\u001b[0m\n\u001b[0;32m    243\u001b[0m             \u001b[1;32mreturn\u001b[0m \u001b[0mself\u001b[0m\u001b[1;33m.\u001b[0m\u001b[0m_sock\u001b[0m\u001b[1;33m.\u001b[0m\u001b[0mrecv\u001b[0m\u001b[1;33m(\u001b[0m\u001b[0mbuflen\u001b[0m\u001b[1;33m,\u001b[0m \u001b[0mflags\u001b[0m\u001b[1;33m)\u001b[0m\u001b[1;33m\u001b[0m\u001b[0m\n",
        "\u001b[1;32mC:\\Python27\\lib\\ssl.pyc\u001b[0m in \u001b[0;36mread\u001b[1;34m(self, len)\u001b[0m\n\u001b[0;32m    158\u001b[0m \u001b[1;33m\u001b[0m\u001b[0m\n\u001b[0;32m    159\u001b[0m         \u001b[1;32mtry\u001b[0m\u001b[1;33m:\u001b[0m\u001b[1;33m\u001b[0m\u001b[0m\n\u001b[1;32m--> 160\u001b[1;33m             \u001b[1;32mreturn\u001b[0m \u001b[0mself\u001b[0m\u001b[1;33m.\u001b[0m\u001b[0m_sslobj\u001b[0m\u001b[1;33m.\u001b[0m\u001b[0mread\u001b[0m\u001b[1;33m(\u001b[0m\u001b[0mlen\u001b[0m\u001b[1;33m)\u001b[0m\u001b[1;33m\u001b[0m\u001b[0m\n\u001b[0m\u001b[0;32m    161\u001b[0m         \u001b[1;32mexcept\u001b[0m \u001b[0mSSLError\u001b[0m\u001b[1;33m,\u001b[0m \u001b[0mx\u001b[0m\u001b[1;33m:\u001b[0m\u001b[1;33m\u001b[0m\u001b[0m\n\u001b[0;32m    162\u001b[0m             \u001b[1;32mif\u001b[0m \u001b[0mx\u001b[0m\u001b[1;33m.\u001b[0m\u001b[0margs\u001b[0m\u001b[1;33m[\u001b[0m\u001b[1;36m0\u001b[0m\u001b[1;33m]\u001b[0m \u001b[1;33m==\u001b[0m \u001b[0mSSL_ERROR_EOF\u001b[0m \u001b[1;32mand\u001b[0m \u001b[0mself\u001b[0m\u001b[1;33m.\u001b[0m\u001b[0msuppress_ragged_eofs\u001b[0m\u001b[1;33m:\u001b[0m\u001b[1;33m\u001b[0m\u001b[0m\n",
        "\u001b[1;31mKeyboardInterrupt\u001b[0m: "
       ]
      },
      {
       "output_type": "stream",
       "stream": "stdout",
       "text": [
        "\n"
       ]
      }
     ],
     "prompt_number": 6
    },
    {
     "cell_type": "code",
     "collapsed": false,
     "input": [
      "import pprint\n",
      "pp = pprint.PrettyPrinter(indent=4)\n",
      "pp.pprint(jsonSimscore)\n"
     ],
     "language": "python",
     "metadata": {},
     "outputs": [
      {
       "output_type": "stream",
       "stream": "stdout",
       "text": [
        "{   'BadFrames': 'clear',\n",
        "    'BadFramesCount': 0,\n",
        "    'Continuous': 'clear',\n",
        "    'DeadSensors': [],\n",
        "    'EdgeID': '9',\n",
        "    'FailTypes': ['OutOfRange'],\n",
        "    'IsPractice': True,\n",
        "    'LToolID': u'C0000016',\n",
        "    'LastCalibration': '2012-05-30 15:10:25.307',\n",
        "    'LinEncDrift': {   'left': 'clear', 'right': 'clear'},\n",
        "    'LinEncDriftValue': {   'left': 0.25, 'right': -0.016},\n",
        "    'MetadataFilename': u'edge9/2012/12/11.21.24.10.109.0.log',\n",
        "    'MinMax': {   '%Time_V1': {   'max': 24.109, 'min': 0.052},\n",
        "                  'Fg_L': {   'max': 54.539, 'min': -3.094},\n",
        "                  'Fg_R': {   'max': 41.731, 'min': -1.987},\n",
        "                  'J1_L': {   'max': 49.148, 'min': -0.284},\n",
        "                  'J1_R': {   'max': 51.528, 'min': 1.456},\n",
        "                  'J2_L': {   'max': -0.142, 'min': -47.468},\n",
        "                  'J2_R': {   'max': -1.139, 'min': -49.683},\n",
        "                  'Lin_L': {   'max': 4.036, 'min': -2.007},\n",
        "                  'Lin_R': {   'max': 4.092, 'min': -2.987},\n",
        "                  'Rot_L': {   'max': -72.792, 'min': -181.296},\n",
        "                  'Rot_R': {   'max': -153.72, 'min': -272.376},\n",
        "                  'ThG_L': {   'max': 15.752, 'min': -11.189},\n",
        "                  'ThG_R': {   'max': 1.619, 'min': -18.991},\n",
        "                  'X_L': {   'max': 0.326, 'min': -8.154},\n",
        "                  'X_R': {   'max': 7.502, 'min': -0.013},\n",
        "                  'Y_L': {   'max': 3.458, 'min': -3.097},\n",
        "                  'Y_R': {   'max': 3.945, 'min': -3.588},\n",
        "                  'Z_L': {   'max': 13.794, 'min': -1.233},\n",
        "                  'Z_R': {   'max': 13.48, 'min': -2.038}},\n",
        "    'NaNSensors': [],\n",
        "    'OutOfRange': ['Fg_L', 'Fg_R'],\n",
        "    'ProctorID': '0',\n",
        "    'ProctorValues': {   u'DroppedOutsideTaskRegion': False,\n",
        "                         u'InstrumentLeftFieldOfView': False,\n",
        "                         u'NonMidAirTransferBetweenHands': False,\n",
        "                         u'NumberDropped': 0},\n",
        "    'ProctorValuesCheck': 'clear',\n",
        "    'RToolID': u'80000009',\n",
        "    'Score': None,\n",
        "    'SwVersion': u'1.7.0.0',\n",
        "    'TaskType': 0,\n",
        "    'TestDataFilename': u'edge9/2012/12/11.21.24.10.109.0.txt',\n",
        "    'TestID': u'edge9/2012/12/11.21.24.10.109.0',\n",
        "    'TestLength': 24.27,\n",
        "    'TestLengthCheck': 'clear',\n",
        "    'ToolTipDrift': {   'left': 'clear', 'right': 'clear'},\n",
        "    'ToolTipDriftValue': {   'left': {   'x': 0.045, 'y': 0.221, 'z': -0.853},\n",
        "                             'right': {   'x': -0.103, 'y': -0.011, 'z': 0.186}},\n",
        "    'UploadDate': '2012-12-11 21:24:10',\n",
        "    'UploadDateUnix': 1355289850,\n",
        "    'UserID': '109',\n",
        "    'VideoDataFilename': u'edge9/2012/12/11.21.24.10.109.0.mp4',\n",
        "    'VideoFileExists': 'clear'}\n"
       ]
      }
     ],
     "prompt_number": 5
    },
    {
     "cell_type": "heading",
     "level": 1,
     "metadata": {},
     "source": [
      "Scratch"
     ]
    },
    {
     "cell_type": "code",
     "collapsed": false,
     "input": [
      "#Add some fake SNS messages to the queue\n",
      "sns_conn = boto.connect_sns(aws_ak, aws_sk)\n",
      "for i in range(5):\n",
      "    sns_conn.publish('arn:aws:sns:us-east-1:409355352037:test','edge6/2012/11/05.19.16.31.340.3.txt',subject='EdgeData')\n"
     ],
     "language": "python",
     "metadata": {},
     "outputs": [],
     "prompt_number": 5
    },
    {
     "cell_type": "code",
     "collapsed": false,
     "input": [
      "'''\n",
      "sqs_conn = boto.connect_s3(aws_ak, aws_sk)\n",
      "bucket = sqs_conn.get_bucket('incoming-simscore-org')\n",
      "\n",
      "filename = 'edge7/2012/12/07.15.42.40.109.3.txt'\n",
      "data, meta = myS3.getData(bucket, filename, labeled=True)\n",
      "#Compute Summary Metrics\n",
      "jsonSimscore = vm.summary_metrics(meta, data, sqs_conn)\n",
      "#Compute additional data validity metrics\n",
      "jsonSimscore = vm.data_metrics_append(jsonSimscore, data, filename)\n",
      "#Compute machine health metrics\n",
      "jsonSimscore = vm.machine_health_append(jsonSimscore, meta, data)\n",
      "jsonSimscore = vm.round_dict(jsonSimscore,3)\n",
      "\n",
      "pp = pprint.PrettyPrinter(indent=4)\n",
      "print json.dumps(jsonSimscore)\n",
      "'''"
     ],
     "language": "python",
     "metadata": {},
     "outputs": [
      {
       "output_type": "stream",
       "stream": "stdout",
       "text": [
        "{\"TestDataFilename\": \"edge7/2012/12/07.15.42.40.109.3.txt\", \"BadFramesCount\": 0, \"UserID\": \"109\", \"DeadSensors\": [\"ThG_L\", \"Fg_L\", \"X_L\", \"Fg_R\", \"J2_L\", \"Z_L\", \"J1_L\"], \"LToolID\": \"C000000E\", \"VideoFileExists\": \"clear\", \"NaNSensors\": [], \"VideoDataFilename\": \"edge7/2012/12/07.15.42.40.109.3.mp4\", \"FailTypes\": [\"DeadSensors\", \"LinEncDrift\", \"ToolTipDrift\"], \"LinEncDriftValue\": {\"right\": 3.311, \"left\": 0.0}, \"ProctorValues\": {\"CrossingClips\": false, \"FailedToPutMinimum2ClipsBetweenLines\": false, \"InstrumentLeftFieldOfView\": false, \"StraightCutOnMiddleDottedLine\": false, \"IncompleteCoaption\": false, \"GraspedTheRenalArtery\": false, \"FailedToPut4Clips\": false}, \"Continuous\": \"clear\", \"TaskType\": 3, \"TestLengthCheck\": \"clear\", \"TestLength\": 12.988, \"LastCalibration\": \"2012-05-30 18:11:23.893\", \"ToolTipDrift\": {\"right\": \"error\", \"left\": \"clear\"}, \"RToolID\": \"82000034\", \"OutOfRange\": [], \"BadFrames\": \"clear\", \"ToolTipDriftValue\": {\"right\": {\"y\": -16.264, \"x\": 3.692, \"z\": -12.713}, \"left\": {\"y\": 0.0, \"x\": 0.0, \"z\": 0.0}}, \"TestID\": \"edge7/2012/12/07.15.42.40.109.3\", \"MinMax\": {\"J1_R\": {\"max\": 95.292, \"min\": 1.569}, \"Z_R\": {\"max\": 12.109, \"min\": -5.963}, \"ThG_L\": {\"max\": 8.98, \"min\": 8.98}, \"Lin_L\": {\"max\": 0.008, \"min\": 0.006}, \"%Time_V1\": {\"max\": 12.854, \"min\": 0.049}, \"J2_R\": {\"max\": -0.993, \"min\": -60.716}, \"Fg_L\": {\"max\": 0.0, \"min\": 0.0}, \"X_L\": {\"max\": -6.639, \"min\": -6.639}, \"Y_R\": {\"max\": 1.77, \"min\": -16.898}, \"Rot_L\": {\"max\": -230.832, \"min\": -231.048}, \"Rot_R\": {\"max\": 163.728, \"min\": 163.728}, \"Y_L\": {\"max\": 3.224, \"min\": 3.222}, \"X_R\": {\"max\": 7.269, \"min\": 3.479}, \"Fg_R\": {\"max\": -0.468, \"min\": -0.468}, \"J2_L\": {\"max\": 0.0, \"min\": 0.0}, \"Lin_R\": {\"max\": 3.345, \"min\": -0.288}, \"Z_L\": {\"max\": 13.72, \"min\": 13.72}, \"ThG_R\": {\"max\": 0.0, \"min\": 0.0}, \"J1_L\": {\"max\": 0.0, \"min\": 0.0}}, \"EdgeID\": \"7\", \"MetadataFilename\": \"edge7/2012/12/07.15.42.40.109.3.log\", \"SwVersion\": \"1.7.0.0\", \"ProctorID\": \"191\", \"IsPractice\": false, \"UploadDate\": \"2012-12-07 15:42:40\", \"UploadDateUnix\": 1354923760, \"ProctorValuesCheck\": \"clear\", \"LinEncDrift\": {\"right\": \"error\", \"left\": \"clear\"}}\n"
       ]
      }
     ],
     "prompt_number": 2
    }
   ],
   "metadata": {}
  }
 ]
}