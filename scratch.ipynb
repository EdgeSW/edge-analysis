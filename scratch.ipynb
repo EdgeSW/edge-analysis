{
 "metadata": {
  "name": "scratch"
 },
 "nbformat": 3,
 "nbformat_minor": 0,
 "worksheets": [
  {
   "cells": [
    {
     "cell_type": "code",
     "collapsed": false,
     "input": [
      "import sys, os\n",
      "sys.path.append('C:\\\\Users\\\\Tyler\\\\.ipython\\\\Simscore-Computing')\n",
      "import boto, time, json, pprint\n",
      "from datetime import datetime, timedelta\n",
      "import numpy as np\n",
      "\n",
      "import fetch.myS3 as myS3\n",
      "import fetch.mySQS as mySQS\n",
      "import validity_metrics as vm\n",
      "from aws import aws_ak, aws_sk\n",
      "from report.configuration import isClipTask   \n",
      "import report.validate as validate\n",
      "conn = boto.connect_s3(aws_ak, aws_sk)\n",
      "bucket = conn.get_bucket('incoming-simscore-org')"
     ],
     "language": "python",
     "metadata": {},
     "outputs": [],
     "prompt_number": 1
    },
    {
     "cell_type": "code",
     "collapsed": false,
     "input": [
      "unit_files = [#Name, Dead, OOR, NaN\n",
      "(\t\"edge6/2013/01/31.00.42.06.392.3.txt\"\t,\t[]\t,\t[]\t,\t[]\t),\n",
      "(\t\"edge10/2013/01/22.18.09.46.209.0.txt\"\t,\t[]\t,\t[]\t,\t[]\t),\n",
      "(\t\"edge10/2013/01/26.16.02.02.365.0.txt\"\t,\t[]\t,\t[]\t,\t[]\t),\n",
      "(\t\"edge3/2013/01/18.18.54.37.336.1.txt\"\t,\t[]\t,\t[]\t,\t[]\t),\n",
      "(\t\"edge6/2013/01/31.00.50.47.392.2.txt\"\t,\t[]\t,\t[]\t,\t[]\t),\n",
      "(\t\"edge10/2013/01/24.17.05.48.389.2.txt\"\t,\t[]\t,\t[]\t,\t[]\t),\n",
      "(\t\"edge10/2013/01/10.15.22.12.389.2.txt\"\t,\t[]\t,\t[]\t,\t[]\t),\n",
      "(\t\"edge6/2013/01/31.00.46.29.392.2.txt\"\t,\t[]\t,\t[]\t,\t[]\t),\n",
      "\t\t\t\t\t\t\t\t\t\t\t\t\t\t\t\t\n",
      "(\t\"edge7/2012/12/07.15.37.27.109.2.txt\"\t,\t[]\t,\t[\"ThG_L\", \"Fg_L\", \"ThG_R\"]\t,\t[]\t),\n",
      "(\t\"edge9/2012/11/29.01.24.15.251.1.txt\"\t,\t[]\t,\t[\"Fg_L\", \"Fg_R\"]\t,\t[]\t),\n",
      "(\t\"edge9/2012/11/29.01.22.22.251.3.txt\"\t,\t[]\t,\t[\"Fg_L\", \"Lin_R\"]\t,\t[]\t),\n",
      "\t\t\t\t\t\t\t\t\t\t\t\t\t\t\t\t\n",
      "(\t\"edge8/2012/12/06.18.40.18.109.1.txt\"\t,\t[\"Fg_L\"]\t,\t[]\t,\t[]\t),\n",
      "(\t\"edge8/2012/12/06.18.39.40.109.1.txt\"\t,\t[\"Fg_L\"]\t,\t[]\t,\t[]\t),\t\t\t\t\t\t\t\t\n",
      "\t\t\t\t\t\t\t\t\t\t\t\t\t\t\t\t\n",
      "(\t\"edge6/2012/11/05.18.59.45.340.1.txt\"\t,\t[]\t,\t[\"Fg_L\"]\t,\t[\"Fg_R\"]\t),\n",
      "(\t\"edge6/2012/11/05.18.46.23.340.0.txt\"\t,\t[]\t,\t[\"Fg_L\"]\t,\t[\"Fg_R\"]\t),\t\t\t\t\t\t\t\t\t\t\t\t\t\t\t\t\n",
      "\t\t\t\t\t\t\t\t\n",
      "(\t\"edge6/2012/11/05.19.24.12.340.2.txt\"\t,\t[\"Fg_L\", \"Rot_L\"]\t,\t[\"Fg_L\", \"ThG_L\"]\t,\t[]\t),\n",
      "(\t\"edge1/2012/10/08.15.22.48.323.1.txt\"\t,\t[\"Fg_L\"]\t,\t[\"Fg_L\"]\t,\t[]\t),\n",
      "(\t\"edge6/2013/01/25.21.33.58.393.0.txt\"\t,\t[\"Rot_L,\" \"ThG_L\"]\t,\t[\"ThG_L\"]\t,\t[]\t),\n",
      "(\t\"edge2/2013/01/09.16.06.18.378.3.txt\"\t,\t[\"Fg_R\"]\t,\t[\"Rot_L\"]\t,\t[]\t),\n",
      "(\t\"edge2/2012/12/03.20.12.46.109.3.txt\"\t,\t[\"Fg_R\"]\t,\t[\"Lin_R\"]\t,\t[]\t),\n",
      "(\t\"edge6/2013/01/25.22.30.14.312.0.txt\"\t,\t[\"Fg_R\", \"ThG_R\", \"Rot_R\"]\t,\t[\"ThG_R\"]\t,\t[]\t)\n",
      "\n",
      "]"
     ],
     "language": "python",
     "metadata": {},
     "outputs": [],
     "prompt_number": 2
    },
    {
     "cell_type": "code",
     "collapsed": false,
     "input": [
      "new_deads = []\n",
      "for test in unit_files:\n",
      "    try:\n",
      "        data, meta = myS3.getData(bucket, test[0], labeled=True)\n",
      "        minmax = validate.findMinMax(data)\n",
      "        \n",
      "        new_dead = validate.findDeadSensors(data, minmax, meta['TaskId'], meta['IsPracticeTest'])\n",
      "        old_dead = validate.oldFindDeadSensor(validate.findMinMax(data), isClipTask(test[0]))\n",
      "        #oors = validate.findOutOfRange(minmax)\n",
      "        \n",
      "        print 'verifying',test[0]\n",
      "        print 'Dead sensors should be:', test[1]\n",
      "        print 'New method caught:', new_dead\n",
      "        print 'Old method caught:', old_dead\n",
      "        print \n",
      "    except Exception as e:\n",
      "        print e\n",
      "        print 'error in',fn"
     ],
     "language": "python",
     "metadata": {},
     "outputs": [
      {
       "output_type": "stream",
       "stream": "stdout",
       "text": [
        "verifying edge6/2013/01/31.00.42.06.392.3.txt\n",
        "Dead sensors should be: []\n",
        "New method caught: ['Fg_L']\n",
        "Old method caught: ['Fg_L']\n",
        "\n",
        "verifying"
       ]
      },
      {
       "output_type": "stream",
       "stream": "stdout",
       "text": [
        " edge10/2013/01/22.18.09.46.209.0.txt\n",
        "Dead sensors should be: []\n",
        "New method caught: []\n",
        "Old method caught: []\n",
        "\n",
        "verifying"
       ]
      },
      {
       "output_type": "stream",
       "stream": "stdout",
       "text": [
        " edge10/2013/01/26.16.02.02.365.0.txt\n",
        "Dead sensors should be: []\n",
        "New method caught: []\n",
        "Old method caught: []\n",
        "\n",
        "verifying"
       ]
      },
      {
       "output_type": "stream",
       "stream": "stdout",
       "text": [
        " edge3/2013/01/18.18.54.37.336.1.txt\n",
        "Dead sensors should be: []\n",
        "New method caught: []\n",
        "Old method caught: []\n",
        "\n",
        "verifying"
       ]
      },
      {
       "output_type": "stream",
       "stream": "stdout",
       "text": [
        " edge6/2013/01/31.00.50.47.392.2.txt\n",
        "Dead sensors should be: []\n",
        "New method caught: []\n",
        "Old method caught: []\n",
        "\n",
        "verifying"
       ]
      },
      {
       "output_type": "stream",
       "stream": "stdout",
       "text": [
        " edge10/2013/01/24.17.05.48.389.2.txt\n",
        "Dead sensors should be: []\n",
        "New method caught: []\n",
        "Old method caught: []\n",
        "\n",
        "verifying"
       ]
      },
      {
       "output_type": "stream",
       "stream": "stdout",
       "text": [
        " edge10/2013/01/10.15.22.12.389.2.txt\n",
        "Dead sensors should be: []\n",
        "New method caught: []\n",
        "Old method caught: []\n",
        "\n",
        "verifying"
       ]
      },
      {
       "output_type": "stream",
       "stream": "stdout",
       "text": [
        " edge6/2013/01/31.00.46.29.392.2.txt\n",
        "Dead sensors should be: []\n",
        "New method caught: []\n",
        "Old method caught: []\n",
        "\n",
        "verifying"
       ]
      },
      {
       "output_type": "stream",
       "stream": "stdout",
       "text": [
        " edge7/2012/12/07.15.37.27.109.2.txt\n",
        "Dead sensors should be: []\n",
        "New method caught: []\n",
        "Old method caught: []\n",
        "\n",
        "verifying"
       ]
      },
      {
       "output_type": "stream",
       "stream": "stdout",
       "text": [
        " edge9/2012/11/29.01.24.15.251.1.txt\n",
        "Dead sensors should be: []\n",
        "New method caught: []\n",
        "Old method caught: []\n",
        "\n",
        "verifying"
       ]
      },
      {
       "output_type": "stream",
       "stream": "stdout",
       "text": [
        " edge9/2012/11/29.01.22.22.251.3.txt\n",
        "Dead sensors should be: []\n",
        "New method caught: []\n",
        "Old method caught: []\n",
        "\n",
        "verifying"
       ]
      },
      {
       "output_type": "stream",
       "stream": "stdout",
       "text": [
        " edge8/2012/12/06.18.40.18.109.1.txt\n",
        "Dead sensors should be: ['Fg_L']\n",
        "New method caught: ['Fg_L']\n",
        "Old method caught: ['Fg_L']\n",
        "\n",
        "verifying"
       ]
      },
      {
       "output_type": "stream",
       "stream": "stdout",
       "text": [
        " edge8/2012/12/06.18.39.40.109.1.txt\n",
        "Dead sensors should be: ['Fg_L']\n",
        "New method caught: ['Fg_L']\n",
        "Old method caught: ['Fg_L']\n",
        "\n",
        "verifying"
       ]
      },
      {
       "output_type": "stream",
       "stream": "stdout",
       "text": [
        " edge6/2012/11/05.18.59.45.340.1.txt\n",
        "Dead sensors should be: []\n",
        "New method caught: []\n",
        "Old method caught: []\n",
        "\n",
        "verifying"
       ]
      },
      {
       "output_type": "stream",
       "stream": "stdout",
       "text": [
        " edge6/2012/11/05.18.46.23.340.0.txt\n",
        "Dead sensors should be: []\n",
        "New method caught: []\n",
        "Old method caught: []\n",
        "\n",
        "verifying"
       ]
      },
      {
       "output_type": "stream",
       "stream": "stdout",
       "text": [
        " edge6/2012/11/05.19.24.12.340.2.txt\n",
        "Dead sensors should be: ['Fg_L', 'Rot_L']\n",
        "New method caught: ['Rot_L', 'Fg_L']\n",
        "Old method caught: ['Rot_L']\n",
        "\n",
        "verifying"
       ]
      },
      {
       "output_type": "stream",
       "stream": "stdout",
       "text": [
        " edge1/2012/10/08.15.22.48.323.1.txt\n",
        "Dead sensors should be: ['Fg_L']\n",
        "New method caught: ['Fg_L']\n",
        "Old method caught: []\n",
        "\n",
        "verifying"
       ]
      },
      {
       "output_type": "stream",
       "stream": "stdout",
       "text": [
        " edge6/2013/01/25.21.33.58.393.0.txt\n",
        "Dead sensors should be: ['Rot_L,ThG_L']\n",
        "New method caught: ['Rot_L']\n",
        "Old method caught: ['Rot_L']\n",
        "\n",
        "verifying"
       ]
      },
      {
       "output_type": "stream",
       "stream": "stdout",
       "text": [
        " edge2/2013/01/09.16.06.18.378.3.txt\n",
        "Dead sensors should be: ['Fg_R']\n",
        "New method caught: ['Fg_R']\n",
        "Old method caught: []\n",
        "\n",
        "verifying"
       ]
      },
      {
       "output_type": "stream",
       "stream": "stdout",
       "text": [
        " edge2/2012/12/03.20.12.46.109.3.txt\n",
        "Dead sensors should be: ['Fg_R']\n",
        "New method caught: ['Fg_R']\n",
        "Old method caught: []\n",
        "\n",
        "verifying"
       ]
      },
      {
       "output_type": "stream",
       "stream": "stdout",
       "text": [
        " edge6/2013/01/25.22.30.14.312.0.txt\n",
        "Dead sensors should be: ['Fg_R', 'ThG_R', 'Rot_R']\n",
        "New method caught: ['Rot_R', 'ThG_R', 'Fg_R']\n",
        "Old method caught: ['Fg_R', 'ThG_R']\n",
        "\n"
       ]
      }
     ],
     "prompt_number": 3
    },
    {
     "cell_type": "code",
     "collapsed": false,
     "input": [
      "biglist = myS3.getFilesBetween(datetime.utcnow()-timedelta(days=30), datetime.utcnow(), bucket, True)"
     ],
     "language": "python",
     "metadata": {},
     "outputs": [],
     "prompt_number": 7
    },
    {
     "cell_type": "code",
     "collapsed": false,
     "input": [
      "import time\n",
      "for filename in biglist:\n",
      "    try:\n",
      "        data, meta = myS3.getData(bucket, filename, labeled=True)\n",
      "        minmax = validate.findMinMax(data)\n",
      "        \n",
      "        new_dead = findDeadSensors(data, minmax, meta['TaskId'], meta['IsPracticeTest'])\n",
      "        old_dead = validate.findDeadSensor(validate.findMinMax(data), isClipTask(filename))\n",
      "        \n",
      "        if filename[-5:]=='2.txt':\n",
      "            print filename,old_dead, new_dead\n",
      "        time.sleep(0.1)\n",
      "    except Exception as e:\n",
      "        print e\n",
      "        print filename"
     ],
     "language": "python",
     "metadata": {},
     "outputs": [
      {
       "output_type": "stream",
       "stream": "stdout",
       "text": [
        "edge10/2013/01/09.22.25.08.350.2.txt [] []\n",
        "edge10/2013/01/09.22.33.01.350.2.txt"
       ]
      },
      {
       "output_type": "stream",
       "stream": "stdout",
       "text": [
        " [] []\n",
        "edge10/2013/01/10.14.01.32.369.2.txt"
       ]
      },
      {
       "output_type": "stream",
       "stream": "stdout",
       "text": [
        " [] []\n",
        "edge10/2013/01/10.14.10.10.369.2.txt"
       ]
      },
      {
       "output_type": "stream",
       "stream": "stdout",
       "text": [
        " [] []\n",
        "edge10/2013/01/10.15.14.41.389.2.txt"
       ]
      },
      {
       "output_type": "stream",
       "stream": "stdout",
       "text": [
        " [] []\n",
        "edge10/2013/01/10.15.22.12.389.2.txt"
       ]
      },
      {
       "output_type": "stream",
       "stream": "stdout",
       "text": [
        " [] []\n",
        "edge10/2013/01/10.16.43.23.386.2.txt"
       ]
      },
      {
       "output_type": "stream",
       "stream": "stdout",
       "text": [
        " [] []\n",
        "edge10/2013/01/10.16.49.33.386.2.txt"
       ]
      },
      {
       "output_type": "stream",
       "stream": "stdout",
       "text": [
        " ['ThG_L', 'Fg_L', 'Rot_L'] ['Rot_L', 'ThG_L', 'Fg_L']\n",
        "edge10/2013/01/10.16.55.40.386.2.txt"
       ]
      },
      {
       "output_type": "stream",
       "stream": "stdout",
       "text": [
        " ['ThG_L', 'Fg_L', 'Rot_L'] ['Rot_L', 'ThG_L', 'Fg_L']\n",
        "edge10/2013/01/10.17.02.42.386.2.txt"
       ]
      },
      {
       "output_type": "stream",
       "stream": "stdout",
       "text": [
        " ['ThG_L', 'Fg_L', 'Rot_L'] ['Rot_L', 'ThG_L', 'Fg_L']\n",
        "edge10/2013/01/14.17.52.26.356.2.txt"
       ]
      },
      {
       "output_type": "stream",
       "stream": "stdout",
       "text": [
        " [] []\n",
        "edge10/2013/01/14.17.58.43.356.2.txt"
       ]
      },
      {
       "output_type": "stream",
       "stream": "stdout",
       "text": [
        " ['ThG_L', 'Fg_L', 'Rot_L'] ['Rot_L', 'ThG_L', 'Fg_L']\n",
        "edge10/2013/01/16.18.43.41.286.2.txt"
       ]
      },
      {
       "output_type": "stream",
       "stream": "stdout",
       "text": [
        " ['Fg_L', 'Fg_R'] ['Fg_L', 'Fg_R']\n",
        "edge10/2013/01/17.12.38.57.286.2.txt"
       ]
      },
      {
       "output_type": "stream",
       "stream": "stdout",
       "text": [
        " [] []\n",
        "edge10/2013/01/22.12.38.44.286.2.txt"
       ]
      },
      {
       "output_type": "stream",
       "stream": "stdout",
       "text": [
        " [] []\n",
        "edge10/2013/01/22.12.39.36.286.2.txt"
       ]
      },
      {
       "output_type": "stream",
       "stream": "stdout",
       "text": [
        " [] []\n",
        "edge10/2013/01/22.18.35.05.209.2.txt"
       ]
      },
      {
       "output_type": "stream",
       "stream": "stdout",
       "text": [
        " [] []\n",
        "edge10/2013/01/22.18.38.26.209.2.txt"
       ]
      },
      {
       "output_type": "stream",
       "stream": "stdout",
       "text": [
        " [] []\n",
        "edge10/2013/01/24.16.58.50.389.2.txt"
       ]
      },
      {
       "output_type": "stream",
       "stream": "stdout",
       "text": [
        " [] []\n",
        "edge10/2013/01/24.17.05.48.389.2.txt"
       ]
      },
      {
       "output_type": "stream",
       "stream": "stdout",
       "text": [
        " [] []\n",
        "edge10/2013/01/25.16.54.30.351.2.txt"
       ]
      },
      {
       "output_type": "stream",
       "stream": "stdout",
       "text": [
        " [] []\n",
        "edge12/2013/01/24.21.56.31.109.2.txt"
       ]
      },
      {
       "output_type": "stream",
       "stream": "stdout",
       "text": [
        " [] []\n",
        "edge2/2013/01/09.14.51.14.195.2.txt"
       ]
      },
      {
       "output_type": "stream",
       "stream": "stdout",
       "text": [
        " [] []\n",
        "edge2/2013/01/09.16.14.45.378.2.txt"
       ]
      },
      {
       "output_type": "stream",
       "stream": "stdout",
       "text": [
        " [] []\n",
        "edge2/2013/01/09.16.18.29.378.2.txt"
       ]
      },
      {
       "output_type": "stream",
       "stream": "stdout",
       "text": [
        " [] []\n",
        "edge2/2013/01/09.17.23.54.382.2.txt"
       ]
      },
      {
       "output_type": "stream",
       "stream": "stdout",
       "text": [
        " [] []\n",
        "edge2/2013/01/09.17.29.40.382.2.txt"
       ]
      },
      {
       "output_type": "stream",
       "stream": "stdout",
       "text": [
        " [] []\n",
        "edge2/2013/01/09.17.37.57.371.2.txt"
       ]
      },
      {
       "output_type": "stream",
       "stream": "stdout",
       "text": [
        " [] []\n",
        "edge2/2013/01/09.17.47.43.371.2.txt"
       ]
      },
      {
       "output_type": "stream",
       "stream": "stdout",
       "text": [
        " [] []\n",
        "edge3/2013/01/18.17.27.31.245.2.txt"
       ]
      },
      {
       "output_type": "stream",
       "stream": "stdout",
       "text": [
        " ['Fg_R'] ['Fg_L', 'Fg_R']\n",
        "edge3/2013/01/18.19.14.42.336.2.txt"
       ]
      },
      {
       "output_type": "stream",
       "stream": "stdout",
       "text": [
        " ['ThG_L', 'Lin_L', 'Fg_L', 'X_L', 'Rot_L', 'Y_L', 'J2_L', 'Z_L', 'J1_L'] ['J1_L', 'J2_L', 'Lin_L', 'Rot_L', 'ThG_L', 'Fg_L', 'X_L', 'Y_L', 'Z_L']\n",
        "edge3/2013/01/18.19.15.20.336.2.txt"
       ]
      },
      {
       "output_type": "stream",
       "stream": "stdout",
       "text": [
        " [] []\n",
        "edge3/2013/01/18.19.21.33.336.2.txt"
       ]
      },
      {
       "output_type": "stream",
       "stream": "stdout",
       "text": [
        " [] []\n",
        "edge3/2013/01/18.19.28.51.336.2.txt"
       ]
      },
      {
       "output_type": "stream",
       "stream": "stdout",
       "text": [
        " [] []\n",
        "edge3/2013/01/18.19.36.35.336.2.txt"
       ]
      },
      {
       "output_type": "stream",
       "stream": "stdout",
       "text": [
        " [] []\n",
        "edge6/2013/01/10.00.12.55.368.2.txt"
       ]
      },
      {
       "output_type": "stream",
       "stream": "stdout",
       "text": [
        " [] []\n",
        "edge6/2013/01/10.00.20.03.368.2.txt"
       ]
      },
      {
       "output_type": "stream",
       "stream": "stdout",
       "text": [
        " [] []\n",
        "edge6/2013/01/18.21.34.22.307.2.txt"
       ]
      },
      {
       "output_type": "stream",
       "stream": "stdout",
       "text": [
        " [] []\n",
        "edge6/2013/01/25.22.49.29.393.2.txt"
       ]
      },
      {
       "output_type": "stream",
       "stream": "stdout",
       "text": [
        " [] []\n",
        "edge6/2013/01/25.22.49.45.393.2.txt"
       ]
      },
      {
       "output_type": "stream",
       "stream": "stdout",
       "text": [
        " [] []\n",
        "edge6/2013/01/25.22.57.28.393.2.txt"
       ]
      },
      {
       "output_type": "stream",
       "stream": "stdout",
       "text": [
        " [] []\n",
        "edge6/2013/01/30.21.48.52.325.2.txt"
       ]
      },
      {
       "output_type": "stream",
       "stream": "stdout",
       "text": [
        " [] []\n",
        "edge6/2013/01/30.21.55.54.325.2.txt"
       ]
      },
      {
       "output_type": "stream",
       "stream": "stdout",
       "text": [
        " [] []\n",
        "edge6/2013/01/31.00.46.29.392.2.txt"
       ]
      },
      {
       "output_type": "stream",
       "stream": "stdout",
       "text": [
        " [] []\n",
        "edge6/2013/01/31.00.50.47.392.2.txt"
       ]
      },
      {
       "output_type": "stream",
       "stream": "stdout",
       "text": [
        " [] []\n",
        "edge9/2013/01/11.22.25.10.109.2.txt"
       ]
      },
      {
       "output_type": "stream",
       "stream": "stdout",
       "text": [
        " [] []\n",
        "edge9/2013/01/11.22.25.44.109.2.txt"
       ]
      },
      {
       "output_type": "stream",
       "stream": "stdout",
       "text": [
        " [] []\n"
       ]
      }
     ],
     "prompt_number": 9
    },
    {
     "cell_type": "raw",
     "metadata": {},
     "source": [
      "Completely ignore ThG dead for filters more complex than max-min? edge10/2013/01/10.13.45.59.369.1.txt\n",
      "How to address suturing task where put down right tool to cut and they just really suck at it?\n",
      "    Perhaps ignore last 60sec of suturing task?\n",
      "\n",
      "\n",
      "edge10/2013/01/10.13.45.59.369.1.txt ['ThG_L']\n",
      "edge10/2013/01/10.15.22.12.389.2.txt ['J1_R', 'J2_R', 'Lin_R', 'Rot_R', 'X_R', 'Y_R', 'Z_R']\n",
      "edge10/2013/01/10.16.15.28.386.1.txt ['Fg_L']\n",
      "edge10/2013/01/10.16.33.59.386.3.txt ['Fg_L', 'Fg_R']\n",
      "edge10/2013/01/14.17.37.01.356.1.txt ['Fg_L']\n",
      "edge10/2013/01/17.12.36.57.286.0.txt ['Fg_L']\n",
      "edge10/2013/01/22.18.16.44.209.1.txt ['Fg_L']\n",
      "edge10/2013/01/22.18.38.26.209.2.txt ['Fg_L']\n",
      "edge10/2013/01/24.17.05.48.389.2.txt ['J1_R', 'J2_R', 'Lin_R', 'Rot_R', 'X_R', 'Y_R', 'Z_R']\n",
      "edge2/2013/01/09.17.29.40.382.2.txt ['J1_R', 'J2_R', 'Lin_R', 'Rot_R', 'X_R', 'Y_R', 'Z_R']\n",
      "edge6/2013/01/16.22.17.15.346.1.txt ['Fg_L']\n",
      "edge6/2013/01/17.18.47.05.313.1.txt ['Fg_L']\n",
      "edge6/2013/01/18.20.43.17.340.3.txt ['Fg_L']\n",
      "edge6/2013/01/18.21.25.44.307.1.txt ['Fg_L']\n",
      "edge6/2013/01/25.21.43.21.393.0.txt ['Rot_L']\n",
      "edge6/2013/01/31.00.30.19.392.1.txt ['Fg_L']\n",
      "edge6/2013/01/31.00.57.07.392.1.txt ['Fg_L']\n",
      "edge7/2013/01/07.16.11.12.370.0.txt ['Fg_R']\n",
      "edge7/2013/01/07.16.39.49.370.3.txt ['Fg_L']\n",
      "'NoneType' object has no attribute 'dtype'\n",
      "error in edge7/2013/01/07.16.59.48.370.2.txt\n",
      "\n",
      "WITH 1 AS THRESH FOR FG:\n",
      "1 false positive, 2 would be ignored (pretty good for 1 month!)\n",
      "3 need to be fixed\n",
      "edge10/2013/01/10.13.45.59.369.1.txt ['ThG_L']\n",
      "edge10/2013/01/10.15.22.12.389.2.txt ['J1_R', 'J2_R', 'Lin_R', 'Rot_R', 'X_R', 'Y_R', 'Z_R']\n",
      "edge10/2013/01/10.16.33.59.386.3.txt ['Fg_L']\n",
      "edge10/2013/01/14.17.37.01.356.1.txt ['Fg_L']\n",
      "edge10/2013/01/24.17.05.48.389.2.txt ['J1_R', 'J2_R', 'Lin_R', 'Rot_R', 'X_R', 'Y_R', 'Z_R']\n",
      "edge2/2013/01/09.17.29.40.382.2.txt ['J1_R', 'J2_R', 'Lin_R', 'Rot_R', 'X_R', 'Y_R', 'Z_R']\n",
      "edge6/2013/01/25.21.43.21.393.0.txt ['Rot_L'] (real)"
     ]
    }
   ],
   "metadata": {}
  }
 ]
}