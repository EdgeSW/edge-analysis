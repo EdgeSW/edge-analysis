{
 "metadata": {
  "name": "validity_metrics"
 },
 "nbformat": 3,
 "nbformat_minor": 0,
 "worksheets": [
  {
   "cells": [
    {
     "cell_type": "code",
     "collapsed": false,
     "input": [
      "from computing_imports import *\n",
      "\n",
      "%load_ext autoreload\n",
      "%autoreload\n",
      "import fetch.shapeS3 as shape\n",
      "import fetch.fetchS3 as fetchS3\n",
      "import report.tools.validate as validate\n",
      "import pprint"
     ],
     "language": "python",
     "metadata": {},
     "outputs": [],
     "prompt_number": 17
    },
    {
     "cell_type": "code",
     "collapsed": false,
     "input": [
      "filename = 'edge6/2012/11/13.21.07.03.288.0.txt'#'edge6/2012/10/24.21.59.05.325.0.txt'\n",
      "bucketname = 'incoming-simscore-org'\n",
      "is_secure = False if '.' in bucketname else True\n",
      "data, meta = shape.getData(filename, bucketname, is_secure=is_secure)"
     ],
     "language": "python",
     "metadata": {},
     "outputs": [],
     "prompt_number": 18
    },
    {
     "cell_type": "code",
     "collapsed": false,
     "input": [
      "pp = pprint.PrettyPrinter(indent=4)\n",
      "#pp.pprint(meta)\n",
      "#print data.dtype.names"
     ],
     "language": "python",
     "metadata": {},
     "outputs": [],
     "prompt_number": 19
    },
    {
     "cell_type": "heading",
     "level": 5,
     "metadata": {},
     "source": [
      "Test Summary Metrics"
     ]
    },
    {
     "cell_type": "code",
     "collapsed": false,
     "input": [
      "def summary_metrics(meta,data):\n",
      "    jsonSimscore = {\n",
      "                    \n",
      "    #TestID    Int    The uniquely generated ID for this test score to associate all other data with.\n",
      "        'TestID' : meta['DataFileNameOnS3'][:-4] \n",
      "    #IsPractice    Boolean    Is this a scored test?\n",
      "        , 'IsPractice' : meta[\"IsPracticeTest\"]\n",
      "    #MetadataFilename    String    Metadata Filename and location in S3.\n",
      "        ,'MetadataFilename' : meta[\"MetaDataFileNameOnS3\"]    \n",
      "    #TestDataFilename    String    Test Data Filename and location in S3.\n",
      "        ,'TestDataFilename' : meta['DataFileNameOnS3']    \n",
      "    #VideoDataFilename    String    Video Data Filename and location in S3.\n",
      "        ,'VideoDataFilename' : meta[\"VideoFileNameOnS3\"]\n",
      "    #UserID    String    User ID.\n",
      "        ,'UserID' : str(meta['UserId'])\n",
      "    #ProctorID    String    Proctor ID.\n",
      "        ,'ProctorID' : str(meta[\"ProctorId\"])\n",
      "    #EdgeID    String    EDGE ID.\n",
      "        ,'EdgeID' : str(meta[\"EdgeUnitId\"])\n",
      "    #SwVersion    String    EDGE software version.\n",
      "        ,'SwVersion' : meta[\"EdgeSoftwareVersion\"]\n",
      "    #RToolID    String    Right Tool ID.\n",
      "        ,'LToolID' : meta.get('EdgeToolIdLeftHex',meta['EdgeToolIdLeft']) #return hex ID if available (old tests do not report hex)\n",
      "        ,'RToolID' : meta.get('EdgeToolIdRightHex',meta['EdgeToolIdRight'])\n",
      "    #TestLength    String    The length of time it took to complete the task. Ex: 02:00.0.\n",
      "        ,'TestLength' : meta[\"TestDurationInSeconds\"]\n",
      "    #testlengthpass\tBoolean\tLength of test is within acceptable bounds\n",
      "        ,'TestLengthPass': 1 if float(meta[\"TestDurationInSeconds\"])>5 else 0\n",
      "    #UploadDate    String    Upload Date\n",
      "        ,'UploadDate' : '.'.join(str(meta['DataFileNameOnEdge']).split('\\\\')[3].split('.')[:6])\n",
      "    #Badframe\tInt\tVideo dropped frame count.\n",
      "        ,'BadFrames': meta['VideoDroppedFrameCount']\n",
      "        \n",
      "                    }\n",
      "    \n",
      "    #InstitutionID    String    EDGE Institution ID.\n",
      "    inst = ['Engineering','Tulane','SIU','UPMC','Madigan','Duke','UC Irvine','UNM','Cleveland Clinic','UW','OSU','NA','NA']\n",
      "    try: InstitutionID = inst[meta['EdgeUnitId']]\n",
      "    except: InstitutionID = 'Unknown'\n",
      "    jsonSimscore['InstitutionID'] = InstitutionID   \n",
      "    \n",
      "    #TaskType    String    Task Type.\n",
      "    tasks = ['PegTransfer','Cutting','Suture','ClipApply']\n",
      "    try: TaskType = tasks[meta[\"TaskId\"]]\n",
      "    except: TaskType = 'Unknown'\n",
      "    jsonSimscore['TaskType'] = TaskType \n",
      "    \n",
      "    #ProctorValues\n",
      "    jsonSimscore['ProctorValues'] = meta.get('Proctor'+TaskType,'Unknown')\n",
      "    \n",
      "    #UploadDateUnix    Time    Date converted into Unix Epoch C Time for fast sorting.\n",
      "    filename = str(meta['DataFileNameOnEdge']).split('\\\\')[3].split('.')\n",
      "    edgetime = '.'.join(filename[:6])\n",
      "    jsonSimscore['UploadDateUnix'] = int(time.mktime(time.strptime(edgetime, '%Y.%m.%d.%H.%M.%S'))) \n",
      "    \n",
      "    \n",
      "    #pathlength\tBoolean\tTotal tool path length is above an accepted minimum\n",
      "    \n",
      "    #pathlenthvalue\tString\t\n",
      "    \n",
      "    #proctor\tBoolean\tSanity check on proctor field values\n",
      "    \n",
      "    #continuous\tBoolean\tCheck for any temporal discontinuities \n",
      "    check = 1\n",
      "    for x in diff(diff(data['%Time_V1']) ):\n",
      "        if x > 0.005 or x < -.005: check = 0\n",
      "    jsonSimscore['Continuous'] = check\n",
      "    \n",
      "    return jsonSimscore\n",
      "\n",
      "jsonSimscore = summary_metrics(meta,data)\n",
      "pp.pprint(jsonSimscore)"
     ],
     "language": "python",
     "metadata": {},
     "outputs": [
      {
       "output_type": "stream",
       "stream": "stdout",
       "text": [
        "{   'BadFrames': 1,\n",
        "    'Continuous': 1,\n",
        "    'EdgeID': '6',\n",
        "    'InstitutionID': 'UC Irvine',\n",
        "    'IsPractice': False,\n",
        "    'LToolID': u'40000014',\n",
        "    'MetadataFilename': u'edge6/2012/11/13.21.07.03.288.0.log',\n",
        "    'ProctorID': '205',\n",
        "    'ProctorValues': {   u'DroppedOutsideTaskRegion': False,\n",
        "                         u'InstrumentLeftFieldOfView': False,\n",
        "                         u'NonMidAirTransferBetweenHands': False,\n",
        "                         u'NumberDropped': 0},\n",
        "    'RToolID': u'00000040',\n",
        "    'SwVersion': u'1.6.0.0',\n",
        "    'TaskType': 'PegTransfer',\n",
        "    'TestDataFilename': u'edge6/2012/11/13.21.07.03.288.0.txt',\n",
        "    'TestID': u'edge6/2012/11/13.21.07.03.288.0',\n",
        "    'TestLength': 83.2397611,\n",
        "    'TestLengthPass': 1,\n",
        "    'UploadDate': '2012.11.13.21.07.03',\n",
        "    'UploadDateUnix': 1352869623,\n",
        "    'UserID': '288',\n",
        "    'VideoDataFilename': u'edge6/2012/11/13.21.07.03.288.0.mp4'}\n"
       ]
      }
     ],
     "prompt_number": 22
    },
    {
     "cell_type": "heading",
     "level": 5,
     "metadata": {},
     "source": [
      "Test Data Metrics"
     ]
    },
    {
     "cell_type": "code",
     "collapsed": false,
     "input": [
      "from fetch.configuration import isClipTask\n",
      "#testID\tInt\tThe test ID this record is associated with. See Test Summary.\n",
      "#Metric\tString\t\n",
      "def data_metrics_append(jsonSimscore, data, filename):\n",
      "    jsonSimscore.update({\n",
      "        #Max\tFloat\tMin\tFloat                 \n",
      "         'MinMax' : validate.findMinMax(data)\n",
      "        #Dead\tBoolean\t\n",
      "        ,'DeadSensors' : validate.findDeadSensor(validate.findMinMax(data))\n",
      "        #Out of Range\tBoolean\n",
      "        ,'OutOfRange' : validate.findOutOfRange(validate.findMinMax(data))\n",
      "        #NaN\tBoolean\t\n",
      "        ,'NaNSensors' : validate.findNans(data, isClipTask(filename))\n",
      "    })\n",
      "    return jsonSimscore\n",
      "\n",
      "jsonSimscore = data_metrics_append(jsonSimscore, data, filename)\n",
      "pp.pprint(jsonSimscore)"
     ],
     "language": "python",
     "metadata": {},
     "outputs": [
      {
       "output_type": "stream",
       "stream": "stdout",
       "text": [
        "{   'BadFrames': 1,\n",
        "    'Continuous': 1,\n",
        "    'DeadSensors': [],\n",
        "    'EdgeID': '6',\n",
        "    'InstitutionID': 'UC Irvine',\n",
        "    'IsPractice': False,\n",
        "    'LToolID': u'40000014',\n",
        "    'MetadataFilename': u'edge6/2012/11/13.21.07.03.288.0.log',\n",
        "    'MinMax': {   '%Time_V1': {   'max': 84.691999999999993, 'min': 0.047},\n",
        "                  'Fg_L': {   'max': 8.1159999999999997,\n",
        "                              'min': -8.5839999999999996},\n",
        "                  'Fg_R': {   'max': 19.215, 'min': 0.0},\n",
        "                  'J1_L': {   'max': 64.164000000000001,\n",
        "                              'min': 0.56699999999999995},\n",
        "                  'J1_R': {   'max': 62.759999999999998, 'min': 1.78},\n",
        "                  'J2_L': {   'max': 0.14399999999999999,\n",
        "                              'min': -60.280999999999999},\n",
        "                  'J2_R': {   'max': 0.0, 'min': -66.131},\n",
        "                  'Lin_L': {   'max': 8.5999999999999996,\n",
        "                               'min': -3.3450000000000002},\n",
        "                  'Lin_R': {   'max': 8.5489999999999995,\n",
        "                               'min': -2.2559999999999998},\n",
        "                  'Rot_L': {   'max': -30.024000000000001, 'min': -188.28},\n",
        "                  'Rot_R': {   'max': -87.695999999999998, 'min': -208.512},\n",
        "                  'ThG_L': {   'max': 13.25, 'min': -1.7669999999999999},\n",
        "                  'ThG_R': {   'max': -0.14699999999999999,\n",
        "                               'min': -14.132999999999999},\n",
        "                  'X_L': {   'max': 1.0389999999999999,\n",
        "                             'min': -7.3399999999999999},\n",
        "                  'X_R': {   'max': 7.1459999999999999,\n",
        "                             'min': -3.9020000000000001},\n",
        "                  'Y_L': {   'max': 5.524, 'min': -9.0380000000000003},\n",
        "                  'Y_R': {   'max': 4.915, 'min': -7.242},\n",
        "                  'Z_L': {   'max': 14.092000000000001,\n",
        "                             'min': -4.0780000000000003},\n",
        "                  'Z_R': {   'max': 13.795999999999999,\n",
        "                             'min': -3.4489999999999998}},\n",
        "    'NaNSensors': [],\n",
        "    'OutOfRange': ['Fg_L'],\n",
        "    'ProctorID': '205',\n",
        "    'ProctorValues': {   u'DroppedOutsideTaskRegion': False,\n",
        "                         u'InstrumentLeftFieldOfView': False,\n",
        "                         u'NonMidAirTransferBetweenHands': False,\n",
        "                         u'NumberDropped': 0},\n",
        "    'RToolID': u'00000040',\n",
        "    'SwVersion': u'1.6.0.0',\n",
        "    'TaskType': 'PegTransfer',\n",
        "    'TestDataFilename': u'edge6/2012/11/13.21.07.03.288.0.txt',\n",
        "    'TestID': u'edge6/2012/11/13.21.07.03.288.0',\n",
        "    'TestLength': 83.2397611,\n",
        "    'TestLengthPass': 1,\n",
        "    'UploadDate': '2012.11.13.21.07.03',\n",
        "    'UploadDateUnix': 1352869623,\n",
        "    'UserID': '288',\n",
        "    'VideoDataFilename': u'edge6/2012/11/13.21.07.03.288.0.mp4'}\n"
       ]
      }
     ],
     "prompt_number": 29
    },
    {
     "cell_type": "heading",
     "level": 5,
     "metadata": {},
     "source": [
      "Machine Health Metrics"
     ]
    },
    {
     "cell_type": "code",
     "collapsed": false,
     "input": [
      "def start_v_end(*args):\n",
      "    \n",
      "    return tuple( e[-1]-e[0] for e in args)\n",
      "\n",
      "a, b = start_v_end(data['%Time_V1'],data['Fg_R'])\n",
      "print a, b\n",
      "print data.dtype.names"
     ],
     "language": "python",
     "metadata": {},
     "outputs": [
      {
       "output_type": "stream",
       "stream": "stdout",
       "text": [
        "84.645 0.0\n",
        "('%Time_V1', 'J1_L', 'J2_L', 'Lin_L', 'Rot_L', 'ThG_L', 'Fg_L', 'J1_R', 'J2_R', 'Lin_R', 'Rot_R', 'ThG_R', 'Fg_R', 'X_L', 'Y_L', 'Z_L', 'X_R', 'Y_R', 'Z_R')\n"
       ]
      }
     ],
     "prompt_number": 55
    },
    {
     "cell_type": "code",
     "collapsed": false,
     "input": [
      "#\tMachineHealthReportID\tInt\t\n",
      "#\tActiveRecord\tBoolean\tUsed to keep track of what machine health record is shown in the dashboard.\n",
      "#\tkinematics\tBoolean\tKinematics set to default values\n",
      "#\tmd5hash\tBoolean\tMD5 hash is intact\n",
      "\n",
      "#\ttooltipposvalue\tFloat\t\n",
      "{'left':list(start_v_end(data['X_L'],data['Y_L'],data['Z_L'])), 'right':list(start_v_end(data['X_R'],data['Y_R'],data['Z_R']))}\n",
      "\n",
      "#\ttooltippos\tBoolean\tTool tip position same at beginning and end of test (tooltip drift)\n",
      "\n",
      "\n",
      "#\tLinEncDrift\tBoolean\tIs there linear encoder drift?\n",
      "#\tLinEncDriftValue\tFloat\tOffset from start and finish linear encoder point\n",
      "#\tToolID\tBoolean\tCheck that tool IDs exist in database\n",
      "\n",
      "#\tlastCalibration\tString\tDate of last machine calibration.\n",
      "#\tlastUpload\tString\tDate of last uploaded test to machine.\n",
      "#\tFailType\tString\tConcatenated string of items that failed. Ex: OB Data, Video Corruption"
     ],
     "language": "python",
     "metadata": {},
     "outputs": [
      {
       "output_type": "pyout",
       "prompt_number": 60,
       "text": [
        "{'left': [-0.18299999999999983, -0.06899999999999995, -1.0449999999999999],\n",
        " 'right': [0.038999999999999702,\n",
        "  -0.008999999999999897,\n",
        "  -0.0030000000000001137]}"
       ]
      }
     ],
     "prompt_number": 60
    },
    {
     "cell_type": "code",
     "collapsed": false,
     "input": [
      "#FailType\tList of String\tList of Failure Types for whole test: OB Data, Video Corruption\n",
      "#List of errors to report (previously computed)\n",
      "errors = ['NaNSensors','DeadSensors','OutOfRange']#DroppedFrames, InvalidToolID, LinEncDrift\n",
      "#jsonSimscore['FailTypes'] = [error for error in errors if jsonSimscore[error] != [] ]\n",
      "\n",
      "#OutOfRange\n",
      "#NaN\n",
      "#DeadSensor\n",
      "#DroppedFrames\n",
      "#BadToolID\n",
      "#LinEncDrift\n",
      "#InvalidToolID"
     ],
     "language": "python",
     "metadata": {},
     "outputs": [
      {
       "ename": "TypeError",
       "evalue": "'NoneType' object has no attribute '__getitem__'",
       "output_type": "pyerr",
       "traceback": [
        "\u001b[1;31m---------------------------------------------------------------------------\u001b[0m\n\u001b[1;31mTypeError\u001b[0m                                 Traceback (most recent call last)",
        "\u001b[1;32m<ipython-input-19-616da8b4b06e>\u001b[0m in \u001b[0;36m<module>\u001b[1;34m()\u001b[0m\n\u001b[0;32m      2\u001b[0m \u001b[1;31m#List of errors to report (previously computed)\u001b[0m\u001b[1;33m\u001b[0m\u001b[1;33m\u001b[0m\u001b[0m\n\u001b[0;32m      3\u001b[0m \u001b[0merrors\u001b[0m \u001b[1;33m=\u001b[0m \u001b[1;33m[\u001b[0m\u001b[1;34m'NaNSensors'\u001b[0m\u001b[1;33m,\u001b[0m\u001b[1;34m'DeadSensors'\u001b[0m\u001b[1;33m,\u001b[0m\u001b[1;34m'OutOfRange'\u001b[0m\u001b[1;33m]\u001b[0m\u001b[1;31m#DroppedFrames, InvalidToolID, LinEncDrift\u001b[0m\u001b[1;33m\u001b[0m\u001b[0m\n\u001b[1;32m----> 4\u001b[1;33m \u001b[0mjsonSimscore\u001b[0m\u001b[1;33m[\u001b[0m\u001b[1;34m'FailTypes'\u001b[0m\u001b[1;33m]\u001b[0m \u001b[1;33m=\u001b[0m \u001b[1;33m[\u001b[0m\u001b[0merror\u001b[0m \u001b[1;32mfor\u001b[0m \u001b[0merror\u001b[0m \u001b[1;32min\u001b[0m \u001b[0merrors\u001b[0m \u001b[1;32mif\u001b[0m \u001b[0mjsonSimscore\u001b[0m\u001b[1;33m[\u001b[0m\u001b[0merror\u001b[0m\u001b[1;33m]\u001b[0m \u001b[1;33m!=\u001b[0m \u001b[1;33m[\u001b[0m\u001b[1;33m]\u001b[0m \u001b[1;33m]\u001b[0m\u001b[1;33m\u001b[0m\u001b[0m\n\u001b[0m\u001b[0;32m      5\u001b[0m \u001b[1;33m\u001b[0m\u001b[0m\n\u001b[0;32m      6\u001b[0m \u001b[1;31m#OutOfRange\u001b[0m\u001b[1;33m\u001b[0m\u001b[1;33m\u001b[0m\u001b[0m\n",
        "\u001b[1;31mTypeError\u001b[0m: 'NoneType' object has no attribute '__getitem__'"
       ]
      }
     ],
     "prompt_number": 19
    },
    {
     "cell_type": "code",
     "collapsed": false,
     "input": [
      "#from fetch.configuration import kinematics\n",
      "#fetch.configuration.__file__"
     ],
     "language": "python",
     "metadata": {},
     "outputs": []
    },
    {
     "cell_type": "heading",
     "level": 1,
     "metadata": {},
     "source": [
      "Simscore Communications"
     ]
    },
    {
     "cell_type": "code",
     "collapsed": false,
     "input": [
      "import pycurl\n",
      "import cStringIO\n",
      "#10.23.12 - written to retrieve aua user skill as per Martin's email 10/18/12\n",
      "\n",
      "def loginSimscore(c):\n",
      "    \"\"\"Login to Simscore with Grading account\"\"\"\n",
      "    #buf = cStringIO.StringIO()\n",
      "     \n",
      "    c.setopt(c.URL, 'http://simscore.org/simscores-v1/user/login')\n",
      "    c.setopt(c.HTTPHEADER, ['Content-Type: application/json'])\n",
      "    c.setopt(c.POSTFIELDS, '{\"username\":\"grading\", \"password\":\"r*tFQqmb\"}')\n",
      "    c.setopt(c.COOKIEFILE, '')\n",
      "    #c.setopt(c.VERBOSE, True)\n",
      "    #c.setopt(c.WRITEFUNCTION, buf.write)\n",
      "    c.perform()\n",
      "    return c\n",
      "    \n",
      "#c = pycurl.Curl()  \n",
      "#c = loginSimscore(c)"
     ],
     "language": "python",
     "metadata": {},
     "outputs": []
    },
    {
     "cell_type": "code",
     "collapsed": false,
     "input": [
      "import ast\n",
      "\n",
      "def getSkillSimscore(c):\n",
      "    \"\"\"GET json of AUA users from Simscore given previous login & global cookie\"\"\"\n",
      "    #c = pycurl.Curl()\n",
      "    auausers = cStringIO.StringIO()\n",
      "    \n",
      "    c.setopt(c.URL, 'http://simscore.org/simscores-v1/auainfo')\n",
      "    c.setopt(c.HTTPHEADER, ['Content-Type: application/json'])\n",
      "    c.setopt(c.HTTPGET, 1)\n",
      "    #c.setopt(c.VERBOSE, True)\n",
      "    c.setopt(c.WRITEFUNCTION, auausers.write)\n",
      "    \n",
      "    c.perform()\n",
      "    #Given the string in auausers, convert to dict\n",
      "    xx = ast.literal_eval(auausers.getvalue())\n",
      "    aua_skill = {}\n",
      "    for u in xx:\n",
      "        aua_skill[ u['uid']] = u['level'] #two values: user id and that user's level\n",
      "    return aua_skill\n",
      "\n",
      "#auausers = getSkillSimscore(c)\n",
      "#print auausers"
     ],
     "language": "python",
     "metadata": {},
     "outputs": []
    },
    {
     "cell_type": "code",
     "collapsed": false,
     "input": [
      "def logoutSimscore(c):\n",
      "    \"\"\"Logout from Simscore\"\"\"\n",
      "    #c = pycurl.Curl()\n",
      "    c.setopt(c.URL, 'http://simscore.org/simscores-v1/user/logout')\n",
      "    c.setopt(c.POST, 1)\n",
      "    c.setopt(c.HTTPHEADER, ['Content-Type: application/json'])\n",
      "    #c.setopt(c.VERBOSE, True)\n",
      "    \n",
      "    c.perform()\n",
      "    return c\n",
      "\n",
      "#c = logoutSimscore(c)"
     ],
     "language": "python",
     "metadata": {},
     "outputs": []
    }
   ],
   "metadata": {}
  }
 ]
}