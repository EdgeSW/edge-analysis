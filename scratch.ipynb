{
 "metadata": {
  "name": "scratch"
 },
 "nbformat": 3,
 "nbformat_minor": 0,
 "worksheets": [
  {
   "cells": [
    {
     "cell_type": "code",
     "collapsed": false,
     "input": [
      "import sys, os\n",
      "sys.path.append('C:\\\\Users\\\\Tyler\\\\.ipython\\\\Simscore-Computing')\n",
      "import boto, time, json, pprint\n",
      "from datetime import datetime, timedelta\n",
      "import numpy as np\n",
      "\n",
      "import fetch.myS3 as myS3\n",
      "import fetch.mySQS as mySQS\n",
      "import validity_metrics as vm\n",
      "from aws import aws_ak, aws_sk\n",
      "from report.configuration import isClipTask   \n",
      "import report.validate as validate\n",
      "conn = boto.connect_s3(aws_ak, aws_sk)\n",
      "bucket = conn.get_bucket('incoming-simscore-org')"
     ],
     "language": "python",
     "metadata": {},
     "outputs": [],
     "prompt_number": 1
    },
    {
     "cell_type": "code",
     "collapsed": false,
     "input": [
      "def lists_contain_same(lis1, lis2):\n",
      "    if lis1 == lis2:\n",
      "        return True\n",
      "    if len(lis1)!=len(lis2):\n",
      "        return False\n",
      "    for item in lis1:\n",
      "        if item not in lis2:\n",
      "            return False\n",
      "    for item in lis2:\n",
      "        if item not in lis1:\n",
      "            return False\n",
      "    return True\n"
     ],
     "language": "python",
     "metadata": {},
     "outputs": [
      {
       "output_type": "pyout",
       "prompt_number": 9,
       "text": [
        "True"
       ]
      }
     ],
     "prompt_number": 9
    },
    {
     "cell_type": "code",
     "collapsed": false,
     "input": [
      "foo = ['edge1/2012/10/08.15.22.48.323.1.txt', #should be dead FgL\n",
      "    'edge6/2013/01/25.21.33.58.393.0.txt', # should be dead thg_l, rot_l\n",
      "    'edge2/2013/01/09.16.06.18.378.3.txt', # shuld be dead fgr\n",
      "    'edge2/2012/12/03.20.12.46.109.3.txt', # should be dead fgr\n",
      "    'edge2/2012/12/03.17.30.47.109.3.txt', # should be dead FgR, FgL\n",
      "    'edge3/2012/11/02.20.21.23.338.0.txt', # should be dead ThG_L\n",
      "    'edge6/2012/11/05.19.24.12.340.2.txt', #should be dead RotL, FgL (only RotL right now)\n",
      "    'edge6/2013/01/25.22.30.14.312.0.txt'] # should be dead FgR, TghR, RotR\n",
      "\n",
      "expected_deads = ['edge6/2013/01/25.21.38.35.393.0.txt','edge6/2013/01/25.22.30.14.312.0.txt']\n",
      "laterchecks = ['edge2/2012/12/03.17.28.20.109.3.txt','edge2/2012/12/03.17.05.47.109.3.txt']#why does this not say LinR in badsensors? http://simscore.org/edge/test/1185\n",
      "\n",
      "\n"
     ],
     "language": "python",
     "metadata": {},
     "outputs": [],
     "prompt_number": 2
    },
    {
     "cell_type": "code",
     "collapsed": false,
     "input": [
      "unit_files = [#Name, Dead, OOR, NaN\n",
      "(\t\"edge6/2013/01/31.00.42.06.392.3.txt\"\t,\t[]\t,\t[]\t,\t[]\t),\n",
      "(\t\"edge10/2013/01/22.18.09.46.209.0.txt\"\t,\t[]\t,\t[]\t,\t[]\t),\n",
      "(\t\"edge10/2013/01/26.16.02.02.365.0.txt\"\t,\t[]\t,\t[]\t,\t[]\t),\n",
      "(\t\"edge3/2013/01/18.18.54.37.336.1.txt\"\t,\t[]\t,\t[]\t,\t[]\t),\n",
      "(\t\"edge6/2013/01/31.00.50.47.392.2.txt\"\t,\t[]\t,\t[]\t,\t[]\t),\n",
      "(\t\"edge6/2013/01/31.00.46.29.392.2.txt\"\t,\t[]\t,\t[]\t,\t[]\t),\n",
      "\t\t\t\t\t\t\t\t\t\t\t\t\t\t\t\t\n",
      "(\t\"edge7/2012/12/07.15.37.27.109.2.txt\"\t,\t[]\t,\t[\"ThG_L\", \"Fg_L\", \"ThG_R\"]\t,\t[]\t),\n",
      "(\t\"edge9/2012/11/29.01.24.15.251.1.txt\"\t,\t[]\t,\t[\"Fg_L\", \"Fg_R\"]\t,\t[]\t),\n",
      "(\t\"edge9/2012/11/29.01.22.22.251.3.txt\"\t,\t[]\t,\t[\"Fg_L\", \"Lin_R\"]\t,\t[]\t),\n",
      "\t\t\t\t\t\t\t\t\t\t\t\t\t\t\t\t\n",
      "(\t\"edge8/2012/12/06.18.40.18.109.1.txt\"\t,\t[\"Fg_L\"]\t,\t[]\t,\t[]\t),\n",
      "(\t\"edge8/2012/12/06.18.39.40.109.1.txt\"\t,\t[\"Fg_L\"]\t,\t[]\t,\t[]\t),\t\t\t\t\t\t\t\t\n",
      "\t\t\t\t\t\t\t\t\t\t\t\t\t\t\t\t\n",
      "(\t\"edge6/2012/11/05.18.59.45.340.1.txt\"\t,\t[]\t,\t[\"Fg_L\"]\t,\t[\"Fg_R\"]\t),\n",
      "(\t\"edge6/2012/11/05.18.46.23.340.0.txt\"\t,\t[]\t,\t[\"Fg_L\"]\t,\t[\"Fg_R\"]\t),\t\t\t\t\t\t\t\t\t\t\t\t\t\t\t\t\n",
      "\t\t\t\t\t\t\t\t\n",
      "(\t\"edge6/2012/11/05.19.24.12.340.2.txt\"\t,\t[\"Fg_L\", \"Rot_L\"]\t,\t[\"Fg_L\", \"ThG_L\"]\t,\t[]\t),\n",
      "(\t\"edge1/2012/10/08.15.22.48.323.1.txt\"\t,\t[\"Fg_L\"]\t,\t[\"Fg_L\"]\t,\t[]\t),\n",
      "(\t\"edge6/2013/01/25.21.33.58.393.0.txt\"\t,\t[\"Rot_L,\" \"ThG_L\"]\t,\t[\"ThG_L\"]\t,\t[]\t),\n",
      "(\t\"edge2/2013/01/09.16.06.18.378.3.txt\"\t,\t[\"Fg_R\"]\t,\t[\"Rot_L\"]\t,\t[]\t),\n",
      "(\t\"edge2/2012/12/03.20.12.46.109.3.txt\"\t,\t[\"Fg_R\"]\t,\t[\"Lin_R\"]\t,\t[]\t),\n",
      "(\t\"edge6/2013/01/25.22.30.14.312.0.txt\"\t,\t[\"Fg_R\", \"ThG_R\", \"Rot_R\"]\t,\t[\"ThG_R\"]\t,\t[]\t)\n",
      "\n",
      "]"
     ],
     "language": "python",
     "metadata": {},
     "outputs": [],
     "prompt_number": 14
    },
    {
     "cell_type": "code",
     "collapsed": false,
     "input": [
      "#Compute Summary Metrics\n",
      "datadict = myS3.getDataFromTxtFileList(bucket, foo, labeled=True)"
     ],
     "language": "python",
     "metadata": {},
     "outputs": [],
     "prompt_number": 3
    },
    {
     "cell_type": "code",
     "collapsed": false,
     "input": [
      "#test against nan data \n",
      "def isDead(vector, dmin, dmax, taskid, snsr, isPractice):\n",
      "    '''Vector: one senor vector. dmin and dmax are calculated from report.validate.\n",
      "isClipApply is a boolean value.\n",
      "Function returns boolean.'''\n",
      "    #first, do a check to make sure Rotation isn't off the charts\n",
      "    if dmin < -1e6 or dmax > 1e6: return False\n",
      "    \n",
      "    #first check - highly stringent, whole test approach\n",
      "    if abs(dmax - dmin) < 0.005: \n",
      "        return True\n",
      "    \n",
      "    if isPractice: return False\n",
      "    \n",
      "    #second check - does any pair of precise values account for 95% of values\n",
      "        #and those two values are separated by less than 1 unit\n",
      "    numbins = (dmax - dmin)/0.01\n",
      "    if numbins > 720/0.01: numbins = 720/0.01\n",
      "    a, b = np.histogram(vector, numbins)\n",
      "    \n",
      "    if sum(a[a.argsort()[-2:]])/float(len(vector)) > .95:\n",
      "        return True\n",
      "    \n",
      "    #placed so that the third check is not performed for clip applys and\n",
      "    #that suturing tasks don't do a length check for grasps (normal usage)\n",
      "    if taskid == 3: return False\n",
      "    if taskid == 2 and snsr in ['ThG_L','ThG_R']: return False\n",
      "    \n",
      "    #third check - is data dead for a time\n",
      "    deadtime = 25*30#seconds*samplerate\n",
      "    for i in range(0,len(vector)-deadtime, 5*30):\n",
      "        if np.max(vector[i:i+deadtime]) - np.min(vector[i:i+deadtime]) < 0.01:\n",
      "            return True\n",
      "        \n",
      "    return False\n",
      "    \n",
      "def isFgDead(Fg, dmin, dmax):\n",
      "    '''The more complex checks in isDead do not apply to grasp force, which is often\n",
      "intentionally \"dead\" for extended periods between grasps. Thus, a very simple check is required'''\n",
      "    if dmax-dmin < 1: #3 is Tim's cutoff for grasp\n",
      "        return True\n",
      "    else:\n",
      "        return False"
     ],
     "language": "python",
     "metadata": {},
     "outputs": [],
     "prompt_number": 14
    },
    {
     "cell_type": "code",
     "collapsed": false,
     "input": [
      "def findDeadSensors(data, minmax, taskid, isPractice):\n",
      "    '''overarching check for dead sensors in a given test. data is a matrix of sensor \n",
      "vectors, minmax is a dict of dicts computed from validate.minmax.\n",
      "Returns: a list of sensors determined to be dead.'''\n",
      "    results = []\n",
      "    \n",
      "    for name in data.dtype.names:\n",
      "        if taskid ==3 and name in ['Rot_R','ThG_R']:\n",
      "            continue\n",
      "        \n",
      "        if name in ['Fg_L','Fg_R']:\n",
      "            if isFgDead(data[name], minmax[name]['min'], minmax[name]['max']):\n",
      "                results.append(name)\n",
      "        elif isDead(data[name], minmax[name]['min'], minmax[name]['max'], taskid, name, isPractice):\n",
      "            results.append(name)\n",
      "            \n",
      "    return results\n",
      "\n",
      "#filename = 'edge6/2013/01/25.22.30.14.312.0.txt'\n",
      "#dd = datadict[filename]['data']\n",
      "#minmax = validate.findMinMax(dd)\n",
      "#findDeadSensors(dd, minmax, isClipTask(filename))"
     ],
     "language": "python",
     "metadata": {},
     "outputs": [],
     "prompt_number": 15
    },
    {
     "cell_type": "code",
     "collapsed": false,
     "input": [
      "#biglist = myS3.getFilesBetween(datetime.utcnow()-timedelta(days=30), datetime.utcnow(), bucket, True)"
     ],
     "language": "python",
     "metadata": {},
     "outputs": [],
     "prompt_number": 9
    },
    {
     "cell_type": "code",
     "collapsed": false,
     "input": [
      "new_deads = []\n",
      "for test in unit_files:\n",
      "    try:\n",
      "        data, meta = myS3.getData(bucket, test[0], labeled=True)\n",
      "        minmax = validate.findMinMax(data)\n",
      "        \n",
      "        new_dead = findDeadSensors(data, minmax, meta['TaskId'], meta['IsPracticeTest'])\n",
      "        old_dead = validate.findDeadSensor(validate.findMinMax(data), isClipTask(test[0]))\n",
      "        #oors = validate.findOutOfRange(minmax)\n",
      "        \n",
      "        print 'verifying',test[0]\n",
      "        print 'Dead sensors should be:', test[2]\n",
      "        print 'New method caught:', new_dead\n",
      "        print 'Old method caught:', old_dead\n",
      "        print \n",
      "    except Exception as e:\n",
      "        print e\n",
      "        print 'error in',fn"
     ],
     "language": "python",
     "metadata": {},
     "outputs": [
      {
       "output_type": "stream",
       "stream": "stdout",
       "text": [
        "edge10/2013/01/10.13.45.59.369.1.txt ['ThG_L']\n",
        "edge10/2013/01/10.15.22.12.389.2.txt"
       ]
      },
      {
       "output_type": "stream",
       "stream": "stdout",
       "text": [
        " ['J1_R', 'J2_R', 'Lin_R', 'Rot_R', 'X_R', 'Y_R', 'Z_R']\n",
        "edge10/2013/01/10.16.33.59.386.3.txt"
       ]
      },
      {
       "output_type": "stream",
       "stream": "stdout",
       "text": [
        " ['Fg_L']\n",
        "edge10/2013/01/14.17.37.01.356.1.txt"
       ]
      },
      {
       "output_type": "stream",
       "stream": "stdout",
       "text": [
        " ['Fg_L']\n",
        "edge10/2013/01/24.17.05.48.389.2.txt"
       ]
      },
      {
       "output_type": "stream",
       "stream": "stdout",
       "text": [
        " ['J1_R', 'J2_R', 'Lin_R', 'Rot_R', 'X_R', 'Y_R', 'Z_R']\n",
        "edge2/2013/01/09.17.29.40.382.2.txt"
       ]
      },
      {
       "output_type": "stream",
       "stream": "stdout",
       "text": [
        " ['J1_R', 'J2_R', 'Lin_R', 'Rot_R', 'X_R', 'Y_R', 'Z_R']\n",
        "edge6/2013/01/25.21.43.21.393.0.txt"
       ]
      },
      {
       "output_type": "stream",
       "stream": "stdout",
       "text": [
        " ['Rot_L']\n",
        "'NoneType' object has no attribute 'dtype'"
       ]
      },
      {
       "output_type": "stream",
       "stream": "stdout",
       "text": [
        "\n",
        "error in edge7/2013/01/07.16.59.48.370.2.txt\n"
       ]
      }
     ],
     "prompt_number": 16
    },
    {
     "cell_type": "code",
     "collapsed": false,
     "input": [],
     "language": "python",
     "metadata": {},
     "outputs": []
    },
    {
     "cell_type": "raw",
     "metadata": {},
     "source": [
      "Completely ignore ThG dead for filters more complex than max-min? edge10/2013/01/10.13.45.59.369.1.txt\n",
      "How to address suturing task where put down right tool to cut and they just really suck at it?\n",
      "    Perhaps ignore last 60sec of suturing task?\n",
      "\n",
      "\n",
      "edge10/2013/01/10.13.45.59.369.1.txt ['ThG_L']\n",
      "edge10/2013/01/10.15.22.12.389.2.txt ['J1_R', 'J2_R', 'Lin_R', 'Rot_R', 'X_R', 'Y_R', 'Z_R']\n",
      "edge10/2013/01/10.16.15.28.386.1.txt ['Fg_L']\n",
      "edge10/2013/01/10.16.33.59.386.3.txt ['Fg_L', 'Fg_R']\n",
      "edge10/2013/01/14.17.37.01.356.1.txt ['Fg_L']\n",
      "edge10/2013/01/17.12.36.57.286.0.txt ['Fg_L']\n",
      "edge10/2013/01/22.18.16.44.209.1.txt ['Fg_L']\n",
      "edge10/2013/01/22.18.38.26.209.2.txt ['Fg_L']\n",
      "edge10/2013/01/24.17.05.48.389.2.txt ['J1_R', 'J2_R', 'Lin_R', 'Rot_R', 'X_R', 'Y_R', 'Z_R']\n",
      "edge2/2013/01/09.17.29.40.382.2.txt ['J1_R', 'J2_R', 'Lin_R', 'Rot_R', 'X_R', 'Y_R', 'Z_R']\n",
      "edge6/2013/01/16.22.17.15.346.1.txt ['Fg_L']\n",
      "edge6/2013/01/17.18.47.05.313.1.txt ['Fg_L']\n",
      "edge6/2013/01/18.20.43.17.340.3.txt ['Fg_L']\n",
      "edge6/2013/01/18.21.25.44.307.1.txt ['Fg_L']\n",
      "edge6/2013/01/25.21.43.21.393.0.txt ['Rot_L']\n",
      "edge6/2013/01/31.00.30.19.392.1.txt ['Fg_L']\n",
      "edge6/2013/01/31.00.57.07.392.1.txt ['Fg_L']\n",
      "edge7/2013/01/07.16.11.12.370.0.txt ['Fg_R']\n",
      "edge7/2013/01/07.16.39.49.370.3.txt ['Fg_L']\n",
      "'NoneType' object has no attribute 'dtype'\n",
      "error in edge7/2013/01/07.16.59.48.370.2.txt\n",
      "\n",
      "WITH 1 AS THRESH FOR FG:\n",
      "1 false positive, 2 would be ignored (pretty good for 1 month!)\n",
      "3 need to be fixed\n",
      "edge10/2013/01/10.13.45.59.369.1.txt ['ThG_L']\n",
      "edge10/2013/01/10.15.22.12.389.2.txt ['J1_R', 'J2_R', 'Lin_R', 'Rot_R', 'X_R', 'Y_R', 'Z_R']\n",
      "edge10/2013/01/10.16.33.59.386.3.txt ['Fg_L']\n",
      "edge10/2013/01/14.17.37.01.356.1.txt ['Fg_L']\n",
      "edge10/2013/01/24.17.05.48.389.2.txt ['J1_R', 'J2_R', 'Lin_R', 'Rot_R', 'X_R', 'Y_R', 'Z_R']\n",
      "edge2/2013/01/09.17.29.40.382.2.txt ['J1_R', 'J2_R', 'Lin_R', 'Rot_R', 'X_R', 'Y_R', 'Z_R']\n",
      "edge6/2013/01/25.21.43.21.393.0.txt ['Rot_L'] (real)"
     ]
    }
   ],
   "metadata": {}
  }
 ]
}