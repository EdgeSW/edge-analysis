{
 "metadata": {
  "name": "users_report"
 },
 "nbformat": 3,
 "nbformat_minor": 0,
 "worksheets": [
  {
   "cells": [
    {
     "cell_type": "code",
     "collapsed": false,
     "input": [
      "import sys, os\n",
      "sys.path.append('C:\\\\Users\\\\Tyler\\\\.ipython\\\\Simscore-Computing')\n",
      "import boto, time, json, pprint\n",
      "from datetime import datetime, timedelta\n",
      "import numpy as np\n",
      "\n",
      "import fetch.myS3 as myS3\n",
      "import fetch.mySQS as mySQS\n",
      "import validity_metrics as vm\n",
      "from aws import aws_ak, aws_sk\n"
     ],
     "language": "python",
     "metadata": {},
     "outputs": [],
     "prompt_number": 3
    },
    {
     "cell_type": "code",
     "collapsed": false,
     "input": [
      "conn = boto.connect_s3(aws_ak, aws_sk)\n",
      "bucket = conn.get_bucket('incoming-simscore-org')\n",
      "allfiles = myS3.getFilesBetween(mindate=datetime.now()-timedelta(days=9), maxdate=datetime.now(), bucket=bucket, onlyTxtFiles=True)"
     ],
     "language": "python",
     "metadata": {},
     "outputs": [],
     "prompt_number": 6
    },
    {
     "cell_type": "code",
     "collapsed": false,
     "input": [
      "userfiles = []\n",
      "for f in allfiles:\n",
      "    edge = f.split('/')[0][4:]\n",
      "    if f.split('.')[-3] != '109' and edge not in ['0','11','12']:\n",
      "        userfiles.append(f)\n",
      "        \n",
      "ffs = myS3.getTestFiles(userfiles, bucket) \n",
      "print ffs"
     ],
     "language": "python",
     "metadata": {},
     "outputs": [
      {
       "output_type": "stream",
       "stream": "stdout",
       "text": [
        "['edge10/2013/01/14.17.25.22.356.0.txt', 'edge10/2013/01/14.17.37.01.356.1.txt', 'edge10/2013/01/14.17.45.50.356.3.txt', 'edge10/2013/01/14.17.58.43.356.2.txt', 'edge10/2013/01/16.18.39.32.286.0.txt', 'edge10/2013/01/16.18.40.49.286.1.txt', 'edge10/2013/01/16.18.42.25.286.3.txt', 'edge10/2013/01/16.18.43.41.286.2.txt', 'edge10/2013/01/17.12.36.16.286.0.txt', 'edge10/2013/01/17.12.36.57.286.0.txt', 'edge10/2013/01/17.12.38.57.286.2.txt', 'edge10/2013/01/22.12.38.44.286.2.txt', 'edge10/2013/01/22.12.39.36.286.2.txt', 'edge10/2013/01/22.18.12.33.209.0.txt', 'edge10/2013/01/22.18.20.25.209.1.txt', 'edge10/2013/01/22.18.29.32.209.3.txt', 'edge10/2013/01/22.18.38.26.209.2.txt', 'edge10/2013/01/22.20.24.41.386.3.txt', 'edge3/2013/01/18.18.42.22.336.0.txt', 'edge3/2013/01/18.18.54.37.336.1.txt', 'edge3/2013/01/18.19.05.17.336.3.txt', 'edge3/2013/01/18.19.36.35.336.2.txt', 'edge6/2013/01/16.22.24.44.346.1.txt', 'edge6/2013/01/17.18.47.05.313.1.txt', 'edge6/2013/01/17.19.06.05.313.0.txt', 'edge6/2013/01/17.19.08.13.313.0.txt', 'edge6/2013/01/18.20.25.12.340.0.txt', 'edge6/2013/01/18.20.30.03.340.1.txt']\n"
       ]
      }
     ],
     "prompt_number": 7
    },
    {
     "cell_type": "code",
     "collapsed": false,
     "input": [
      "report = {}\n",
      "tasks = ['PegTx','Cutting','Suturing','ClipApply']\n",
      "%load_ext autoreload\n",
      "%autoreload\n",
      "\n",
      "for f in ffs:\n",
      "    print f\n",
      "    uid = f.split('.')[-3]\n",
      "    task = int(f.split('.')[-2])\n",
      "    if not report.get(uid, False): report[uid] = {'Summary':[0,0,0,0], tasks[0]:[], tasks[1]:[], tasks[2]:[], tasks[3]:[]}\n",
      "    \n",
      "    data, meta = myS3.getData(bucket, f, labeled=True)\n",
      "    #Compute Summary Metrics\n",
      "    jsonSimscore = vm.summary_metrics(meta, data, conn)\n",
      "    jsonSimscore = vm.data_metrics_append(jsonSimscore, data, f)\n",
      "    jsonSimscore = vm.machine_health_append(jsonSimscore, meta, data)\n",
      "    failtypes = jsonSimscore['FailTypes']\n",
      "    \n",
      "    report[uid]['Summary'][task] += 1\n",
      "    report[uid][tasks[task]].append([f, failtypes])\n",
      "        "
     ],
     "language": "python",
     "metadata": {},
     "outputs": [
      {
       "output_type": "stream",
       "stream": "stdout",
       "text": [
        "The autoreload extension is already loaded. To reload it, use:\n",
        "  %reload_ext autoreload\n",
        "edge10/2013/01/14.17.25.22.356.0.txt"
       ]
      },
      {
       "output_type": "stream",
       "stream": "stdout",
       "text": [
        "\n",
        "edge10/2013/01/14.17.37.01.356.1.txt"
       ]
      },
      {
       "output_type": "stream",
       "stream": "stdout",
       "text": [
        "\n",
        "edge10/2013/01/14.17.45.50.356.3.txt"
       ]
      },
      {
       "output_type": "stream",
       "stream": "stdout",
       "text": [
        "\n",
        "edge10/2013/01/14.17.58.43.356.2.txt"
       ]
      },
      {
       "output_type": "stream",
       "stream": "stdout",
       "text": [
        "\n",
        "edge10/2013/01/16.18.39.32.286.0.txt"
       ]
      },
      {
       "output_type": "stream",
       "stream": "stdout",
       "text": [
        "\n",
        "edge10/2013/01/16.18.40.49.286.1.txt"
       ]
      },
      {
       "output_type": "stream",
       "stream": "stdout",
       "text": [
        "\n",
        "edge10/2013/01/16.18.42.25.286.3.txt"
       ]
      },
      {
       "output_type": "stream",
       "stream": "stdout",
       "text": [
        "\n",
        "edge10/2013/01/16.18.43.41.286.2.txt"
       ]
      },
      {
       "output_type": "stream",
       "stream": "stdout",
       "text": [
        "\n",
        "edge10/2013/01/17.12.36.16.286.0.txt"
       ]
      },
      {
       "output_type": "stream",
       "stream": "stdout",
       "text": [
        "\n",
        "edge10/2013/01/17.12.36.57.286.0.txt"
       ]
      },
      {
       "output_type": "stream",
       "stream": "stdout",
       "text": [
        "\n",
        "edge10/2013/01/17.12.38.57.286.2.txt"
       ]
      },
      {
       "output_type": "stream",
       "stream": "stdout",
       "text": [
        "\n",
        "edge10/2013/01/22.12.38.44.286.2.txt"
       ]
      },
      {
       "output_type": "stream",
       "stream": "stdout",
       "text": [
        "\n",
        "edge10/2013/01/22.12.39.36.286.2.txt"
       ]
      },
      {
       "output_type": "stream",
       "stream": "stdout",
       "text": [
        "\n",
        "edge10/2013/01/22.18.12.33.209.0.txt"
       ]
      },
      {
       "output_type": "stream",
       "stream": "stdout",
       "text": [
        "\n",
        "edge10/2013/01/22.18.20.25.209.1.txt"
       ]
      },
      {
       "output_type": "stream",
       "stream": "stdout",
       "text": [
        "\n",
        "edge10/2013/01/22.18.29.32.209.3.txt"
       ]
      },
      {
       "output_type": "stream",
       "stream": "stdout",
       "text": [
        "\n",
        "edge10/2013/01/22.18.38.26.209.2.txt"
       ]
      },
      {
       "output_type": "stream",
       "stream": "stdout",
       "text": [
        "\n",
        "edge10/2013/01/22.20.24.41.386.3.txt"
       ]
      },
      {
       "output_type": "stream",
       "stream": "stdout",
       "text": [
        "\n",
        "edge3/2013/01/18.18.42.22.336.0.txt"
       ]
      },
      {
       "output_type": "stream",
       "stream": "stdout",
       "text": [
        "\n",
        "edge3/2013/01/18.18.54.37.336.1.txt"
       ]
      },
      {
       "output_type": "stream",
       "stream": "stdout",
       "text": [
        "\n",
        "edge3/2013/01/18.19.05.17.336.3.txt"
       ]
      },
      {
       "output_type": "stream",
       "stream": "stdout",
       "text": [
        "\n",
        "edge3/2013/01/18.19.36.35.336.2.txt"
       ]
      },
      {
       "output_type": "stream",
       "stream": "stdout",
       "text": [
        "\n",
        "edge6/2013/01/16.22.24.44.346.1.txt"
       ]
      },
      {
       "output_type": "stream",
       "stream": "stdout",
       "text": [
        "\n",
        "edge6/2013/01/17.18.47.05.313.1.txt"
       ]
      },
      {
       "output_type": "stream",
       "stream": "stdout",
       "text": [
        "\n",
        "edge6/2013/01/17.19.06.05.313.0.txt"
       ]
      },
      {
       "output_type": "stream",
       "stream": "stdout",
       "text": [
        "\n",
        "edge6/2013/01/17.19.08.13.313.0.txt"
       ]
      },
      {
       "output_type": "stream",
       "stream": "stdout",
       "text": [
        "\n",
        "edge6/2013/01/18.20.25.12.340.0.txt"
       ]
      },
      {
       "output_type": "stream",
       "stream": "stdout",
       "text": [
        "\n",
        "edge6/2013/01/18.20.30.03.340.1.txt"
       ]
      },
      {
       "output_type": "stream",
       "stream": "stdout",
       "text": [
        "\n"
       ]
      }
     ],
     "prompt_number": 9
    },
    {
     "cell_type": "code",
     "collapsed": false,
     "input": [
      "import pprint\n",
      "pprint.pprint(report)"
     ],
     "language": "python",
     "metadata": {},
     "outputs": [
      {
       "output_type": "stream",
       "stream": "stdout",
       "text": [
        "{'346': {'ClipApply': [['edge6/2012/12/14.21.32.09.346.3.txt',\n",
        "                        ['OutOfRange']]],\n",
        "         'Cutting': [],\n",
        "         'PegTx': [['edge6/2012/12/14.21.20.58.346.0.txt', []]],\n",
        "         'Summary': [1, 0, 1, 1],\n",
        "         'Suturing': [['edge6/2012/12/14.21.51.18.346.2.txt',\n",
        "                       ['ToolTipDrift']]]},\n",
        " '347': {'ClipApply': [['edge2/2012/12/19.18.53.10.347.3.txt',\n",
        "                        ['DeadSensors', 'OutOfRange']],\n",
        "                       ['edge2/2012/12/19.18.56.23.347.3.txt',\n",
        "                        ['DeadSensors', 'OutOfRange']]],\n",
        "         'Cutting': [['edge2/2012/12/19.18.41.23.347.1.txt', []]],\n",
        "         'PegTx': [['edge2/2012/12/19.18.26.38.347.0.txt', []]],\n",
        "         'Summary': [1, 1, 0, 2],\n",
        "         'Suturing': []},\n",
        " '365': {'ClipApply': [['edge10/2012/12/20.16.03.36.365.3.txt',\n",
        "                        ['DeadSensors', 'BadFrames']]],\n",
        "         'Cutting': [['edge10/2012/12/20.15.43.08.365.1.txt', ['BadFrames']]],\n",
        "         'PegTx': [['edge10/2012/12/20.15.28.11.365.0.txt',\n",
        "                    ['OutOfRange', 'BadFrames']]],\n",
        "         'Summary': [1, 1, 1, 1],\n",
        "         'Suturing': [['edge10/2012/12/20.16.27.36.365.2.txt',\n",
        "                       ['DeadSensors',\n",
        "                        'OutOfRange',\n",
        "                        'ToolTipDrift',\n",
        "                        'BadFrames']]]},\n",
        " '366': {'ClipApply': [['edge5/2012/12/18.16.13.19.366.3.txt',\n",
        "                        ['OutOfRange']]],\n",
        "         'Cutting': [['edge5/2012/12/18.16.02.39.366.1.txt', []]],\n",
        "         'PegTx': [['edge5/2012/12/18.15.54.25.366.0.txt', []]],\n",
        "         'Summary': [1, 1, 1, 1],\n",
        "         'Suturing': [['edge5/2012/12/18.16.20.46.366.2.txt',\n",
        "                       ['OutOfRange']]]}}\n"
       ]
      }
     ],
     "prompt_number": 5
    },
    {
     "cell_type": "code",
     "collapsed": false,
     "input": [
      "import json\n",
      "from openpyxl.workbook import Workbook\n",
      "from openpyxl.writer.excel import ExcelWriter\n",
      "\n",
      "from openpyxl.cell import get_column_letter\n",
      "\n",
      "wb = Workbook()\n",
      "dest_filename = r'User_Report.xlsx'\n",
      "ws = wb.worksheets[0]\n",
      "ws.title = \"User Report\"\n",
      "\n",
      "tasks = ['PegTx','Cutting','Suturing','ClipApply']\n",
      "i = 1\n",
      "url = 'http://simscore.org/browse_simscore/show?bucket=incoming-simscore-org&path=/'\n",
      "for u in report:\n",
      "    ws.append([int(u), 'Tasks','Files','FailTypes','Links','Check'])\n",
      "    for task in tasks:\n",
      "        if report[u][task]: \n",
      "            for test in report[u][task]:\n",
      "                ws.append(['', task, test[0], json.dumps(test[1]), url+test[0]])\n",
      "        else:\n",
      "            ws.append(['', task])\n",
      "            \n",
      "    ws.append(['', 'Tests:', json.dumps(report[u]['Summary']) ])\n",
      "    ws.append(['', 'Needs:'])\n",
      "    ws.append(['', 'Redo:'])\n",
      "    ws.append(['', 'SUMMARY:'])\n",
      "    ws.append([''])\n",
      "    \n",
      "\n",
      "\n",
      "\n",
      "wb.save(filename = dest_filename)"
     ],
     "language": "python",
     "metadata": {},
     "outputs": [],
     "prompt_number": 10
    },
    {
     "cell_type": "code",
     "collapsed": false,
     "input": [
      "for k in report.keys():\n",
      "    try: \n",
      "        filename = report[k]['PegTx'][0][0]\n",
      "        print filename.split('/')[1]+'/'+filename.split('/')[2]+'/'+filename.split('/')[3].split('.')[0], filename.split('.')[-3]\n",
      "        continue\n",
      "    except: pass\n",
      "    try: \n",
      "        filename = report[k]['Cutting'][0][0]\n",
      "        print filename.split('/')[1]+'/'+filename.split('/')[2]+'/'+filename.split('/')[3].split('.')[0], filename.split('.')[-3]\n",
      "        continue\n",
      "    except:pass\n",
      "    try: \n",
      "        filename = report[k]['Suturing'][0][0]\n",
      "        print filename.split('/')[1]+'/'+filename.split('/')[2]+'/'+filename.split('/')[3].split('.')[0], filename.split('.')[-3]\n",
      "        continue\n",
      "    except:pass\n",
      "    try: \n",
      "        filename = report[k]['ClipApply'][0][0]\n",
      "        print filename.split('/')[1]+'/'+filename.split('/')[2]+'/'+filename.split('/')[3].split('.')[0], filename.split('.')[-3]\n",
      "        continue\n",
      "    except: raise ValueError, 'somebody had no tests, wtf mate'\n",
      "    \n",
      "    "
     ],
     "language": "python",
     "metadata": {},
     "outputs": [
      {
       "output_type": "stream",
       "stream": "stdout",
       "text": [
        "2013/01/22 209\n",
        "2013/01/18 336\n",
        "2013/01/14 356\n",
        "2013/01/16 346\n",
        "2013/01/18 340\n",
        "2013/01/22 386\n",
        "2013/01/17 313\n",
        "2013/01/16 286\n"
       ]
      }
     ],
     "prompt_number": 16
    },
    {
     "cell_type": "code",
     "collapsed": false,
     "input": [],
     "language": "python",
     "metadata": {},
     "outputs": []
    }
   ],
   "metadata": {}
  }
 ]
}