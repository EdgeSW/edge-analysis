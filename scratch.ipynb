{
 "metadata": {
  "name": "scratch"
 },
 "nbformat": 3,
 "nbformat_minor": 0,
 "worksheets": [
  {
   "cells": [
    {
     "cell_type": "code",
     "collapsed": false,
     "input": [
      "import sys, os\n",
      "sys.path.append('C:\\\\Users\\\\Tyler\\\\.ipython\\\\Simscore-Computing')\n",
      "import boto, time, json, pprint\n",
      "from datetime import datetime, timedelta\n",
      "import numpy as np\n",
      "\n",
      "import fetch.myS3 as myS3\n",
      "import fetch.mySQS as mySQS\n",
      "import validity_metrics as vm\n",
      "from aws import aws_ak, aws_sk\n",
      "from report.configuration import isClipTask   \n",
      "import report.validate as validate\n",
      "conn = boto.connect_s3(aws_ak, aws_sk)\n",
      "bucket = conn.get_bucket('incoming-simscore-org')"
     ],
     "language": "python",
     "metadata": {},
     "outputs": [],
     "prompt_number": 1
    },
    {
     "cell_type": "code",
     "collapsed": false,
     "input": [
      "unit_files = [#Name, Dead, OOR, NaN\n",
      "(\t\"edge6/2013/01/31.00.42.06.392.3.txt\"\t,\t[]\t,\t[]\t,\t[]\t),\n",
      "(\t\"edge10/2013/01/22.18.09.46.209.0.txt\"\t,\t[]\t,\t[]\t,\t[]\t),\n",
      "(\t\"edge10/2013/01/26.16.02.02.365.0.txt\"\t,\t[]\t,\t[]\t,\t[]\t),\n",
      "(\t\"edge3/2013/01/18.18.54.37.336.1.txt\"\t,\t[]\t,\t[]\t,\t[]\t),\n",
      "(\t\"edge6/2013/01/31.00.50.47.392.2.txt\"\t,\t[]\t,\t[]\t,\t[]\t),\n",
      "(\t\"edge10/2013/01/24.17.05.48.389.2.txt\"\t,\t[]\t,\t[]\t,\t[]\t),\n",
      "(\t\"edge10/2013/01/10.15.22.12.389.2.txt\"\t,\t[]\t,\t[]\t,\t[]\t),\n",
      "(\t\"edge6/2013/01/31.00.46.29.392.2.txt\"\t,\t[]\t,\t[]\t,\t[]\t),\n",
      "\t\t\t\t\t\t\t\t\t\t\t\t\t\t\t\t\n",
      "(\t\"edge7/2012/12/07.15.37.27.109.2.txt\"\t,\t[]\t,\t[\"ThG_L\", \"Fg_L\", \"ThG_R\"]\t,\t[]\t),\n",
      "(\t\"edge9/2012/11/29.01.24.15.251.1.txt\"\t,\t[]\t,\t[\"Fg_L\", \"Fg_R\"]\t,\t[]\t),\n",
      "(\t\"edge9/2012/11/29.01.22.22.251.3.txt\"\t,\t[]\t,\t[\"Fg_L\", \"Lin_R\"]\t,\t[]\t),\n",
      "\t\t\t\t\t\t\t\t\t\t\t\t\t\t\t\t\n",
      "(\t\"edge8/2012/12/06.18.40.18.109.1.txt\"\t,\t[\"Fg_L\"]\t,\t[]\t,\t[]\t),\n",
      "(\t\"edge8/2012/12/06.18.39.40.109.1.txt\"\t,\t[\"Fg_L\"]\t,\t[]\t,\t[]\t),\t\t\t\t\t\t\t\t\n",
      "\t\t\t\t\t\t\t\t\t\t\t\t\t\t\t\t\n",
      "(\t\"edge6/2012/11/05.18.59.45.340.1.txt\"\t,\t[]\t,\t[\"Fg_L\"]\t,\t[\"Fg_R\"]\t),\n",
      "(\t\"edge6/2012/11/05.18.46.23.340.0.txt\"\t,\t[]\t,\t[\"Fg_L\"]\t,\t[\"Fg_R\"]\t),\t\t\t\t\t\t\t\t\t\t\t\t\t\t\t\t\n",
      "\t\t\t\t\t\t\t\t\n",
      "(\t\"edge6/2012/11/05.19.24.12.340.2.txt\"\t,\t[\"Fg_L\", \"Rot_L\"]\t,\t[\"Fg_L\", \"ThG_L\"]\t,\t[]\t),\n",
      "(\t\"edge1/2012/10/08.15.22.48.323.1.txt\"\t,\t[\"Fg_L\"]\t,\t[\"Fg_L\"]\t,\t[]\t),\n",
      "(\t\"edge6/2013/01/25.21.33.58.393.0.txt\"\t,\t[\"Rot_L,\" \"ThG_L\"]\t,\t[\"ThG_L\"]\t,\t[]\t),\n",
      "(\t\"edge2/2013/01/09.16.06.18.378.3.txt\"\t,\t[\"Fg_R\"]\t,\t[\"Rot_L\"]\t,\t[]\t),\n",
      "(\t\"edge2/2012/12/03.20.12.46.109.3.txt\"\t,\t[\"Fg_R\"]\t,\t[\"Lin_R\"]\t,\t[]\t),\n",
      "(\t\"edge6/2013/01/25.22.30.14.312.0.txt\"\t,\t[\"Fg_R\", \"ThG_R\", \"Rot_R\"]\t,\t[\"ThG_R\"]\t,\t[]\t)\n",
      "\n",
      "]"
     ],
     "language": "python",
     "metadata": {},
     "outputs": [],
     "prompt_number": 3
    },
    {
     "cell_type": "code",
     "collapsed": false,
     "input": [
      "new_deads = []\n",
      "for test in unit_files:\n",
      "    try:\n",
      "        data, meta = myS3.getData(bucket, test[0], labeled=True)\n",
      "        minmax = validate.findMinMax(data)\n",
      "        \n",
      "        new_dead = validate.findDeadSensors(data, minmax, meta['TaskId'], meta['IsPracticeTest'])\n",
      "        old_dead = validate.oldFindDeadSensor(validate.findMinMax(data), isClipTask(test[0]))\n",
      "        #oors = validate.findOutOfRange(minmax)\n",
      "        \n",
      "        print 'verifying',test[0]\n",
      "        print 'Dead sensors should be:', test[1]\n",
      "        print 'New method caught:', new_dead\n",
      "        print 'Old method caught:', old_dead\n",
      "        print \n",
      "    except Exception as e:\n",
      "        print e\n",
      "        print 'error in',fn"
     ],
     "language": "python",
     "metadata": {},
     "outputs": [
      {
       "output_type": "stream",
       "stream": "stdout",
       "text": [
        "verifying edge6/2013/01/31.00.42.06.392.3.txt\n",
        "Dead sensors should be: []\n",
        "New method caught: ['Fg_L']\n",
        "Old method caught: ['Fg_L']\n",
        "\n",
        "verifying"
       ]
      },
      {
       "output_type": "stream",
       "stream": "stdout",
       "text": [
        " edge10/2013/01/22.18.09.46.209.0.txt\n",
        "Dead sensors should be: []\n",
        "New method caught: []\n",
        "Old method caught: []\n",
        "\n",
        "verifying"
       ]
      },
      {
       "output_type": "stream",
       "stream": "stdout",
       "text": [
        " edge10/2013/01/26.16.02.02.365.0.txt\n",
        "Dead sensors should be: []\n",
        "New method caught: []\n",
        "Old method caught: []\n",
        "\n",
        "verifying"
       ]
      },
      {
       "output_type": "stream",
       "stream": "stdout",
       "text": [
        " edge3/2013/01/18.18.54.37.336.1.txt\n",
        "Dead sensors should be: []\n",
        "New method caught: []\n",
        "Old method caught: []\n",
        "\n",
        "verifying"
       ]
      },
      {
       "output_type": "stream",
       "stream": "stdout",
       "text": [
        " edge6/2013/01/31.00.50.47.392.2.txt\n",
        "Dead sensors should be: []\n",
        "New method caught: []\n",
        "Old method caught: []\n",
        "\n",
        "verifying"
       ]
      },
      {
       "output_type": "stream",
       "stream": "stdout",
       "text": [
        " edge10/2013/01/24.17.05.48.389.2.txt\n",
        "Dead sensors should be: []\n",
        "New method caught: []\n",
        "Old method caught: []\n",
        "\n",
        "verifying"
       ]
      },
      {
       "output_type": "stream",
       "stream": "stdout",
       "text": [
        " edge10/2013/01/10.15.22.12.389.2.txt\n",
        "Dead sensors should be: []\n",
        "New method caught: []\n",
        "Old method caught: []\n",
        "\n",
        "verifying"
       ]
      },
      {
       "output_type": "stream",
       "stream": "stdout",
       "text": [
        " edge6/2013/01/31.00.46.29.392.2.txt\n",
        "Dead sensors should be: []\n",
        "New method caught: []\n",
        "Old method caught: []\n",
        "\n",
        "verifying"
       ]
      },
      {
       "output_type": "stream",
       "stream": "stdout",
       "text": [
        " edge7/2012/12/07.15.37.27.109.2.txt\n",
        "Dead sensors should be: []\n",
        "New method caught: []\n",
        "Old method caught: []\n",
        "\n",
        "verifying"
       ]
      },
      {
       "output_type": "stream",
       "stream": "stdout",
       "text": [
        " edge9/2012/11/29.01.24.15.251.1.txt\n",
        "Dead sensors should be: []\n",
        "New method caught: []\n",
        "Old method caught: []\n",
        "\n",
        "verifying"
       ]
      },
      {
       "output_type": "stream",
       "stream": "stdout",
       "text": [
        " edge9/2012/11/29.01.22.22.251.3.txt\n",
        "Dead sensors should be: []\n",
        "New method caught: []\n",
        "Old method caught: []\n",
        "\n",
        "verifying"
       ]
      },
      {
       "output_type": "stream",
       "stream": "stdout",
       "text": [
        " edge8/2012/12/06.18.40.18.109.1.txt\n",
        "Dead sensors should be: ['Fg_L']\n",
        "New method caught: ['Fg_L']\n",
        "Old method caught: ['Fg_L']\n",
        "\n",
        "verifying"
       ]
      },
      {
       "output_type": "stream",
       "stream": "stdout",
       "text": [
        " edge8/2012/12/06.18.39.40.109.1.txt\n",
        "Dead sensors should be: ['Fg_L']\n",
        "New method caught: ['Fg_L']\n",
        "Old method caught: ['Fg_L']\n",
        "\n",
        "verifying"
       ]
      },
      {
       "output_type": "stream",
       "stream": "stdout",
       "text": [
        " edge6/2012/11/05.18.59.45.340.1.txt\n",
        "Dead sensors should be: []\n",
        "New method caught: []\n",
        "Old method caught: []\n",
        "\n",
        "verifying"
       ]
      },
      {
       "output_type": "stream",
       "stream": "stdout",
       "text": [
        " edge6/2012/11/05.18.46.23.340.0.txt\n",
        "Dead sensors should be: []\n",
        "New method caught: []\n",
        "Old method caught: []\n",
        "\n",
        "verifying"
       ]
      },
      {
       "output_type": "stream",
       "stream": "stdout",
       "text": [
        " edge6/2012/11/05.19.24.12.340.2.txt\n",
        "Dead sensors should be: ['Fg_L', 'Rot_L']\n",
        "New method caught: ['Rot_L', 'Fg_L']\n",
        "Old method caught: ['Rot_L']\n",
        "\n",
        "verifying"
       ]
      },
      {
       "output_type": "stream",
       "stream": "stdout",
       "text": [
        " edge1/2012/10/08.15.22.48.323.1.txt\n",
        "Dead sensors should be: ['Fg_L']\n",
        "New method caught: ['Fg_L']\n",
        "Old method caught: []\n",
        "\n",
        "verifying"
       ]
      },
      {
       "output_type": "stream",
       "stream": "stdout",
       "text": [
        " edge6/2013/01/25.21.33.58.393.0.txt\n",
        "Dead sensors should be: ['Rot_L,ThG_L']\n",
        "New method caught: ['Rot_L']\n",
        "Old method caught: ['Rot_L']\n",
        "\n",
        "verifying"
       ]
      },
      {
       "output_type": "stream",
       "stream": "stdout",
       "text": [
        " edge2/2013/01/09.16.06.18.378.3.txt\n",
        "Dead sensors should be: ['Fg_R']\n",
        "New method caught: ['Fg_R']\n",
        "Old method caught: []\n",
        "\n",
        "verifying"
       ]
      },
      {
       "output_type": "stream",
       "stream": "stdout",
       "text": [
        " edge2/2012/12/03.20.12.46.109.3.txt\n",
        "Dead sensors should be: ['Fg_R']\n",
        "New method caught: ['Fg_R']\n",
        "Old method caught: []\n",
        "\n",
        "verifying"
       ]
      },
      {
       "output_type": "stream",
       "stream": "stdout",
       "text": [
        " edge6/2013/01/25.22.30.14.312.0.txt\n",
        "Dead sensors should be: ['Fg_R', 'ThG_R', 'Rot_R']\n",
        "New method caught: ['Rot_R', 'ThG_R', 'Fg_R']\n",
        "Old method caught: ['Fg_R', 'ThG_R']\n",
        "\n"
       ]
      }
     ],
     "prompt_number": 3
    },
    {
     "cell_type": "code",
     "collapsed": false,
     "input": [
      "'''\n",
      "import time\n",
      "for filename in biglist:\n",
      "    try:\n",
      "        data, meta = myS3.getData(bucket, filename, labeled=True)\n",
      "        minmax = validate.findMinMax(data)\n",
      "        \n",
      "        new_dead = findDeadSensors(data, minmax, meta['TaskId'], meta['IsPracticeTest'])\n",
      "        old_dead = validate.findDeadSensor(validate.findMinMax(data), isClipTask(filename))\n",
      "        \n",
      "        if filename[-5:]=='2.txt':\n",
      "            print filename,old_dead, new_dead\n",
      "        time.sleep(0.1)\n",
      "    except Exception as e:\n",
      "        print e\n",
      "        print filename\n",
      "'''"
     ],
     "language": "python",
     "metadata": {},
     "outputs": [
      {
       "output_type": "pyout",
       "prompt_number": 4,
       "text": [
        "\"\\nimport time\\nfor filename in biglist:\\n    try:\\n        data, meta = myS3.getData(bucket, filename, labeled=True)\\n        minmax = validate.findMinMax(data)\\n        \\n        new_dead = findDeadSensors(data, minmax, meta['TaskId'], meta['IsPracticeTest'])\\n        old_dead = validate.findDeadSensor(validate.findMinMax(data), isClipTask(filename))\\n        \\n        if filename[-5:]=='2.txt':\\n            print filename,old_dead, new_dead\\n        time.sleep(0.1)\\n    except Exception as e:\\n        print e\\n        print filename\\n\""
       ]
      }
     ],
     "prompt_number": 4
    },
    {
     "cell_type": "code",
     "collapsed": false,
     "input": [
      "biglist = myS3.getFilesBetween(datetime.utcnow()-timedelta(days=160), datetime.utcnow(), bucket, True)\n",
      "print len(biglist)"
     ],
     "language": "python",
     "metadata": {},
     "outputs": [
      {
       "output_type": "stream",
       "stream": "stdout",
       "text": [
        "586\n"
       ]
      }
     ],
     "prompt_number": 5
    },
    {
     "cell_type": "code",
     "collapsed": false,
     "input": [
      "def lists_contain_same(lis1, lis2):\n",
      "    if lis1 == lis2:\n",
      "        return True\n",
      "    if len(lis1)!=len(lis2):\n",
      "        return False\n",
      "    for item in lis1:\n",
      "        if item not in lis2:\n",
      "            return False\n",
      "    for item in lis2:\n",
      "        if item not in lis1:\n",
      "            return False\n",
      "    return True"
     ],
     "language": "python",
     "metadata": {},
     "outputs": [],
     "prompt_number": 6
    },
    {
     "cell_type": "code",
     "collapsed": false,
     "input": [
      "import time\n",
      "\n",
      "filestoredo = []\n",
      "\n",
      "for filename in biglist:\n",
      "    try:\n",
      "        data, meta = myS3.getData(bucket, filename, labeled=True)\n",
      "        minmax = validate.findMinMax(data)\n",
      "        \n",
      "        old_oors = validate.oldFindOutOfRange(minmax)\n",
      "        old_deads = validate.oldFindDeadSensor(minmax, isClipTask(filename))\n",
      "        js = vm.summary_metrics(meta, data, conn)\n",
      "        js = vm.data_metrics_append(js, data, filename)\n",
      "        new_oors = js['OutOfRange']\n",
      "        new_deads = js['DeadSensors']\n",
      "        ignore = js['IgnoreErrors']\n",
      "        \n",
      "        _oors = []\n",
      "        _deads = []\n",
      "        for oor in new_oors:\n",
      "            if oor not in old_oors and 'OutOfRange' not in ignore.get(oor, []):\n",
      "                _oors.append(oor)\n",
      "                if filename not in filestoredo: filestoredo.append(filename)\n",
      "        for dead in new_deads:\n",
      "            if dead not in old_deads and 'DeadSensors' not in ignore.get(dead, []):\n",
      "                _deads.append(dead)\n",
      "                if filename not in filestoredo: filestoredo.append(filename)\n",
      "                    \n",
      "        if js['TaskType'] == 1: filestoredo.append(filename)\n",
      "            \n",
      "        if _oors or _deads: print filename, _oors, _deads\n",
      "        time.sleep(0.1)\n",
      "    except Exception as e:\n",
      "        print e, filename\n",
      "        \n",
      "print filestoredo"
     ],
     "language": "python",
     "metadata": {},
     "outputs": [
      {
       "output_type": "pyout",
       "prompt_number": 13,
       "text": [
        "\"import time\\nimport helpers\\nfilestoredo = []\\n\\nfor filename in biglist:\\n    try:\\n        data, meta = myS3.getData(bucket, filename, labeled=True)\\n        minmax = validate.findMinMax(data)\\n        \\n        old_oors = validate.oldFindOutOfRange(minmax)\\n        old_deads = validate.oldFindDeadSensor(minmax, isClipTask(filename))\\n        js = vm.summary_metrics(meta, data, conn)\\n        js = vm.data_metrics_append(js, data, filename)\\n        new_oors = js['OutOfRange']\\n        new_deads = js['DeadSensors']\\n        ignore = js['IgnoreErrors']\\n        \\n        _oors = []\\n        _deads = []\\n        for oor in new_oors:\\n            if oor not in old_oors and 'OutOfRange' not in ignore.get(oor, []):\\n                _oors.append(oor)\\n                if filename not in filestoredo: filestoredo.append(filename)\\n        for dead in new_deads:\\n            if dead not in old_deads and 'DeadSensors' not in ignore.get(dead, []):\\n                _deads.append(dead)\\n                if filename not in filestoredo: filestoredo.append(filename)\\n                    \\n        if js['TaskType'] == 1: filestoredo.append(filename)\\n            \\n        if _oors or _deads: print filename, _oors, _deads\\n        time.sleep(0.1)\\n    except Exception as e:\\n        print e, filename\\n        \\nprint filestoredo\""
       ]
      }
     ],
     "prompt_number": 13
    },
    {
     "cell_type": "code",
     "collapsed": false,
     "input": [
      "len(filestoredo)"
     ],
     "language": "python",
     "metadata": {},
     "outputs": [
      {
       "output_type": "pyout",
       "prompt_number": 8,
       "text": [
        "230"
       ]
      }
     ],
     "prompt_number": 8
    },
    {
     "cell_type": "code",
     "collapsed": false,
     "input": [
      "import fetch.mySQS as mySQS"
     ],
     "language": "python",
     "metadata": {},
     "outputs": [],
     "prompt_number": 9
    },
    {
     "cell_type": "code",
     "collapsed": false,
     "input": [
      "from aws import aws_ak, aws_sk\n",
      "from boto.sqs.message import Message\n",
      "'''Define Connections'''\n",
      "sqs_conn = boto.connect_sqs(aws_ak, aws_sk)\n",
      "q = sqs_conn.get_queue('Files2Ship')\n",
      "comq = sqs_conn.get_queue('EdgeFiles2Process')\n",
      "#Connect to ses\n",
      "ses_conn = boto.connect_ses(aws_ak, aws_sk)\n",
      "#Connect to SimpleDB\n",
      "sdb_conn = boto.connect_sdb(aws_ak, aws_sk)\n",
      "sdb_domain = sdb_conn.get_domain('ProcessedEdgeFiles')\n",
      "\n",
      "mySQS.append_list_to_queue(filestoredo, comq)"
     ],
     "language": "python",
     "metadata": {},
     "outputs": [],
     "prompt_number": 12
    },
    {
     "cell_type": "code",
     "collapsed": false,
     "input": [],
     "language": "python",
     "metadata": {},
     "outputs": []
    }
   ],
   "metadata": {}
  }
 ]
}