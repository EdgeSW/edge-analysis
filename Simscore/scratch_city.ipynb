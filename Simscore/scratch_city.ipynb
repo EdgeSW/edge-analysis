{
 "metadata": {
  "name": "scratch_city"
 },
 "nbformat": 3,
 "nbformat_minor": 0,
 "worksheets": [
  {
   "cells": [
    {
     "cell_type": "code",
     "collapsed": false,
     "input": [
      "import sys, os\n",
      "sys.path.append('C:\\\\Users\\\\Tyler\\\\.ipython\\\\Simscore-Computing')\n",
      "import boto, time, json, pprint\n",
      "from datetime import datetime\n",
      "import numpy as np\n",
      "\n",
      "import scoring\n",
      "import fetch.myS3 as myS3\n",
      "import fetch.mySQS as mySQS\n",
      "import scrub\n",
      "import validity_metrics as vm\n",
      "from aws import aws_ak, aws_sk\n",
      "from boto.sqs.message import Message\n"
     ],
     "language": "python",
     "metadata": {},
     "outputs": [],
     "prompt_number": 1
    },
    {
     "cell_type": "code",
     "collapsed": false,
     "input": [
      "\n",
      "conn = boto.connect_s3(aws_ak, aws_sk)\n",
      "bucket = conn.get_bucket('incoming-simscore-org')\n",
      "filename = 'edge6/2013/01/18.21.20.15.307.0.txt'\n",
      "data, meta = myS3.getData(bucket, filename, labeled=True)\n",
      "\n",
      "\n",
      "jsonSimscore = vm.summary_metrics(meta, data, conn)\n",
      "jsonSimscore = vm.data_metrics_append(jsonSimscore, data, filename)\n",
      "jsonSimscore = vm.machine_health_append(jsonSimscore, meta, data)"
     ],
     "language": "python",
     "metadata": {},
     "outputs": [],
     "prompt_number": 4
    },
    {
     "cell_type": "code",
     "collapsed": false,
     "input": [
      "jsonSimscore['IgnoreErrors']"
     ],
     "language": "python",
     "metadata": {},
     "outputs": [
      {
       "output_type": "pyout",
       "prompt_number": 5,
       "text": [
        "{'ThG_L': ['OutOfRange']}"
       ]
      }
     ],
     "prompt_number": 5
    },
    {
     "cell_type": "code",
     "collapsed": false,
     "input": [],
     "language": "python",
     "metadata": {},
     "outputs": []
    }
   ],
   "metadata": {}
  }
 ]
}