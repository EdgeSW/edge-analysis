{
 "metadata": {
  "name": "evaluate_model"
 },
 "nbformat": 3,
 "nbformat_minor": 0,
 "worksheets": [
  {
   "cells": [
    {
     "cell_type": "code",
     "collapsed": false,
     "input": [
      "%load_ext autoreload\n",
      "%autoreload 2"
     ],
     "language": "python",
     "metadata": {},
     "outputs": [],
     "prompt_number": 1
    },
    {
     "cell_type": "code",
     "collapsed": false,
     "input": [
      "import sys\n",
      "sys.path.append('C:\\\\Users\\\\Tyler\\\\.ipython\\\\edge-analysis')\n",
      "import numpy as np\n",
      "import scipy\n",
      "from HMM.data_wrangling import *\n",
      "import HMM.scrub as scrub\n",
      "import HMM.segment as segment\n",
      "import helpers\n",
      "import json"
     ],
     "language": "python",
     "metadata": {},
     "outputs": [],
     "prompt_number": 1
    },
    {
     "cell_type": "code",
     "collapsed": false,
     "input": [
      "#Define labels, initial variables\n",
      "print 'getting features'\n",
      "dataset = 'Vel_dRta_Gr_dQg'\n",
      "task = 'pegtransfer'\n",
      "# size = size_codebook(task)\n",
      "# Final Features are Vel-dRta-Gr-dQg (dX, dY, dZ, dRta, Fg, Qg, dQg)\n",
      "feats = ['dX','dY','dZ','dRta','Fg','Qg','dQg']\n",
      "hand = 'right'\n",
      "idx = {}; \n",
      "for n in feats: idx[n] = feats.index(n)\n",
      "\n",
      "#keys = scrub.gtExp_keys[task]\n",
      "keys = ['pegtransfer_18']\n",
      "\n",
      "try:\n",
      "    features\n",
      "except NameError:\n",
      "    features = None\n",
      "if features is None:\n",
      "    print 'Loading data...'\n",
      "    features = getFeatures(dataset, sensors=feats, task=task, hand=hand, keys=keys, asdict=True)\n",
      "    print 'returned features of size', len(features)"
     ],
     "language": "python",
     "metadata": {},
     "outputs": [
      {
       "output_type": "stream",
       "stream": "stdout",
       "text": [
        "getting features\n",
        "Loading data..."
       ]
      },
      {
       "output_type": "stream",
       "stream": "stdout",
       "text": [
        "\n",
        "SELECT key, dX, dY, dZ, dRta, Fg, Qg, dQg FROM [data.Vel_dRta_Gr_dQg] WHERE task='pegtransfer' AND hand='right' AND (key='pegtransfer_18') \n",
        "current length: "
       ]
      },
      {
       "output_type": "stream",
       "stream": "stdout",
       "text": [
        " 2403\n",
        "1 "
       ]
      },
      {
       "output_type": "stream",
       "stream": "stdout",
       "text": [
        "returning data\n",
        "returned features of size"
       ]
      },
      {
       "output_type": "stream",
       "stream": "stdout",
       "text": [
        " 1\n"
       ]
      }
     ],
     "prompt_number": 3
    },
    {
     "cell_type": "code",
     "collapsed": false,
     "input": [
      "#Load model\n",
      "trained = helpers.load_pickle('.ipython\\\\HMM-Train\\\\models\\\\'+'_'.join(['model','timdata',task, hand]))\n",
      "#Load codebook\n",
      "fh = open('.ipython\\\\HMM-Train\\\\codebooks\\\\'+'_'.join(['cdbk','timdata',dataset,task, hand,'v1']), 'r')\n",
      "codebook = json.loads(fh.read())\n",
      "fh.close()"
     ],
     "language": "python",
     "metadata": {},
     "outputs": [],
     "prompt_number": 9
    },
    {
     "cell_type": "code",
     "collapsed": false,
     "input": [
      "#segment, normalize data\n"
     ],
     "language": "python",
     "metadata": {},
     "outputs": []
    },
    {
     "cell_type": "code",
     "collapsed": false,
     "input": [
      "'''Compute log probability of each grasp segment for each hand'''\n",
      "#For each segment in the Left Hand\n",
      "logprobNovL = 0; logprobExpL = 0; i=0\n",
      "start = datetime.now()\n",
      "\n",
      "def score_log_prob(cdbk, seg_encod):\n",
      "    lp = cdbk.log_probability( [(t,None) for t in seg_encod]) / len(seg_encod)\n",
      "    if lp > -1e290:\n",
      "        return lp\n",
      "    else: \n",
      "        print 'segment %d shows zero probability' %i\n",
      "        return 0\n",
      "    \n",
      "    \n",
      "for seg in graspsegsLR['left']:\n",
      "    print i; \n",
      "    #Encode the data\n",
      "    seg_encod, dist = vq.vq(seg, sut_cdbkL)\n",
      "    \n",
      "    logprobNovL += score_log_prob(suturingNovL, seg_encod)\n",
      "    logprobExpL += score_log_prob(suturingExpL, seg_encod)\n",
      "    i += 1\n",
      "print logprobNovL, logprobExpL\n",
      "\n",
      "print datetime.now() - start\n"
     ],
     "language": "python",
     "metadata": {},
     "outputs": []
    }
   ],
   "metadata": {}
  }
 ]
}