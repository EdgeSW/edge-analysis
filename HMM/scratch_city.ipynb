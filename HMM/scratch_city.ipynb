{
 "metadata": {
  "name": "scratch_city"
 },
 "nbformat": 3,
 "nbformat_minor": 0,
 "worksheets": [
  {
   "cells": [
    {
     "cell_type": "raw",
     "metadata": {},
     "source": [
      "HMM Stuff left to Implement:\n",
      "\n",
      "* implement derivative calculations (holboloroko)\n",
      "* Code to score dataset against model\n",
      "* Clean up loading of FgLR to take up less memory (steal from features? load w/ features?)\n"
     ]
    },
    {
     "cell_type": "code",
     "collapsed": false,
     "input": [
      "%load_ext autoreload\n",
      "%autoreload 2\n",
      "from datetime import datetime\n",
      "import scipy.cluster.vq as vq\n",
      "import vector_quantization_refactor as vqr\n",
      "import segmentation_refactor as segr\n",
      "import data_wrangling_page as dwp\n",
      "import cStringIO\n",
      "import json\n",
      "import nltk\n",
      "import pickle\n",
      "import pycurl\n",
      "import cStringIO\n",
      "import ast"
     ],
     "language": "python",
     "metadata": {},
     "outputs": [
      {
       "output_type": "stream",
       "stream": "stdout",
       "text": [
        "\n"
       ]
      }
     ],
     "prompt_number": 9
    },
    {
     "cell_type": "code",
     "collapsed": false,
     "input": [
      "c = pycurl.Curl()\n",
      "c = dwp.loginSimscore(c)\n",
      "aua = dwp.getSkillSimscore(c)\n",
      "print aua\n",
      "c = dwp.logoutSimscore(c)"
     ],
     "language": "python",
     "metadata": {},
     "outputs": [
      {
       "output_type": "stream",
       "stream": "stdout",
       "text": [
        "{'309': 'MedicalStudent', '319': 'Fellow', '312': 'MedicalStudent', '206': 'MedicalStudent', '313': 'None', '158': 'MedicalStudent', '311': 'Attending', '325': 'MedicalStudent', '307': 'Fellow', '288': 'MedicalStudent', '298': 'Fellow', '208': 'Attending', '227': 'Attending', '297': 'Fellow', '328': 'Attending', '329': 'Attending', '223': 'Attending', '292': 'MedicalStudent'}\n"
       ]
      }
     ],
     "prompt_number": 48
    },
    {
     "cell_type": "code",
     "collapsed": false,
     "input": [
      "def log_likelihood(classifier, gold):\n",
      "    results = classifier.batch_prob_classify([fs for (fs,l) in gold])\n",
      "    ll = [pdist.prob(l) for ((fs,l), pdist) in zip(gold, results)]\n",
      "    return math.log(float(sum(ll))/len(ll))"
     ],
     "language": "python",
     "metadata": {},
     "outputs": [],
     "prompt_number": 43
    },
    {
     "cell_type": "heading",
     "level": 1,
     "metadata": {},
     "source": [
      "Scoring Code"
     ]
    },
    {
     "cell_type": "code",
     "collapsed": false,
     "input": [
      "from nltk.tag.hmm import *\n",
      "symbols = ['up', 'down', 'unchanged']\n",
      "states = ['bull', 'bear', 'static']\n",
      "\n",
      "def probdist(values, samples):\n",
      "     d = {}\n",
      "     for value, item in zip(values, samples):\n",
      "         d[item] = value\n",
      "     return DictionaryProbDist(d)\n",
      "\n",
      "def conditionalprobdist(array, conditions, samples):\n",
      "     d = {}\n",
      "     for values, condition in zip(array, conditions):\n",
      "         d[condition] = probdist(values, samples)\n",
      "     return DictionaryConditionalProbDist(d)\n",
      "\n",
      "A = array([[0.6, 0.2, 0.2], [0.5, 0.3, 0.2], [0.4, 0.1, 0.5]], float64)\n",
      "A = conditionalprobdist(A, states, states)\n",
      " \t\n",
      "B = array([[0.7, 0.1, 0.2], [0.1, 0.6, 0.3], [0.3, 0.3, 0.4]], float64)\n",
      "B = conditionalprobdist(B, states, symbols)\n",
      "pi = array([0.5, 0.2, 0.3], float64)\n",
      "pi = probdist(pi, states)\n",
      " \t\n",
      "model = HiddenMarkovModelTagger(symbols=symbols, states=states,transitions=A, outputs=B, priors=pi)\n",
      " \t\n",
      "test = ['up', 'down', 'up']\n",
      "sequence = [(t, None) for t in test]\n",
      " \t\n",
      "print '%.3f' % (model.probability(sequence))\n",
      "\n",
      "model.tag(test)"
     ],
     "language": "python",
     "metadata": {},
     "outputs": [
      {
       "output_type": "stream",
       "stream": "stdout",
       "text": [
        "0.051\n"
       ]
      },
      {
       "output_type": "pyout",
       "prompt_number": 67,
       "text": [
        "[('up', 'bull'), ('down', 'bear'), ('up', 'bull')]"
       ]
      }
     ],
     "prompt_number": 67
    }
   ],
   "metadata": {}
  }
 ]
}