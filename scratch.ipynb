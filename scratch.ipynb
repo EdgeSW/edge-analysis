{
 "metadata": {
  "name": "scratch"
 },
 "nbformat": 3,
 "nbformat_minor": 0,
 "worksheets": [
  {
   "cells": [
    {
     "cell_type": "code",
     "collapsed": false,
     "input": [
      "import sys, os\n",
      "sys.path.append('C:\\\\Users\\\\Tyler\\\\.ipython\\\\Simscore-Computing')\n",
      "import boto, time, json, pprint\n",
      "from datetime import datetime, timedelta\n",
      "import numpy as np\n",
      "\n",
      "import fetch.myS3 as myS3\n",
      "import fetch.mySQS as mySQS\n",
      "import validity_metrics as vm\n",
      "from aws import aws_ak, aws_sk\n",
      "from report.configuration import isClipTask   \n",
      "import report.validate as validate\n",
      "conn = boto.connect_s3(aws_ak, aws_sk)\n",
      "bucket = conn.get_bucket('incoming-simscore-org')"
     ],
     "language": "python",
     "metadata": {},
     "outputs": [],
     "prompt_number": 1
    },
    {
     "cell_type": "code",
     "collapsed": false,
     "input": [
      "filename = 'edge6/2013/01/09.23.55.20.368.3.txt'\n",
      "data, meta = myS3.getData(bucket, filename, labeled=True)\n",
      "if data == None: raise ValueError, \"Data file is empty!\""
     ],
     "language": "python",
     "metadata": {},
     "outputs": [],
     "prompt_number": 2
    },
    {
     "cell_type": "code",
     "collapsed": false,
     "input": [
      "ll = ['edge6/2013/01/31.00.20.26.392.0.txt','edge6/2013/01/30.22.50.23.312.0.txt','edge6/2013/01/17.19.06.05.313.0.txt',\n",
      " 'edge6/2013/01/18.20.25.12.340.0.txt','edge10/2013/01/26.16.02.02.365.0.txt','edge3/2013/01/18.18.42.22.336.0.txt','edge2/2013/01/09.17.05.15.382.0.txt']\n",
      "\n",
      "data = myS3.getDataFromTxtFileList(bucket, ll, labeled=True)"
     ],
     "language": "python",
     "metadata": {},
     "outputs": [],
     "prompt_number": 3
    },
    {
     "cell_type": "code",
     "collapsed": false,
     "input": [
      "for k, v in data.iteritems():\n",
      "    print k\n",
      "    mil = np.min(v['data']['ThG_L'])\n",
      "    mal = np.max(v['data']['ThG_L'])\n",
      "    mir = np.min(v['data']['ThG_R'])\n",
      "    mar = np.max(v['data']['ThG_R'])\n",
      "    \n",
      "    print 'right:','(',mar,',',mir,')', mar - mir\n",
      "    print 'left:','(',mal,',',mil,')', mal - mil\n",
      "    print "
     ],
     "language": "python",
     "metadata": {},
     "outputs": [
      {
       "output_type": "stream",
       "stream": "stdout",
       "text": [
        "edge3/2013/01/18.18.42.22.336.0.txt\n",
        "right: ( 1.619 , -11.63 ) 13.249\n",
        "left: ( 12.072 , -1.178 ) 13.25\n",
        "\n",
        "edge6/2013/01/31.00.20.26.392.0.txt\n",
        "right: ( 0.736 , -11.925 ) 12.661\n",
        "left: ( 0.883 , -12.219 ) 13.102\n",
        "\n",
        "edge6/2013/01/17.19.06.05.313.0.txt\n",
        "right: ( 0.736 , -12.072 ) 12.808\n",
        "left: ( 1.619 , -11.925 ) 13.544\n",
        "\n",
        "edge6/2013/01/18.20.25.12.340.0.txt\n",
        "right: ( 0.589 , -11.778 ) 12.367\n",
        "left: ( 0.883 , -11.778 ) 12.661\n",
        "\n",
        "edge6/2013/01/30.22.50.23.312.0.txt\n",
        "right: ( 0.442 , -12.072 ) 12.514\n",
        "left: ( 0.736 , -11.63 ) 12.366\n",
        "\n",
        "edge2/2013/01/09.17.05.15.382.0.txt\n",
        "right: ( 0.736 , -11.041 ) 11.777\n",
        "left: ( 6.478 , -2.65 ) 9.128\n",
        "\n",
        "edge10/2013/01/26.16.02.02.365.0.txt\n",
        "right: ( 1.914 , -10.894 ) 12.808\n",
        "left: ( 12.661 , -1.325 ) 13.986\n",
        "\n"
       ]
      }
     ],
     "prompt_number": 20
    },
    {
     "cell_type": "code",
     "collapsed": false,
     "input": [
      "'''Where the magic happens'''\n",
      "#Compute Summary Metrics\n",
      "jsonSimscore = vm.summary_metrics(meta, data, conn)\n",
      "jsonSimscore = vm.data_metrics_append(jsonSimscore, data, filename)\n",
      "jsonSimscore = vm.machine_health_append(jsonSimscore, meta, data)\n",
      "\n",
      "print jsonSimscore['IgnoreErrors']"
     ],
     "language": "python",
     "metadata": {},
     "outputs": [
      {
       "output_type": "stream",
       "stream": "stdout",
       "text": [
        "{'Fg_L': ['DeadSensors'], 'Fg_R': ['OutOfRange', 'DeadSensors']}\n"
       ]
      }
     ],
     "prompt_number": 3
    }
   ],
   "metadata": {}
  }
 ]
}