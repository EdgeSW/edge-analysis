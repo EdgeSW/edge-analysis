{
 "metadata": {
  "name": "scratch"
 },
 "nbformat": 3,
 "nbformat_minor": 0,
 "worksheets": [
  {
   "cells": [
    {
     "cell_type": "code",
     "collapsed": false,
     "input": [
      "#Holoborodko for each variable\n"
     ],
     "language": "python",
     "metadata": {},
     "outputs": []
    },
    {
     "cell_type": "code",
     "collapsed": false,
     "input": [
      "import sys, os\n",
      "sys.path.append('C:\\\\Users\\\\Tyler\\\\.ipython\\\\Simscore-Computing')\n",
      "import boto, time, json, pprint\n",
      "from datetime import datetime\n",
      "import numpy as np\n",
      "\n",
      "import scoring\n",
      "import fetch.myS3 as myS3\n",
      "import fetch.mySQS as mySQS\n",
      "import validity_metrics as vm\n",
      "from aws import aws_ak, aws_sk\n"
     ],
     "language": "python",
     "metadata": {},
     "outputs": [],
     "prompt_number": 2
    },
    {
     "cell_type": "code",
     "collapsed": false,
     "input": [
      "import scipy\n",
      "from scipy.signal import butter, lfilter, filtfilt\n",
      "\n",
      "Fs = 30 # 1 ns -> 1 GHz\n",
      "N = 10 #filter order\n",
      "Wn = 5 #this number is the cutoff freq for a lowpass. pull from Thesis\n",
      "filter_saftey_margin = 1.15 #from filterAndDerivatives ln33\n",
      "\n",
      "#Full code sample:\n",
      "#b, a = scipy.signal.butter(N, Wn, 'low')\n",
      "#above same as below (butter is wrapper for iirfilter w/ ftype=buter\n",
      "b, a = scipy.signal.iirfilter(N, filter_saftey_margin*Wn/(Fs/2) , btype='low', ftype='butter')\n",
      "\n",
      "\n",
      "#output_signal = scipy.signal.filtfilt(b, a, input_signal)\n",
      "\n",
      "#filter_saftey_margin*Wn/(Fs/2)"
     ],
     "language": "python",
     "metadata": {},
     "outputs": [],
     "prompt_number": 15
    },
    {
     "cell_type": "code",
     "collapsed": false,
     "input": [
      "print b, a"
     ],
     "language": "python",
     "metadata": {},
     "outputs": [
      {
       "output_type": "stream",
       "stream": "stdout",
       "text": [
        "[ 0.0003563   0.00356301  0.01603353  0.04275607  0.07482313  0.08978775\n",
        "  0.07482313  0.04275607  0.01603353  0.00356301  0.0003563 ] [  1.00000000e+00  -2.32467856e+00   3.62738661e+00  -3.62389201e+00\n",
        "   2.69431322e+00  -1.45440263e+00   5.84997140e-01  -1.68431828e-01\n",
        "   3.33853443e-02  -4.05518603e-03   2.29713731e-04]\n"
       ]
      }
     ],
     "prompt_number": 16
    },
    {
     "cell_type": "code",
     "collapsed": false,
     "input": [],
     "language": "python",
     "metadata": {},
     "outputs": []
    }
   ],
   "metadata": {}
  }
 ]
}