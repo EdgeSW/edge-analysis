{
 "metadata": {
  "name": "computeSimscore"
 },
 "nbformat": 3,
 "nbformat_minor": 0,
 "worksheets": [
  {
   "cells": [
    {
     "cell_type": "heading",
     "level": 4,
     "metadata": {},
     "source": [
      "Determine metadata, validity metrics, HMM score and add to Simscore queue"
     ]
    },
    {
     "cell_type": "code",
     "collapsed": false,
     "input": [
      "from computing_imports import *\n",
      "import fetch.shapeS3 as shape\n",
      "import fetch.fetchS3 as fetchS3\n",
      "import fetch.mySQS as mySQS\n",
      "\n",
      "import report.validate as validate\n",
      "import validity_metrics as vm\n",
      "from fetch.mySQS import sqs_connection as conn\n",
      "\n",
      "from boto.sqs.message import Message\n",
      "\n",
      "import pprint\n",
      "pp = pprint.PrettyPrinter(indent=4)"
     ],
     "language": "python",
     "metadata": {},
     "outputs": [],
     "prompt_number": 4
    },
    {
     "cell_type": "code",
     "collapsed": false,
     "input": [
      "#%load_ext autoreload\n",
      "#%autoreload"
     ],
     "language": "python",
     "metadata": {},
     "outputs": [],
     "prompt_number": 7
    },
    {
     "cell_type": "code",
     "collapsed": false,
     "input": [
      "#Define SQS connection:\n",
      "q = conn.get_queue('EdgeFiles2Process')\n",
      "shipq = conn.get_queue('Files2Ship')\n",
      "q.set_message_class(boto.sqs.message.RawMessage)\n",
      "\n",
      "#Load in codebooks, hmms:\n",
      "\n",
      "#Run Eternally\n",
      "#while True:\n",
      "    \n",
      "#Get a file off the SQS stack using 20sec long poll\n",
      "rs = q.read(wait_time_seconds=20)\n",
      "\n",
      "#if there's a file in the queue,\n",
      "if rs:\n",
      "    \n",
      "    try:\n",
      "        #Pull filename from S3\n",
      "        bucketname = 'incoming-simscore-org'\n",
      "        filename = mySQS.get_sqs_filename(rs) #'edge6/2012/11/05.18.46.23.340.0.txt'\n",
      "        data, meta = shape.getData(filename, bucketname, is_secure=True)\n",
      "        #print meta\n",
      "        \n",
      "        #Compute Summary Metrics\n",
      "        jsonSimscore = vm.summary_metrics(meta,data)\n",
      "        \n",
      "        #Compute additional data validity metrics\n",
      "        jsonSimscore = vm.data_metrics_append(jsonSimscore, data, filename)\n",
      "        \n",
      "        #Compute machine health metrics\n",
      "        jsonSimscore = vm.machine_health_append(jsonSimscore, meta, data)\n",
      "                \n",
      "        #Given which hand and task it is,\n",
      "            #Score against HMMs in memory\n",
      "            #Append score to jsonSimscore\n",
      "        \n",
      "        #Processing is completed --Add this jsonSimscore to new SQS stack for POST\n",
      "        jsonSimscore = vm.round_dict(jsonSimscore,3)\n",
      "        m = Message()\n",
      "        m.set_body(json.dumps(jsonSimscore))\n",
      "        receipt = shipq.write(m)\n",
      "        \n",
      "        #If json is DEFINITELY received by new SQS, delete from original Files2Process queue\n",
      "        if receipt:\n",
      "            d = q.delete_message(rs)\n",
      "            if d: print 'Deleted %s from queue' %filename\n",
      "            \n",
      "    except:\n",
      "        raise\n",
      "        #print/log exception, then continue\n",
      "        #delete file from queue?\n",
      "        #Notify me of certain types of exception? Bad filenames? Unable to compute score? etc?\n",
      "        \n",
      "#if file is not there or in the Ship SQS,\n",
      "    #Once per day, compare list of S3 files to simpledb list of processed files.\n",
      "    #if S3 contains file not on processing list, add to queue NOW.\n",
      "    #simpledb contains filename, boolean \"computed\", boolean \"shipped\"\n",
      "      \n",
      "print 'done'"
     ],
     "language": "python",
     "metadata": {},
     "outputs": [
      {
       "ename": "TypeError",
       "evalue": "summary_metrics() takes exactly 2 arguments (3 given)",
       "output_type": "pyerr",
       "traceback": [
        "\u001b[1;31m---------------------------------------------------------------------------\u001b[0m\n\u001b[1;31mTypeError\u001b[0m                                 Traceback (most recent call last)",
        "\u001b[1;32m<ipython-input-8-e406d2252143>\u001b[0m in \u001b[0;36m<module>\u001b[1;34m()\u001b[0m\n\u001b[0;32m     23\u001b[0m \u001b[1;33m\u001b[0m\u001b[0m\n\u001b[0;32m     24\u001b[0m         \u001b[1;31m#Compute Summary Metrics\u001b[0m\u001b[1;33m\u001b[0m\u001b[1;33m\u001b[0m\u001b[0m\n\u001b[1;32m---> 25\u001b[1;33m         \u001b[0mjsonSimscore\u001b[0m \u001b[1;33m=\u001b[0m \u001b[0mvm\u001b[0m\u001b[1;33m.\u001b[0m\u001b[0msummary_metrics\u001b[0m\u001b[1;33m(\u001b[0m\u001b[0mmeta\u001b[0m\u001b[1;33m,\u001b[0m\u001b[0mdata\u001b[0m\u001b[1;33m,\u001b[0m\u001b[0mnp\u001b[0m\u001b[1;33m.\u001b[0m\u001b[0mdiff\u001b[0m\u001b[1;33m)\u001b[0m\u001b[1;33m\u001b[0m\u001b[0m\n\u001b[0m\u001b[0;32m     26\u001b[0m \u001b[1;33m\u001b[0m\u001b[0m\n\u001b[0;32m     27\u001b[0m         \u001b[1;31m#Compute additional data validity metrics\u001b[0m\u001b[1;33m\u001b[0m\u001b[1;33m\u001b[0m\u001b[0m\n",
        "\u001b[1;31mTypeError\u001b[0m: summary_metrics() takes exactly 2 arguments (3 given)"
       ]
      }
     ],
     "prompt_number": 8
    },
    {
     "cell_type": "code",
     "collapsed": false,
     "input": [],
     "language": "python",
     "metadata": {},
     "outputs": []
    },
    {
     "cell_type": "heading",
     "level": 1,
     "metadata": {},
     "source": [
      "Scratch"
     ]
    },
    {
     "cell_type": "code",
     "collapsed": false,
     "input": [
      "'''\n",
      "bucketname = 'incoming-simscore-org'\n",
      "filename = 'edge6/2012/11/05.19.16.31.340.3.txt'\n",
      "#data, meta = shape.getData(filename, bucketname, is_secure=True)\n",
      "#Compute Summary Metrics\n",
      "jsonSimscore = vm.summary_metrics(meta,data)\n",
      "#Compute additional data validity metrics\n",
      "jsonSimscore = vm.data_metrics_append(jsonSimscore, data, filename)\n",
      "#Compute machine health metrics\n",
      "jsonSimscore = vm.machine_health_append(jsonSimscore, meta, data)\n",
      "jsonSimscore = vm.round_dict(jsonSimscore,3)\n",
      "\n",
      "#print pp.pprint(jsonSimscore)\n",
      "'''"
     ],
     "language": "python",
     "metadata": {},
     "outputs": [
      {
       "output_type": "stream",
       "stream": "stdout",
       "text": [
        "{   'BadFrames': 'clear',\n",
        "    'BadFramesCount': 1,\n",
        "    'Continuous': 'clear',\n",
        "    'DeadSensors': [],\n",
        "    'EdgeID': '6',\n",
        "    'FailTypes': ['OutOfRange'],\n",
        "    'IsPractice': False,\n",
        "    'LToolID': u'40000014',\n",
        "    'LastCalibration': '2012-05-30 14:55:29.433',\n",
        "    'LinEncDrift': {   'left': 'clear', 'right': 'clear'},\n",
        "    'LinEncDriftValue': {   'left': -0.012, 'right': -0.265},\n",
        "    'MetadataFilename': u'edge6/2012/11/05.19.16.31.340.3.log',\n",
        "    'MinMax': {   '%Time_V1': {   'max': 143.764, 'min': 0.049},\n",
        "                  'Fg_L': {   'max': -6.867, 'min': -8.584},\n",
        "                  'Fg_R': {   'max': 16.728, 'min': -3.802},\n",
        "                  'J1_L': {   'max': 46.034, 'min': 0.283},\n",
        "                  'J1_R': {   'max': 54.896, 'min': 5.341},\n",
        "                  'J2_L': {   'max': 0.288, 'min': -56.396},\n",
        "                  'J2_R': {   'max': -3.706, 'min': -71.547},\n",
        "                  'Lin_L': {   'max': 2.654, 'min': -5.388},\n",
        "                  'Lin_R': {   'max': 3.307, 'min': -6.518},\n",
        "                  'Rot_L': {   'max': -30.168, 'min': -116.784},\n",
        "                  'Rot_R': {   'max': 0.0, 'min': 0.0},\n",
        "                  'ThG_L': {   'max': 13.25, 'min': -0.883},\n",
        "                  'ThG_R': {   'max': 0.0, 'min': 0.0},\n",
        "                  'X_L': {   'max': 0.353, 'min': -6.841},\n",
        "                  'X_R': {   'max': 6.66, 'min': -3.48},\n",
        "                  'Y_L': {   'max': 3.203, 'min': -6.418},\n",
        "                  'Y_R': {   'max': 1.541, 'min': -8.873},\n",
        "                  'Z_L': {   'max': 14.147, 'min': -0.331},\n",
        "                  'Z_R': {   'max': 12.499, 'min': -2.396}},\n",
        "    'NaNSensors': [],\n",
        "    'OutOfRange': ['Fg_L', 'Fg_R'],\n",
        "    'ProctorID': '288',\n",
        "    'ProctorValues': {   u'CrossingClips': False,\n",
        "                         u'FailedToPut4Clips': False,\n",
        "                         u'FailedToPutMinimum2ClipsBetweenLines': False,\n",
        "                         u'GraspedTheRenalArtery': False,\n",
        "                         u'IncompleteCoaption': False,\n",
        "                         u'InstrumentLeftFieldOfView': True,\n",
        "                         u'StraightCutOnMiddleDottedLine': False},\n",
        "    'ProctorValuesCheck': 'clear',\n",
        "    'RToolID': u'82000037',\n",
        "    'SwVersion': u'1.6.0.0',\n",
        "    'TaskType': 3,\n",
        "    'TestDataFilename': u'edge6/2012/11/05.19.16.31.340.3.txt',\n",
        "    'TestID': u'edge6/2012/11/05.19.16.31.340.3',\n",
        "    'TestLength': 143.731,\n",
        "    'TestLengthCheck': 'clear',\n",
        "    'ToolTipDrift': {   'left': 'clear', 'right': 'clear'},\n",
        "    'ToolTipDriftValue': {   'left': {   'x': -0.018, 'y': -0.011, 'z': 0.033},\n",
        "                             'right': {   'x': -0.54, 'y': -0.433, 'z': -1.135}},\n",
        "    'UploadDate': '2012-11-05 19:16:31',\n",
        "    'UploadDateUnix': 1352171791,\n",
        "    'UserID': '340',\n",
        "    'VideoDataFilename': u'edge6/2012/11/05.19.16.31.340.3.mp4'}\n",
        "None\n"
       ]
      }
     ],
     "prompt_number": 24
    },
    {
     "cell_type": "code",
     "collapsed": false,
     "input": [],
     "language": "python",
     "metadata": {},
     "outputs": []
    }
   ],
   "metadata": {}
  }
 ]
}