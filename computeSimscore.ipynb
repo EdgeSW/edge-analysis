{
 "metadata": {
  "name": "computeSimscore"
 },
 "nbformat": 3,
 "nbformat_minor": 0,
 "worksheets": [
  {
   "cells": [
    {
     "cell_type": "heading",
     "level": 4,
     "metadata": {},
     "source": [
      "Determine metadata, validity metrics, HMM score and add to Simscore queue"
     ]
    },
    {
     "cell_type": "code",
     "collapsed": false,
     "input": [
      "from computing_imports import *\n",
      "import fetch.shapeS3 as shape\n",
      "import fetch.fetchS3 as fetchS3\n",
      "import fetch.mySQS as mySQS\n",
      "\n",
      "import report.tools.validate as validate\n",
      "import validity_metrics as vm\n",
      "from fetch.mySQS import sqs_connection as conn\n",
      "\n",
      "from boto.sqs.message import Message\n",
      "\n",
      "import pprint\n",
      "pp = pprint.PrettyPrinter(indent=4)"
     ],
     "language": "python",
     "metadata": {},
     "outputs": [],
     "prompt_number": 1
    },
    {
     "cell_type": "code",
     "collapsed": false,
     "input": [
      "%load_ext autoreload\n",
      "%autoreload"
     ],
     "language": "python",
     "metadata": {},
     "outputs": [],
     "prompt_number": 25
    },
    {
     "cell_type": "code",
     "collapsed": false,
     "input": [
      "#Define SQS connection:\n",
      "q = conn.get_queue('EdgeFiles2Process')\n",
      "endq = conn.get_queue('Files2Ship')\n",
      "q.set_message_class(boto.sqs.message.RawMessage)\n",
      "\n",
      "#Load in codebooks, hmms:\n",
      "\n",
      "#Run Eternally\n",
      "#while True:\n",
      "    \n",
      "#Get a file off the SQS stack using 20sec long poll\n",
      "rs = q.read(wait_time_seconds=20)\n",
      "\n",
      "#if there's a file in the queue,\n",
      "if rs:\n",
      "    \n",
      "    try:\n",
      "        #Pull filename from S3\n",
      "        bucketname = 'incoming-simscore-org'\n",
      "        filename = mySQS.get_sqs_filename(rs) #'edge6/2012/11/05.18.46.23.340.0.txt'\n",
      "        data, meta = shape.getData(filename, bucketname, is_secure=True)\n",
      "        #print meta\n",
      "        \n",
      "        #Compute Summary Metrics\n",
      "        jsonSimscore = vm.summary_metrics(meta,data,np.diff)\n",
      "        \n",
      "        #Compute additional data validity metrics\n",
      "        jsonSimscore = vm.data_metrics_append(jsonSimscore, data, filename)\n",
      "        \n",
      "        #Compute machine health metrics\n",
      "        jsonSimscore = vm.machine_health_append(jsonSimscore, meta, data)\n",
      "        \n",
      "        #Given which hand and task it is,\n",
      "            #Score against HMMs in memory\n",
      "            #Append score to jsonSimscore\n",
      "        \n",
      "        #Processing is completed --Add this jsonSimscore to new SQS stack for POST\n",
      "        jsonSimscore = vm.round_dict(jsonSimscore,3)\n",
      "        m = Message()\n",
      "        m.set_body(json.dumps(jsonSimscore))\n",
      "        receipt = endq.write(m)\n",
      "        \n",
      "        #If json is DEFINITELY received by new SQS, delete from original Files2Process queue\n",
      "        #if receipt:\n",
      "            #d = q.delete_message(rs)\n",
      "            #if d: print 'Deleted %s from queue' %filename\n",
      "            \n",
      "    except:\n",
      "        raise\n",
      "        #print/log exception, then continue\n",
      "        #delete file from queue?\n",
      "        #Notify me of certain types of exception? Bad filenames? Unable to compute score? etc?\n",
      "        \n",
      "#if file is not there or in the Ship SQS,\n",
      "    #Once per day, compare list of S3 files to simpledb list of processed files.\n",
      "    #if S3 contains file not on processing list, add to queue NOW.\n",
      "    #simpledb contains filename, boolean \"computed\", boolean \"shipped\"\n",
      "      \n",
      "print 'done'"
     ],
     "language": "python",
     "metadata": {},
     "outputs": [
      {
       "output_type": "stream",
       "stream": "stdout",
       "text": [
        "done\n"
       ]
      }
     ],
     "prompt_number": 8
    },
    {
     "cell_type": "code",
     "collapsed": false,
     "input": [],
     "language": "python",
     "metadata": {},
     "outputs": []
    },
    {
     "cell_type": "heading",
     "level": 1,
     "metadata": {},
     "source": [
      "Scratch"
     ]
    },
    {
     "cell_type": "code",
     "collapsed": false,
     "input": [
      "bucketname = 'incoming-simscore-org'\n",
      "filename = 'edge6/2012/11/05.19.16.31.340.3.txt'\n",
      "data, meta = shape.getData(filename, bucketname, is_secure=True)\n",
      "#Compute Summary Metrics\n",
      "jsonSimscore = vm.summary_metrics(meta,data)\n",
      "#Compute additional data validity metrics\n",
      "jsonSimscore = vm.data_metrics_append(jsonSimscore, data, filename)\n",
      "#Compute machine health metrics\n",
      "jsonSimscore = vm.machine_health_append(jsonSimscore, meta, data)\n",
      "\n",
      "#print pp.pprint(jsonSimscore)"
     ],
     "language": "python",
     "metadata": {},
     "outputs": [],
     "prompt_number": 2
    },
    {
     "cell_type": "code",
     "collapsed": false,
     "input": [],
     "language": "python",
     "metadata": {},
     "outputs": []
    }
   ],
   "metadata": {}
  }
 ]
}