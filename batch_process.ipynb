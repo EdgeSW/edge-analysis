{
 "metadata": {
  "name": "batch_process"
 },
 "nbformat": 3,
 "nbformat_minor": 0,
 "worksheets": [
  {
   "cells": [
    {
     "cell_type": "code",
     "collapsed": false,
     "input": [
      "import sys, os\n",
      "#sys.path.append('C:\\\\Users\\\\Tyler\\\\.ipython\\\\Simscore-Computing')\n",
      "import boto, time, json, pprint\n",
      "from datetime import datetime, timedelta\n",
      "import numpy as np\n",
      "\n",
      "import scoring\n",
      "import fetch.myS3 as myS3\n",
      "import fetch.mySQS as mySQS\n",
      "import validity_metrics as vm\n",
      "from aws import aws_ak, aws_sk\n",
      "from boto.sqs.message import Message\n"
     ],
     "language": "python",
     "metadata": {},
     "outputs": [],
     "prompt_number": 1
    },
    {
     "cell_type": "code",
     "collapsed": false,
     "input": [
      "'''Define Connections'''\n",
      "sqs_conn = boto.connect_sqs(aws_ak, aws_sk)\n",
      "q = sqs_conn.get_queue('Files2Ship')\n",
      "comq = sqs_conn.get_queue('EdgeFiles2Process')\n",
      "#Connect to ses\n",
      "ses_conn = boto.connect_ses(aws_ak, aws_sk)\n",
      "#Connect to SimpleDB\n",
      "sdb_conn = boto.connect_sdb(aws_ak, aws_sk)\n",
      "sdb_domain = sdb_conn.get_domain('ProcessedEdgeFiles')"
     ],
     "language": "python",
     "metadata": {},
     "outputs": [],
     "prompt_number": 2
    },
    {
     "cell_type": "code",
     "collapsed": false,
     "input": [
      "print mySQS.approx_total_messages(comq)\n",
      "if mySQS.approx_total_messages(comq)==0:\n",
      "    \n",
      "    print 'processing'\n",
      "    conn = boto.connect_s3(aws_ak, aws_sk)\n",
      "    bucket = conn.get_bucket('incoming-simscore-org')\n",
      "    theforgotten = myS3.getLeftBehind(daysback=5, conn=conn, sdb_domain=sdb_domain)\n",
      "    print theforgotten\n",
      "    \n",
      "    if len(theforgotten) > 0:\n",
      "        mySQS.append_list_to_queue(theforgotten, comq)\n"
     ],
     "language": "python",
     "metadata": {},
     "outputs": [
      {
       "output_type": "stream",
       "stream": "stdout",
       "text": [
        "0\n",
        "processing"
       ]
      },
      {
       "output_type": "stream",
       "stream": "stdout",
       "text": [
        "\n",
        "[]"
       ]
      },
      {
       "output_type": "stream",
       "stream": "stdout",
       "text": [
        "\n"
       ]
      }
     ],
     "prompt_number": 3
    },
    {
     "cell_type": "code",
     "collapsed": false,
     "input": [
      "if mySQS.approx_total_messages(comq)==0:\n",
      "    print 'processing'\n",
      "    conn = boto.connect_s3(aws_ak, aws_sk)\n",
      "    bucket = conn.get_bucket('incoming-simscore-org')\n",
      "    \n",
      "    filelist = myS3.getFilesBetween(mindate=datetime.now()-timedelta(days=1), maxdate=datetime.now(), bucket=bucket, onlyTxtFiles=True)\n",
      "    print filelist\n",
      "    \n",
      "    if len(filelist) > 0:\n",
      "        mySQS.append_list_to_queue(filelist, comq)\n",
      "     "
     ],
     "language": "python",
     "metadata": {},
     "outputs": [
      {
       "output_type": "stream",
       "stream": "stdout",
       "text": [
        "processing\n",
        "['edge10/2012/12/13.16.29.59.286.0.txt', 'edge10/2012/12/13.16.33.45.286.0.txt', 'edge10/2012/12/13.16.36.31.286.0.txt', 'edge10/2012/12/13.16.47.22.286.1.txt', 'edge10/2012/12/13.16.55.41.286.1.txt', 'edge10/2012/12/13.17.09.44.286.3.txt', 'edge10/2012/12/13.17.17.19.286.3.txt', 'edge10/2012/12/13.17.27.32.286.2.txt', 'edge10/2012/12/13.17.32.21.286.2.txt', 'edge10/2012/12/13.17.50.27.286.2.txt', 'edge8/2012/12/13.18.21.16.364.0.txt', 'edge8/2012/12/13.18.24.19.364.0.txt', 'edge8/2012/12/13.18.29.39.364.1.txt', 'edge8/2012/12/13.18.35.52.364.3.txt', 'edge8/2012/12/13.18.41.32.364.2.txt', 'edge8/2012/12/13.18.49.37.364.2.txt', 'edge8/2012/12/13.19.04.37.361.0.txt', 'edge8/2012/12/13.19.07.26.361.0.txt', 'edge8/2012/12/13.19.11.28.361.1.txt', 'edge8/2012/12/13.19.15.57.361.3.txt', 'edge8/2012/12/13.19.20.24.361.2.txt', 'edge8/2012/12/13.19.28.49.361.2.txt', 'edge8/2012/12/13.19.31.56.361.2.txt', 'edge8/2012/12/13.20.05.00.349.0.txt', 'edge8/2012/12/13.20.08.41.349.0.txt', 'edge8/2012/12/13.20.13.36.349.1.txt', 'edge8/2012/12/13.20.18.39.349.3.txt', 'edge8/2012/12/13.20.23.28.349.2.txt', 'edge8/2012/12/13.20.26.44.349.2.txt', 'edge8/2012/12/13.20.36.10.359.0.txt', 'edge8/2012/12/13.20.40.46.359.1.txt', 'edge8/2012/12/13.20.45.36.359.3.txt', 'edge8/2012/12/13.20.49.39.359.2.txt', 'edge8/2012/12/13.20.56.34.297.2.txt', 'edge8/2012/12/13.21.02.24.297.2.txt', 'edge8/2012/12/13.21.06.44.297.2.txt', 'edge8/2012/12/13.21.11.18.360.0.txt', 'edge8/2012/12/13.21.15.53.360.1.txt', 'edge8/2012/12/13.21.20.05.360.3.txt', 'edge8/2012/12/13.21.24.04.360.2.txt']"
       ]
      },
      {
       "output_type": "stream",
       "stream": "stdout",
       "text": [
        "\n"
       ]
      }
     ],
     "prompt_number": 4
    }
   ],
   "metadata": {}
  }
 ]
}