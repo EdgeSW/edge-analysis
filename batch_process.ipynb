{
 "metadata": {
  "name": "batch_process"
 },
 "nbformat": 3,
 "nbformat_minor": 0,
 "worksheets": [
  {
   "cells": [
    {
     "cell_type": "code",
     "collapsed": false,
     "input": [
      "import sys, os\n",
      "sys.path.append('C:\\\\Users\\\\Tyler\\\\.ipython\\\\Simscore-Computing')\n",
      "import boto, time, json, pprint\n",
      "from datetime import datetime, timedelta\n",
      "import numpy as np\n",
      "\n",
      "import scoring\n",
      "import fetch.myS3 as myS3\n",
      "import fetch.mySQS as mySQS\n",
      "import validity_metrics as vm\n",
      "from aws import aws_ak, aws_sk\n",
      "from boto.sqs.message import Message\n"
     ],
     "language": "python",
     "metadata": {},
     "outputs": [],
     "prompt_number": 1
    },
    {
     "cell_type": "code",
     "collapsed": false,
     "input": [
      "'''Define Connections'''\n",
      "sqs_conn = boto.connect_sqs(aws_ak, aws_sk)\n",
      "q = sqs_conn.get_queue('Files2Ship')\n",
      "comq = sqs_conn.get_queue('EdgeFiles2Process')\n",
      "#Connect to ses\n",
      "ses_conn = boto.connect_ses(aws_ak, aws_sk)\n",
      "#Connect to SimpleDB\n",
      "sdb_conn = boto.connect_sdb(aws_ak, aws_sk)\n",
      "sdb_domain = sdb_conn.get_domain('ProcessedEdgeFiles')"
     ],
     "language": "python",
     "metadata": {},
     "outputs": [],
     "prompt_number": 2
    },
    {
     "cell_type": "code",
     "collapsed": false,
     "input": [
      "print mySQS.approx_total_messages(comq)\n",
      "if mySQS.approx_total_messages(comq)==0:\n",
      "    \n",
      "    print 'processing'\n",
      "    conn = boto.connect_s3(aws_ak, aws_sk)\n",
      "    bucket = conn.get_bucket('incoming-simscore-org')\n",
      "    theforgotten = myS3.getLeftBehind(daysback=7, conn=conn, sdb_domain=sdb_domain)\n",
      "    print theforgotten\n",
      "    \n",
      "    if len(theforgotten) > 0:\n",
      "        mySQS.append_list_to_queue(theforgotten, comq)\n"
     ],
     "language": "python",
     "metadata": {},
     "outputs": [
      {
       "output_type": "stream",
       "stream": "stdout",
       "text": [
        "0\n",
        "processing"
       ]
      },
      {
       "output_type": "stream",
       "stream": "stdout",
       "text": [
        "\n",
        "[]"
       ]
      },
      {
       "output_type": "stream",
       "stream": "stdout",
       "text": [
        "\n"
       ]
      }
     ],
     "prompt_number": 4
    },
    {
     "cell_type": "code",
     "collapsed": false,
     "input": [
      "if mySQS.approx_total_messages(comq)==0:\n",
      "    print 'processing'\n",
      "    conn = boto.connect_s3(aws_ak, aws_sk)\n",
      "    bucket = conn.get_bucket('incoming-simscore-org')\n",
      "    \n",
      "    t0 = datetime.now()-timedelta(days=7) #138\n",
      "    filelist = myS3.getFilesBetween(mindate=t0, maxdate=datetime.utcnow(), bucket=bucket, onlyTxtFiles=True)\n",
      "    #filelist =  ['edge11/2013/01/07.18.32.15.109.0.txt','edge7/2013/01/07.16.59.48.370.2.txt','edge11/2013/01/04.21.36.02.109.0.txt']\n",
      "    print len(filelist), filelist\n",
      "    \n",
      "    if len(filelist) > 0:\n",
      "        mySQS.append_list_to_queue(filelist, comq)\n",
      "     "
     ],
     "language": "python",
     "metadata": {},
     "outputs": [
      {
       "output_type": "stream",
       "stream": "stdout",
       "text": [
        "processing\n",
        "38"
       ]
      },
      {
       "output_type": "stream",
       "stream": "stdout",
       "text": [
        " ['edge10/2013/01/22.18.09.46.209.0.txt', 'edge10/2013/01/22.18.12.33.209.0.txt', 'edge10/2013/01/22.18.16.44.209.1.txt', 'edge10/2013/01/22.18.20.25.209.1.txt', 'edge10/2013/01/22.18.26.48.209.3.txt', 'edge10/2013/01/22.18.29.32.209.3.txt', 'edge10/2013/01/22.18.35.05.209.2.txt', 'edge10/2013/01/22.18.38.26.209.2.txt', 'edge10/2013/01/22.20.24.41.386.3.txt', 'edge10/2013/01/24.16.58.50.389.2.txt', 'edge10/2013/01/24.17.05.48.389.2.txt', 'edge10/2013/01/24.17.20.31.353.3.txt', 'edge10/2013/01/25.16.54.30.351.2.txt', 'edge10/2013/01/26.16.02.02.365.0.txt', 'edge10/2013/01/26.16.08.01.365.3.txt', 'edge12/2013/01/23.00.21.12.109.0.txt', 'edge12/2013/01/23.00.23.11.109.0.txt', 'edge12/2013/01/23.00.27.09.109.0.txt', 'edge12/2013/01/23.00.29.47.109.0.txt', 'edge12/2013/01/24.21.56.31.109.2.txt', 'edge6/2013/01/25.21.26.05.393.0.txt', 'edge6/2013/01/25.21.27.07.393.0.txt', 'edge6/2013/01/25.21.27.20.393.0.txt', 'edge6/2013/01/25.21.33.58.393.0.txt', 'edge6/2013/01/25.21.38.35.393.0.txt', 'edge6/2013/01/25.21.43.21.393.0.txt', 'edge6/2013/01/25.21.49.49.393.1.txt', 'edge6/2013/01/25.21.57.04.393.1.txt', 'edge6/2013/01/25.22.07.01.393.3.txt', 'edge6/2013/01/25.22.14.21.307.3.txt', 'edge6/2013/01/25.22.25.12.312.0.txt', 'edge6/2013/01/25.22.26.23.312.0.txt', 'edge6/2013/01/25.22.30.14.312.0.txt', 'edge6/2013/01/25.22.36.04.312.1.txt', 'edge6/2013/01/25.22.42.33.393.3.txt', 'edge6/2013/01/25.22.49.29.393.2.txt', 'edge6/2013/01/25.22.49.45.393.2.txt', 'edge6/2013/01/25.22.57.28.393.2.txt']\n"
       ]
      }
     ],
     "prompt_number": 21
    },
    {
     "cell_type": "code",
     "collapsed": false,
     "input": [
      "comq.clear()"
     ],
     "language": "python",
     "metadata": {},
     "outputs": [
      {
       "output_type": "pyout",
       "prompt_number": 20,
       "text": [
        "0"
       ]
      }
     ],
     "prompt_number": 20
    },
    {
     "cell_type": "code",
     "collapsed": false,
     "input": [],
     "language": "python",
     "metadata": {},
     "outputs": []
    }
   ],
   "metadata": {}
  }
 ]
}