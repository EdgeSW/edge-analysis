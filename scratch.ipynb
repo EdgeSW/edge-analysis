{
 "metadata": {
  "name": "scratch"
 },
 "nbformat": 3,
 "nbformat_minor": 0,
 "worksheets": [
  {
   "cells": [
    {
     "cell_type": "code",
     "collapsed": false,
     "input": [
      "import sys, os\n",
      "sys.path.append('C:\\\\Users\\\\Tyler\\\\.ipython\\\\Simscore-Computing')\n",
      "import boto, time, json, pprint\n",
      "from datetime import datetime, timedelta\n",
      "import numpy as np\n",
      "\n",
      "import fetch.myS3 as myS3\n",
      "import fetch.mySQS as mySQS\n",
      "import validity_metrics as vm\n",
      "from aws import aws_ak, aws_sk\n",
      "from fetch.configuration import isClipTask   \n",
      "import report.validate as validate\n",
      "conn = boto.connect_s3(aws_ak, aws_sk)\n",
      "bucket = conn.get_bucket('incoming-simscore-org')"
     ],
     "language": "python",
     "metadata": {},
     "outputs": [],
     "prompt_number": 1
    },
    {
     "cell_type": "code",
     "collapsed": false,
     "input": [
      "filename = 'edge6/2013/01/09.23.55.20.368.3.txt'\n",
      "data, meta = myS3.getData(bucket, filename, labeled=True)\n",
      "if data == None: raise ValueError, \"Data file is empty!\""
     ],
     "language": "python",
     "metadata": {},
     "outputs": [],
     "prompt_number": 2
    },
    {
     "cell_type": "code",
     "collapsed": false,
     "input": [
      "'''Where the magic happens'''\n",
      "#Compute Summary Metrics\n",
      "jsonSimscore = vm.summary_metrics(meta, data, conn)\n",
      "jsonSimscore = vm.data_metrics_append(jsonSimscore, data, filename)\n",
      "jsonSimscore = vm.machine_health_append(jsonSimscore, meta, data)\n",
      "\n",
      "print jsonSimscore['IgnoreErrors']"
     ],
     "language": "python",
     "metadata": {},
     "outputs": [
      {
       "output_type": "stream",
       "stream": "stdout",
       "text": [
        "{'Fg_L': ['DeadSensors'], 'Fg_R': ['OutOfRange', 'DeadSensors']}\n"
       ]
      }
     ],
     "prompt_number": 3
    },
    {
     "cell_type": "code",
     "collapsed": false,
     "input": [
      "print jsonSimscore[\"IsPractice\"]"
     ],
     "language": "python",
     "metadata": {},
     "outputs": [
      {
       "output_type": "stream",
       "stream": "stdout",
       "text": [
        "True\n"
       ]
      }
     ],
     "prompt_number": 2
    },
    {
     "cell_type": "code",
     "collapsed": false,
     "input": [],
     "language": "python",
     "metadata": {},
     "outputs": []
    }
   ],
   "metadata": {}
  }
 ]
}