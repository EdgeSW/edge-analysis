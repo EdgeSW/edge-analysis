{
 "metadata": {
  "name": "users_report"
 },
 "nbformat": 3,
 "nbformat_minor": 0,
 "worksheets": [
  {
   "cells": [
    {
     "cell_type": "code",
     "collapsed": false,
     "input": [
      "import sys, os\n",
      "sys.path.append('C:\\\\Users\\\\Tyler\\\\.ipython\\\\Simscore-Computing')\n",
      "import boto, time, json, pprint\n",
      "from datetime import datetime, timedelta\n",
      "import numpy as np\n",
      "\n",
      "import fetch.myS3 as myS3\n",
      "import fetch.mySQS as mySQS\n",
      "import validity_metrics as vm\n",
      "from aws import aws_ak, aws_sk\n"
     ],
     "language": "python",
     "metadata": {},
     "outputs": [],
     "prompt_number": 7
    },
    {
     "cell_type": "code",
     "collapsed": false,
     "input": [
      "conn = boto.connect_s3(aws_ak, aws_sk)\n",
      "bucket = conn.get_bucket('incoming-simscore-org')\n",
      "lastcheck = datetime.now()\n",
      "print lastcheck\n",
      "allfiles = myS3.getFilesBetween(mindate=datetime.now()-timedelta(days=4), maxdate=datetime.utcnow(), bucket=bucket, onlyTxtFiles=True)"
     ],
     "language": "python",
     "metadata": {},
     "outputs": [
      {
       "output_type": "stream",
       "stream": "stdout",
       "text": [
        "2013-01-25 17:00:04.887000\n"
       ]
      }
     ],
     "prompt_number": 8
    },
    {
     "cell_type": "code",
     "collapsed": false,
     "input": [
      "userfiles = []\n",
      "for f in allfiles:\n",
      "    edge = f.split('/')[0][4:]\n",
      "    if f.split('.')[-3] != '109' and edge not in ['0','11','12']:\n",
      "        userfiles.append(f)\n",
      "        \n",
      "ffs = myS3.getTestFiles(userfiles, bucket) \n",
      "print ffs"
     ],
     "language": "python",
     "metadata": {},
     "outputs": [
      {
       "output_type": "stream",
       "stream": "stdout",
       "text": [
        "['edge10/2013/01/22.12.38.44.286.2.txt', 'edge10/2013/01/22.12.39.36.286.2.txt', 'edge10/2013/01/22.18.12.33.209.0.txt', 'edge10/2013/01/22.18.20.25.209.1.txt', 'edge10/2013/01/22.18.29.32.209.3.txt', 'edge10/2013/01/22.18.38.26.209.2.txt', 'edge10/2013/01/22.20.24.41.386.3.txt', 'edge10/2013/01/24.17.05.48.389.2.txt', 'edge10/2013/01/24.17.20.31.353.3.txt', 'edge10/2013/01/25.16.54.30.351.2.txt', 'edge6/2013/01/25.21.43.21.393.0.txt', 'edge6/2013/01/25.21.57.04.393.1.txt', 'edge6/2013/01/25.22.14.21.307.3.txt', 'edge6/2013/01/25.22.30.14.312.0.txt', 'edge6/2013/01/25.22.36.04.312.1.txt', 'edge6/2013/01/25.22.42.33.393.3.txt', 'edge6/2013/01/25.22.57.28.393.2.txt']\n"
       ]
      }
     ],
     "prompt_number": 9
    },
    {
     "cell_type": "code",
     "collapsed": false,
     "input": [
      "report = {}\n",
      "tasks = ['PegTx','Cutting','Suturing','ClipApply']\n",
      "%load_ext autoreload\n",
      "%autoreload\n",
      "\n",
      "for f in ffs:\n",
      "    print f\n",
      "    uid = f.split('.')[-3]\n",
      "    task = int(f.split('.')[-2])\n",
      "    if not report.get(uid, False): report[uid] = {'Summary':[0,0,0,0], tasks[0]:[], tasks[1]:[], tasks[2]:[], tasks[3]:[]}\n",
      "    \n",
      "    data, meta = myS3.getData(bucket, f, labeled=True)\n",
      "    #Compute Summary Metrics\n",
      "    jsonSimscore = vm.summary_metrics(meta, data, conn)\n",
      "    jsonSimscore = vm.data_metrics_append(jsonSimscore, data, f)\n",
      "    jsonSimscore = vm.machine_health_append(jsonSimscore, meta, data)\n",
      "    failtypes = jsonSimscore['FailTypes']\n",
      "    \n",
      "    report[uid]['Summary'][task] += 1\n",
      "    report[uid][tasks[task]].append([f, failtypes])\n",
      "        "
     ],
     "language": "python",
     "metadata": {},
     "outputs": [
      {
       "output_type": "stream",
       "stream": "stdout",
       "text": [
        "The autoreload extension is already loaded. To reload it, use:\n",
        "  %reload_ext autoreload\n",
        "edge10/2013/01/22.12.38.44.286.2.txt"
       ]
      },
      {
       "output_type": "stream",
       "stream": "stdout",
       "text": [
        "\n",
        "edge10/2013/01/22.12.39.36.286.2.txt"
       ]
      },
      {
       "output_type": "stream",
       "stream": "stdout",
       "text": [
        "\n",
        "edge10/2013/01/22.18.12.33.209.0.txt"
       ]
      },
      {
       "output_type": "stream",
       "stream": "stdout",
       "text": [
        "\n",
        "edge10/2013/01/22.18.20.25.209.1.txt"
       ]
      },
      {
       "output_type": "stream",
       "stream": "stdout",
       "text": [
        "\n",
        "edge10/2013/01/22.18.29.32.209.3.txt"
       ]
      },
      {
       "output_type": "stream",
       "stream": "stdout",
       "text": [
        "\n",
        "edge10/2013/01/22.18.38.26.209.2.txt"
       ]
      },
      {
       "output_type": "stream",
       "stream": "stdout",
       "text": [
        "\n",
        "edge10/2013/01/22.20.24.41.386.3.txt"
       ]
      },
      {
       "output_type": "stream",
       "stream": "stdout",
       "text": [
        "\n",
        "edge10/2013/01/24.17.05.48.389.2.txt"
       ]
      },
      {
       "output_type": "stream",
       "stream": "stdout",
       "text": [
        "\n",
        "edge10/2013/01/24.17.20.31.353.3.txt"
       ]
      },
      {
       "output_type": "stream",
       "stream": "stdout",
       "text": [
        "\n",
        "edge10/2013/01/25.16.54.30.351.2.txt"
       ]
      },
      {
       "output_type": "stream",
       "stream": "stdout",
       "text": [
        "\n",
        "edge6/2013/01/25.21.43.21.393.0.txt"
       ]
      },
      {
       "output_type": "stream",
       "stream": "stdout",
       "text": [
        "\n",
        "edge6/2013/01/25.21.57.04.393.1.txt"
       ]
      },
      {
       "output_type": "stream",
       "stream": "stdout",
       "text": [
        "\n",
        "edge6/2013/01/25.22.14.21.307.3.txt"
       ]
      },
      {
       "output_type": "stream",
       "stream": "stdout",
       "text": [
        "\n",
        "edge6/2013/01/25.22.30.14.312.0.txt"
       ]
      },
      {
       "output_type": "stream",
       "stream": "stdout",
       "text": [
        "\n",
        "edge6/2013/01/25.22.36.04.312.1.txt"
       ]
      },
      {
       "output_type": "stream",
       "stream": "stdout",
       "text": [
        "\n",
        "edge6/2013/01/25.22.42.33.393.3.txt"
       ]
      },
      {
       "output_type": "stream",
       "stream": "stdout",
       "text": [
        "\n",
        "edge6/2013/01/25.22.57.28.393.2.txt"
       ]
      },
      {
       "output_type": "stream",
       "stream": "stdout",
       "text": [
        "\n"
       ]
      }
     ],
     "prompt_number": 10
    },
    {
     "cell_type": "code",
     "collapsed": false,
     "input": [
      "import json\n",
      "from openpyxl.workbook import Workbook\n",
      "from openpyxl.writer.excel import ExcelWriter\n",
      "\n",
      "from openpyxl.cell import get_column_letter\n",
      "\n",
      "wb = Workbook()\n",
      "dest_filename = r'User_Report.xlsx'\n",
      "ws = wb.worksheets[0]\n",
      "ws.title = \"User Report\"\n",
      "\n",
      "tasks = ['PegTx','Cutting','Suturing','ClipApply']\n",
      "i = 1\n",
      "url = 'http://simscore.org/browse_simscore/show?bucket=incoming-simscore-org&path=/'\n",
      "for u in report:\n",
      "    ws.append([int(u), 'Tasks','Files','FailTypes','Links','Check'])\n",
      "    for task in tasks:\n",
      "        if report[u][task]: \n",
      "            for test in report[u][task]:\n",
      "                ws.append(['', task, test[0], json.dumps(test[1]), url+test[0]])\n",
      "        else:\n",
      "            ws.append(['', task])\n",
      "            \n",
      "    ws.append(['', 'Tests:', json.dumps(report[u]['Summary']) ])\n",
      "    ws.append(['', 'Needs:'])\n",
      "    ws.append(['', 'Redo:'])\n",
      "    ws.append(['', 'SUMMARY:'])\n",
      "    ws.append([''])\n",
      "    \n",
      "\n",
      "\n",
      "\n",
      "wb.save(filename = dest_filename)"
     ],
     "language": "python",
     "metadata": {},
     "outputs": [],
     "prompt_number": 11
    },
    {
     "cell_type": "code",
     "collapsed": false,
     "input": [
      "for k in report.keys():\n",
      "    try: \n",
      "        filename = report[k]['PegTx'][0][0]\n",
      "        print filename.split('/')[1]+'/'+filename.split('/')[2]+'/'+filename.split('/')[3].split('.')[0], filename.split('.')[-3]\n",
      "        continue\n",
      "    except: pass\n",
      "    try: \n",
      "        filename = report[k]['Cutting'][0][0]\n",
      "        print filename.split('/')[1]+'/'+filename.split('/')[2]+'/'+filename.split('/')[3].split('.')[0], filename.split('.')[-3]\n",
      "        continue\n",
      "    except:pass\n",
      "    try: \n",
      "        filename = report[k]['Suturing'][0][0]\n",
      "        print filename.split('/')[1]+'/'+filename.split('/')[2]+'/'+filename.split('/')[3].split('.')[0], filename.split('.')[-3]\n",
      "        continue\n",
      "    except:pass\n",
      "    try: \n",
      "        filename = report[k]['ClipApply'][0][0]\n",
      "        print filename.split('/')[1]+'/'+filename.split('/')[2]+'/'+filename.split('/')[3].split('.')[0], filename.split('.')[-3]\n",
      "        continue\n",
      "    except: raise ValueError, 'somebody had no tests, wtf mate'\n",
      "    \n",
      "    "
     ],
     "language": "python",
     "metadata": {},
     "outputs": [
      {
       "output_type": "stream",
       "stream": "stdout",
       "text": [
        "2013/01/22 386\n",
        "2013/01/22 209\n",
        "2013/01/25 312\n",
        "2013/01/25 307\n",
        "2013/01/25 393\n",
        "2013/01/24 353\n",
        "2013/01/25 351\n",
        "2013/01/24 389\n",
        "2013/01/22 286\n"
       ]
      }
     ],
     "prompt_number": 12
    },
    {
     "cell_type": "code",
     "collapsed": false,
     "input": [
      "\n",
      "\n"
     ],
     "language": "python",
     "metadata": {},
     "outputs": []
    }
   ],
   "metadata": {}
  }
 ]
}