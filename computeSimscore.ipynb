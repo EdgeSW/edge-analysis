{
 "metadata": {
  "name": "computeSimscore"
 },
 "nbformat": 3,
 "nbformat_minor": 0,
 "worksheets": [
  {
   "cells": [
    {
     "cell_type": "heading",
     "level": 4,
     "metadata": {},
     "source": [
      "Determine metadata, validity metrics, HMM score and add to Simscore queue"
     ]
    },
    {
     "cell_type": "code",
     "collapsed": false,
     "input": [
      "#Import modules, functions\n",
      "\n",
      "#while True:\n",
      "    #Get a file off the SQS stack using 20sec long poll\n",
      "    \n",
      "    #if file is there,\n",
      "    #Try:\n",
      "        #Pull filename from S3\n",
      "        \n",
      "        #Pull out metadata info\n",
      "        #Compute additional validity metrics\n",
      "        #Compute machine health metrics\n",
      "        \n",
      "        #Given which hand and task it is,\n",
      "            #Score against HMMs in memory\n",
      "            #Append score to jsonSimscore\n",
      "        \n",
      "        #Processing is completed --Add this jsonSimscore to new SQS stack for POST\n",
      "        #If json is DEFINITELY received by new SQS, delete from original Files2Process queue\n",
      "        \n",
      "    #except: print/log exception, then continue (filename will remain on queue)\n",
      "    \n",
      "    #if file is not there,\n",
      "        #Once per day, compare list of S3 files to simpledb list of processed files.\n",
      "        #if S3 contains file not on processing list, add to queue NOW.\n",
      "      \n",
      "        "
     ],
     "language": "python",
     "metadata": {},
     "outputs": []
    },
    {
     "cell_type": "heading",
     "level": 4,
     "metadata": {},
     "source": [
      "Ship to Simscore"
     ]
    },
    {
     "cell_type": "code",
     "collapsed": false,
     "input": [
      "#make a retry loop for posting to simscore (could put this in thread/sep .py)\n",
      "#max_retries is 6\n",
      "#trys = 0\n",
      "#trysleeptimes = [0 1 1 10 20 60]\n",
      "\n",
      "#while True:\n",
      "    #long poll queue containing files to ship to simscore\n",
      "    #if long poll returns file,\n",
      "    \n",
      "        #Parse out jsonSimscore to be sent\n",
      "        \n",
      "        #while trys < max_retries\n",
      "            #if trys < len(trysleeptimes):\n",
      "                #time.sleep(trysleeptimes[trys])\n",
      "            #else: time.sleep(trysleeptimes[-1])\n",
      "                \n",
      "            #POST to simscore\n",
      "            \n",
      "            #if simscore DEFINITELY recieves POST, returns 200, etc:\n",
      "                #delete message from queue.\n",
      "                #trys = \n",
      "                \n",
      "            #else if no response, don't receive 200, simscore down, etc:\n",
      "                #trys += 1\n",
      "            #else if error related to content of post, how post is made, \n",
      "                #log&report error and filename\n",
      "            \n",
      "    #else pass\n",
      "         \n",
      "            \n",
      "    \n",
      "    "
     ],
     "language": "python",
     "metadata": {},
     "outputs": []
    }
   ],
   "metadata": {}
  }
 ]
}