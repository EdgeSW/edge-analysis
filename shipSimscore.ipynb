{
 "metadata": {
  "name": "shipSimscore"
 },
 "nbformat": 3,
 "nbformat_minor": 0,
 "worksheets": [
  {
   "cells": [
    {
     "cell_type": "heading",
     "level": 4,
     "metadata": {},
     "source": [
      "POST computed files to Simscore"
     ]
    },
    {
     "cell_type": "code",
     "collapsed": false,
     "input": [
      "import sys, os\n",
      "sys.path.append('C:\\\\Users\\\\Tyler\\\\.ipython\\\\Simscore-Computing')\n",
      "\n",
      "import boto\n",
      "import json, time\n",
      "from datetime import datetime, timedelta\n",
      "import pycurl\n",
      "import validity_metrics as vm\n",
      "import report.simscore as sim\n",
      "import fetch.mySQS as mySQS\n",
      "import fetch.myS3 as myS3\n",
      "from aws import aws_ak, aws_sk\n",
      "from boto.sqs.message import Message, RawMessage\n",
      "\n",
      "def send_fail(failure, conn): \n",
      "    conn.send_email(source='thartley@simulab.com',\n",
      "        subject='shipSimscore.py Errors', format='html',\n",
      "        body=failure,\n",
      "        to_addresses=['thartley@simulab.com'])\n",
      "    \n",
      "def logit(log, message):\n",
      "    log.write(message)\n",
      "    log.flush()\n",
      "\n",
      "def trysleeptimes(trys):\n",
      "    global sleeptimes\n",
      "    sleeptimes = [0, 1, 10, 100, 200, 1000]\n",
      "    \n",
      "    if trys < len(sleeptimes):\n",
      "        time.sleep(sleeptimes[trys])\n",
      "    else:\n",
      "        time.sleep(sleeptimes[-1])\n",
      "        \n",
      "def queueLeftBehind(theforgotten, q=None):\n",
      "    '''writes list of messages to SQS'''\n",
      "    for f in theforgotten:\n",
      "        mySQS.append_to_queue({'Message': f[:-3]+'log'}, q, raw=True)\n",
      "\n"
     ],
     "language": "python",
     "metadata": {},
     "outputs": [],
     "prompt_number": 20
    },
    {
     "cell_type": "code",
     "collapsed": false,
     "input": [
      "# Open up log file to write pycurl info to\n",
      "log = open (os.getcwd()+'\\\\ShipFails.log', 'a')\n",
      "logit(log, '{0}\\n{1}\\n{2}\\n{0}\\n'.format('*'*26,datetime.now(),'Booting up shipSimscore.py'))\n",
      "\n",
      "# Login to Simscore\n",
      "login = 'http://dev.simscore.md3productions.com/simscores-v1/user/login'\n",
      "c, buf = sim.loginSimscore(address=login)\n",
      "logit(log, 'Login response: '+str(c.getinfo(c.HTTP_CODE))+'\\n'+buf.getvalue()+'\\n')\n",
      "\n",
      "'''Define Connections'''\n",
      "sqs_conn = boto.connect_sqs(aws_ak, aws_sk)\n",
      "q = sqs_conn.get_queue('Files2Ship')\n",
      "comq = sqs_conn.get_queue('EdgeFiles2Process')\n",
      "#Connect to ses\n",
      "ses_conn = boto.connect_ses(aws_ak, aws_sk)\n",
      "#Connect to SimpleDB\n",
      "sdb_conn = boto.connect_sdb(aws_ak, aws_sk)\n",
      "sdb_domain = sdb_conn.get_domain('ProcessedEdgeFiles')\n",
      "\n",
      "\n",
      "last_check = datetime.now()\n",
      "last_big_check = datetime.now()"
     ],
     "language": "python",
     "metadata": {},
     "outputs": [],
     "prompt_number": 2
    },
    {
     "cell_type": "code",
     "collapsed": false,
     "input": [
      "'''Run Eternally'''\n",
      "#while True:\n",
      "\n",
      "#long poll queue containing files to ship to simscore\n",
      "rs = q.read(wait_time_seconds=20)\n",
      "\n",
      "#if long poll returns file,\n",
      "if rs:\n",
      "    #Parse out json to be sent\n",
      "    jsonSimscore = json.loads(rs.get_body())\n",
      "    logit(log, '--------------------\\n%s\\n' %datetime.now())\n",
      "    logit(log,'Read in file '+jsonSimscore['TestID']+' from queue\\n')\n",
      "    print jsonSimscore['TestID']\n",
      "    \n",
      "    trys = 0\n",
      "            \n",
      "    #Login if logincookie is expired\n",
      "    if sim.is_expired_cookie(c):\n",
      "        c, buf = sim.loginSimscore(address=login)\n",
      "    \n",
      "    '''POSTING Retry Logic'''\n",
      "    while True:\n",
      "        #POST to simscore\n",
      "        compute = 'http://dev.simscore.md3productions.com/simscores-v1/machinereport' \n",
      "        pp = sim.RESTfields(address=compute, header=['Content-Type: application/json'], values=json.dumps(jsonSimscore))\n",
      "        c, out = pp.posthttp(c)\n",
      "        http_response = c.getinfo(c.HTTP_CODE)\n",
      "        \n",
      "        #http_response = 100\n",
      "        print http_response; print out.getvalue()\n",
      "        \n",
      "        \n",
      "        #if simscore DEFINITELY recieves POST, returns 200, etc:\n",
      "        if http_response == 200:\n",
      "            logit(log,'Message received - HTTP/1.1:%d \\n'%http_response)\n",
      "            sdb_domain.put_attributes(jsonSimscore['TestID'],{'IsSent':True},replace=False)\n",
      "            \n",
      "            #delete message from queue.\n",
      "            d = q.delete_message(rs)\n",
      "            if d: logit(log,'Messsage deleted from queue\\n')\n",
      "            break\n",
      "            \n",
      "        #else if no response, don't receive 200, simscore down, etc:\n",
      "        elif http_response in range(500,599):\n",
      "            logit(log,'Simscore error, HTTP/1.1:%d, waiting %d seconds\\n%s'%(http_response, sleeptimes[trys], out.getvalue()) )\n",
      "            trysleeptimes(trys)\n",
      "            trys += 1\n",
      "            \n",
      "        #else if error related to content of post, how post is made, \n",
      "        else:\n",
      "            rs.change_visibility(120) #if having local trouble with it, make invisible for 2 min\n",
      "            #log&report error and filename\n",
      "            logit(log, 'Local error, HTTP: '+str(http_response)+'\\n'+out.getvalue()+'\\nSending email...\\n')\n",
      "            \n",
      "            #email me\n",
      "            failmessage = 'Error sending '+jsonSimscore['TestID']+'\\n'+'shipSimscore error: %d\\n\\n%s'%(http_response,out.getvalue())\n",
      "            send_fail(failmessage, ses_conn)\n",
      "            break"
     ],
     "language": "python",
     "metadata": {},
     "outputs": [
      {
       "output_type": "stream",
       "stream": "stdout",
       "text": [
        "edge9/2012/12/11.21.24.10.109.0\n",
        "200"
       ]
      },
      {
       "output_type": "stream",
       "stream": "stdout",
       "text": [
        "\n",
        "{\"mhid\":\"248\",\"trid\":\"249\"}\n"
       ]
      }
     ],
     "prompt_number": 22
    },
    {
     "cell_type": "code",
     "collapsed": false,
     "input": [
      "            \n",
      "#perform check on S3    \n",
      "elif mySQS.approx_total_messages(comq)==0 and datetime.now() > last_big_check+timedelta(seconds=7*24*3600):\n",
      "    last_big_check = datetime.now()\n",
      "    conn = boto.connect_s3(aws_ak, aws_sk)\n",
      "    theforgotten = myS3.getLeftBehind(daysback=30, conn=conn, sdb_domain=sdb_domain)\n",
      "    if len(theforgotten) > 0:\n",
      "        queueLeftBehind(theforgotten, comq)\n",
      "        logit(log,'ERROR: %d files on S3 do not match processed file list.\\nAdded these files to queue:\\n'%len(theforgotten))\n",
      "        for f in theforgotten: logit(log,'%s\\n'%f)\n",
      "\n",
      "elif mySQS.approx_total_messages(comq)==0 and datetime.now() > last_check+timedelta(seconds=24*3600):\n",
      "    last_check = datetime.now()\n",
      "    conn = boto.connect_s3(aws_ak, aws_sk)\n",
      "    theforgotten = myS3.getLeftBehind(daysback=7, conn=conn, sdb_domain=sdb_domain)\n",
      "    if len(theforgotten) > 0:\n",
      "        queueLeftBehind(theforgotten, comq)\n",
      "        logit(log,'ERROR: %d files on S3 do not match processed file list.\\nAdded these files to queue:\\n'%len(theforgotten))\n",
      "        for f in theforgotten: logit(log,'%s\\n'%f)"
     ],
     "language": "python",
     "metadata": {},
     "outputs": []
    },
    {
     "cell_type": "heading",
     "level": 3,
     "metadata": {},
     "source": [
      "Unit Tests"
     ]
    },
    {
     "cell_type": "code",
     "collapsed": false,
     "input": [
      "\n",
      "%load_ext autoreload\n",
      "%autoreload 2\n",
      "comq.clear()\n",
      "q.clear()\n",
      "print mySQS.approx_total_messages(comq)\n",
      "if mySQS.approx_total_messages(comq)==0 and datetime.now() > last_check+timedelta(seconds=5):\n",
      "    print 'processing'\n",
      "    last_check = datetime.now()\n",
      "    conn = boto.connect_s3(aws_ak, aws_sk)\n",
      "    theforgotten = myS3.getLeftBehind(daysback=5, conn=conn, sdb_domain=sdb_domain)\n",
      "    print theforgotten\n",
      "    \n",
      "    if len(theforgotten) > 0:\n",
      "        queueLeftBehind(theforgotten, comq)\n",
      "        logit(log,'ERROR: %d files on S3 do not match processed file list.\\nAdded these files to queue:\\n'%len(theforgotten))\n",
      "        for f in theforgotten: logit(log,'%s\\n'%f)\n",
      "    "
     ],
     "language": "python",
     "metadata": {},
     "outputs": [
      {
       "output_type": "stream",
       "stream": "stdout",
       "text": [
        "0\n",
        "processing"
       ]
      },
      {
       "output_type": "stream",
       "stream": "stdout",
       "text": [
        "\n",
        "['edge6/2012/12/07.18.30.47.345.3.txt', 'edge7/2012/12/07.15.37.27.109.2.txt', 'edge7/2012/12/07.15.42.40.109.3.txt', 'edge7/2012/12/07.16.17.59.109.3.txt', 'edge7/2012/12/07.16.19.36.109.1.txt', 'edge7/2012/12/07.16.20.08.109.0.txt', 'edge7/2012/12/07.18.56.25.109.0.txt', 'edge7/2012/12/07.18.56.55.109.0.txt', 'edge7/2012/12/07.18.57.22.109.0.txt', 'edge7/2012/12/07.18.57.56.109.1.txt', 'edge7/2012/12/07.18.59.38.109.3.txt', 'edge7/2012/12/07.19.01.29.109.2.txt', 'edge8/2012/12/07.16.42.34.297.2.txt', 'edge8/2012/12/07.16.46.42.297.2.txt', 'edge8/2012/12/07.17.55.16.297.2.txt', 'edge8/2012/12/07.18.01.23.297.2.txt', 'edge8/2012/12/07.19.36.57.357.0.txt', 'edge8/2012/12/07.19.40.03.357.0.txt', 'edge8/2012/12/07.19.45.40.357.1.txt', 'edge8/2012/12/07.19.53.03.357.2.txt', 'edge8/2012/12/07.19.54.31.357.2.txt', 'edge8/2012/12/07.20.38.27.358.0.txt', 'edge8/2012/12/07.20.43.45.358.0.txt', 'edge8/2012/12/07.20.50.39.358.1.txt', 'edge8/2012/12/07.20.57.25.358.1.txt', 'edge8/2012/12/07.21.04.17.358.2.txt', 'edge8/2012/12/07.21.13.01.358.2.txt', 'edge8/2012/12/07.21.19.21.358.2.txt', 'edge8/2012/12/07.21.19.31.358.2.txt']"
       ]
      },
      {
       "output_type": "stream",
       "stream": "stdout",
       "text": [
        "\n"
       ]
      }
     ],
     "prompt_number": 26
    },
    {
     "cell_type": "code",
     "collapsed": false,
     "input": [
      "rs = q.read(wait_time_seconds=20)\n",
      "jsonSimscore = json.loads(rs.get_body())"
     ],
     "language": "python",
     "metadata": {},
     "outputs": [],
     "prompt_number": 16
    },
    {
     "cell_type": "code",
     "collapsed": false,
     "input": [
      "print jsonSimscore"
     ],
     "language": "python",
     "metadata": {},
     "outputs": [
      {
       "output_type": "stream",
       "stream": "stdout",
       "text": [
        "{u'Continuous': u'clear', u'FailTypes': [u'OutOfRange'], u'OutOfRange': [u'Fg_L', u'Fg_R'], u'DeadSensors': [], u'Score': None, u'LToolID': u'C0000016', u'VideoFileExists': u'error', u'NaNSensors': [], u'VideoDataFilename': u'edge9/2012/12/11.21.24.10.109.0.mp4', u'BadFramesCount': 0, u'LinEncDriftValue': {u'right': -0.016, u'left': 0.25}, u'ProctorValues': {u'NonMidAirTransferBetweenHands': False, u'DroppedOutsideTaskRegion': False, u'InstrumentLeftFieldOfView': False, u'NumberDropped': 0}, u'TestDataFilename': u'edge9/2012/12/11.21.24.10.109.0.txt', u'TaskType': 0, u'TestLengthCheck': u'clear', u'TestLength': 24.27, u'LastCalibration': u'2012-05-30 15:10:25.307', u'ToolTipDrift': {u'right': u'clear', u'left': u'clear'}, u'RToolID': u'80000009', u'UserID': u'109', u'BadFrames': u'clear', u'ToolTipDriftValue': {u'right': {u'y': -0.011, u'x': -0.103, u'z': 0.186}, u'left': {u'y': 0.221, u'x': 0.045, u'z': -0.853}}, u'TestID': u'edge9/2012/12/11.21.24.10.109.0', u'MinMax': {u'J1_R': {u'max': 51.528, u'min': 1.456}, u'Z_R': {u'max': 13.48, u'min': -2.038}, u'ThG_L': {u'max': 15.752, u'min': -11.189}, u'Lin_L': {u'max': 4.036, u'min': -2.007}, u'%Time_V1': {u'max': 24.109, u'min': 0.052}, u'J2_R': {u'max': -1.139, u'min': -49.683}, u'Fg_L': {u'max': 54.539, u'min': -3.094}, u'X_L': {u'max': 0.326, u'min': -8.154}, u'Y_R': {u'max': 3.945, u'min': -3.588}, u'Rot_L': {u'max': -72.792, u'min': -181.296}, u'Rot_R': {u'max': -153.72, u'min': -272.376}, u'Y_L': {u'max': 3.458, u'min': -3.097}, u'X_R': {u'max': 7.502, u'min': -0.013}, u'Fg_R': {u'max': 41.731, u'min': -1.987}, u'J2_L': {u'max': -0.142, u'min': -47.468}, u'Lin_R': {u'max': 4.092, u'min': -2.987}, u'Z_L': {u'max': 13.794, u'min': -1.233}, u'ThG_R': {u'max': 1.619, u'min': -18.991}, u'J1_L': {u'max': 49.148, u'min': -0.284}}, u'EdgeID': u'9', u'MetadataFilename': u'edge9/2012/12/11.21.24.10.109.0.log', u'SwVersion': u'1.7.0.0', u'ProctorID': u'0', u'IsPractice': True, u'UploadDate': u'2012-12-11 21:24:10', u'UploadDateUnix': 1355289850, u'ProctorValuesCheck': u'clear', u'LinEncDrift': {u'right': u'clear', u'left': u'clear'}}\n"
       ]
      }
     ],
     "prompt_number": 17
    },
    {
     "cell_type": "code",
     "collapsed": false,
     "input": [],
     "language": "python",
     "metadata": {},
     "outputs": []
    }
   ],
   "metadata": {}
  }
 ]
}