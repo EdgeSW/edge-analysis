{
 "metadata": {
  "name": "computeSimscore"
 },
 "nbformat": 3,
 "nbformat_minor": 0,
 "worksheets": [
  {
   "cells": [
    {
     "cell_type": "heading",
     "level": 4,
     "metadata": {},
     "source": [
      "Determine metadata, validity metrics, HMM score and add to Simscore queue"
     ]
    },
    {
     "cell_type": "code",
     "collapsed": false,
     "input": [
      "import sys, os\n",
      "#sys.path.append('C:\\\\Users\\\\Tyler\\\\.ipython\\\\Simscore-Computing')\n",
      "import boto, time, json, pprint\n",
      "from datetime import datetime\n",
      "import numpy as np\n",
      "\n",
      "import scoring\n",
      "import fetch.myS3 as myS3\n",
      "import fetch.mySQS as mySQS\n",
      "import validity_metrics as vm\n",
      "from aws import aws_ak, aws_sk\n",
      "from boto.sqs.message import Message\n"
     ],
     "language": "python",
     "metadata": {},
     "outputs": [],
     "prompt_number": 15
    },
    {
     "cell_type": "code",
     "collapsed": false,
     "input": [
      "def send_fail(failure, conn): \n",
      "    conn.send_email(source='thartley@simulab.com',\n",
      "        subject='computeSimscore.py Errors', format='html',\n",
      "        body=failure, to_addresses=['thartley@simulab.com'])\n",
      "    \n",
      "def logit(log, message):\n",
      "    log.write(message)\n",
      "    log.flush()\n",
      "    \n",
      "def add_file_sdb(domain, meta):\n",
      "    attrs = {'IsProcessed':True, 'IsSent':False, 'UploadDateUnix':meta['UploadDateUnix'], 'UploadDate':meta['UploadDate']\n",
      "            ,'Score':meta['Score'], 'FailTypes':json.dumps(meta['FailTypes'])\n",
      "            , 'IsPractice':meta['IsPractice'], 'UserID':meta['UserID'], 'RToolID': meta['RToolID'] , 'LToolID': meta['LToolID']}\n",
      "    return domain.put_attributes(meta['TestID'],attrs)\n"
     ],
     "language": "python",
     "metadata": {},
     "outputs": [],
     "prompt_number": 11
    },
    {
     "cell_type": "code",
     "collapsed": false,
     "input": [
      "'''Define Connections'''\n",
      "#connect to S3\n",
      "conn = boto.connect_s3(aws_ak, aws_sk)\n",
      "bucket = conn.get_bucket('incoming-simscore-org')\n",
      "#Connect to sqs\n",
      "sqs_conn = boto.connect_sqs(aws_ak, aws_sk)\n",
      "q = sqs_conn.get_queue('EdgeFiles2Process')\n",
      "q.set_message_class(boto.sqs.message.RawMessage)\n",
      "shipq = sqs_conn.get_queue('Files2Ship')\n",
      "#Connect to ses\n",
      "ses_conn = boto.connect_ses(aws_ak, aws_sk)\n",
      "#Connect to SimpleDB\n",
      "sdb_conn = boto.connect_sdb(aws_ak, aws_sk)\n",
      "sdb_domain = sdb_conn.get_domain('ProcessedEdgeFiles')\n",
      "\n",
      "#Load in codebooks, hmms:\n"
     ],
     "language": "python",
     "metadata": {},
     "outputs": [],
     "prompt_number": 12
    },
    {
     "cell_type": "code",
     "collapsed": false,
     "input": [
      "def main():  \n",
      "    \n",
      "    #Get a file off the SQS stack using 20sec long poll\n",
      "    rs = q.read(wait_time_seconds=20)\n",
      "    \n",
      "    #if there's a file in the queue,\n",
      "    if rs:\n",
      "        '''Compute all metrics'''\n",
      "        try:\n",
      "            #Pull filename from S3\n",
      "            filename = mySQS.get_sqs_filename(rs) #'edge6/2012/11/05.18.46.23.340.0.txt'\n",
      "            data, meta = myS3.getData(bucket, filename, labeled=True)\n",
      "            logit(log,'{0}\\n{1}\\nProcessing {2}\\n'.format('-'*20,datetime.now(),filename) )\n",
      "            \n",
      "            '''Where the magic happens'''\n",
      "            #Compute Summary Metrics\n",
      "            jsonSimscore = vm.summary_metrics(meta, data, conn)\n",
      "            jsonSimscore = vm.data_metrics_append(jsonSimscore, data, filename)\n",
      "            jsonSimscore = vm.machine_health_append(jsonSimscore, meta, data)\n",
      "            #Score data\n",
      "            jsonSimscore.update({'Score': scoring.score_test(data, meta)} )\n",
      "            \n",
      "            #Processing is completed --Add this jsonSimscore to new SQS stack for POST\n",
      "            jsonSimscore = vm.round_dict(jsonSimscore,3)\n",
      "            logit(log,'Successfully processed.\\n'); print 'Successfully processed.'\n",
      "            \n",
      "        except Exception as err:\n",
      "            #make more invisible, print/log exception, email me, then continue\n",
      "            #rs.change_visibility(5*60)\n",
      "            logit(log,'ERROR: %s - %s\\n'%(filename, str(err)) )\n",
      "            if filename == None: filename = 'Unknown'\n",
      "            send_fail('Error computing {0}. computeSimscore.py error: {1}.'.format(filename, err), ses_conn)\n",
      "            raise #remove, replace with continue\n",
      "            \n",
      "        '''Add to queue for shipSimscore'''\n",
      "        try:\n",
      "            receipt = mySQS.append_to_queue(jsonSimscore, shipq, raw=False)\n",
      "            assert receipt, \"Could not write to queue\"    \n",
      "            #If json is DEFINITELY received by new SQS, delete from original Files2Process queue\n",
      "            d = q.delete_message(rs)\n",
      "            \n",
      "            assert d, \"Could not delete from queue\"\n",
      "            logit(log, 'Deleted from queue\\n'); print 'Deleted %s from queue' %filename\n",
      "                        \n",
      "            s = add_file_sdb(sdb_domain, jsonSimscore)\n",
      "            assert s, \"SimpleDB not updated\"\n",
      "            logit(log, \"Updated SimpleDB\\n\")\n",
      "            \n",
      "        except Exception as err:\n",
      "            rs.change_visibility(5*60)\n",
      "            logit(log, 'ERROR: %s\\n'%str(err) )\n",
      "            send_fail('Error sending {0}. computeSimscore.py error: {1}.'.format(filename, err), ses_conn)    \n",
      "          \n",
      "    return rs"
     ],
     "language": "python",
     "metadata": {},
     "outputs": [],
     "prompt_number": 14
    },
    {
     "cell_type": "code",
     "collapsed": false,
     "input": [
      "if __name__ == \"__main__\":\n",
      "    # Open up log file to write pycurl info to\n",
      "    #log = open (os.getcwd()+'\\\\ComputeFails.log', 'a')\n",
      "    log = open ('/home/ubuntu/logs/ComputeFails.log', 'a')\n",
      "    logit(log,'{0}\\n{1}\\n{2}\\n{0}\\n'.format('*'*26,datetime.now(),'Booting up computeSimscore.py'))\n",
      "    \n",
      "    '''Run Eternally'''\n",
      "    rs = True\n",
      "    while rs: #replace with while True to run eternally\n",
      "        rs = main()\n",
      "        "
     ],
     "language": "python",
     "metadata": {},
     "outputs": []
    }
   ],
   "metadata": {}
  }
 ]
}