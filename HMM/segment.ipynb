{
 "metadata": {
  "name": "segment"
 },
 "nbformat": 3,
 "nbformat_minor": 0,
 "worksheets": [
  {
   "cells": [
    {
     "cell_type": "raw",
     "metadata": {},
     "source": [
      "Tim's Thresholds:\n",
      "#GrspVarTh{PegTx}    = [ 3 3   3 3    1];   %{Qo Qc Fo Fc Tth];\n",
      "#GrspVarTh{Suturing} = [ 4 3   3 3    .1];  %{Qo Qc Fo Fc Tth]; \n",
      "#GrspVarTh{Cutting}  = [ 3 3  1.5 1.5 .5];  %{Qo Qc Fo Fc Tth]; "
     ]
    },
    {
     "cell_type": "code",
     "collapsed": false,
     "input": [
      "import numpy as np\n",
      "import json, sys\n",
      "sys.path.append('C:\\\\Users\\\\Tyler\\\\.ipython\\\\edge-analysis')"
     ],
     "language": "python",
     "metadata": {},
     "outputs": [],
     "prompt_number": 1
    },
    {
     "cell_type": "code",
     "collapsed": false,
     "input": [
      "fg_thresholds = {'suturing': (1.5, 0.1*30), 'cutting': (3, 0.5*30), 'pegtransfer': (3, 1*30)} \n"
     ],
     "language": "python",
     "metadata": {},
     "outputs": [],
     "prompt_number": 2
    },
    {
     "cell_type": "heading",
     "level": 3,
     "metadata": {},
     "source": [
      "Segmentation By Fg"
     ]
    },
    {
     "cell_type": "code",
     "collapsed": false,
     "input": [
      "def getSplitIdxs(force, task, thresholds):\n",
      "    '''Given a vector (could be Fg, Qg, etc), returns the indexes of when vector is greater than the \n",
      "the threshold defined for that task in thresholds. Returns segidx_list as list of \n",
      "separated np.arrays for each separate force>thresh segment.'''\n",
      "    #Determine the indexes where force is greater than threshold, segment\n",
      "    idxs_above_thresh = (force > thresholds[task][0]).nonzero()[0]\n",
      "    cuts = (np.diff(idxs_above_thresh) > 1).nonzero()[0] + 1\n",
      "    segidx_list = np.split(idxs_above_thresh, cuts)\n",
      "    \n",
      "    #Remove segment if shorter than time threshold\n",
      "    for i in range(len(segidx_list)-1, -1, -1):#count backwards to avoid IndexError\n",
      "        if len(segidx_list[i]) <= thresholds[task][1]:\n",
      "            segidx_list.pop(i)\n",
      "    return segidx_list\n",
      "\n",
      "\n",
      "\n",
      "def pullSegments(features, segidx_list):\n",
      "    '''given a list of np.arrays containing indexes of desired data, splits\n",
      "features into a list of arrays as well, returning all columns. \n",
      "EXAMPLE: segidx_list = [[3,4,5,6],[10,11,12],[30,31,32]...]\n",
      "         returns: [features[[3,4,5,6],:],features[[10,11,12],:],...] \n",
      "    '''\n",
      "    return [features[seg,:] for seg in segidx_list]"
     ],
     "language": "python",
     "metadata": {},
     "outputs": []
    },
    {
     "cell_type": "code",
     "collapsed": false,
     "input": [
      "def segmentFeatures(features, task, idx_of_feat_used_to_thresh, thresholds):\n",
      "    '''wrapper/combination for getSplitIdxs and pullSegments'''\n",
      "    segidx_list = getSplitIdxs(features[:, idx_of_feat_used_to_thresh], task, thresholds)\n",
      "    return pullSegments(features, segidx_list)\n",
      "\n",
      "\n",
      "def segmentDictOfTests(feat_dict, task, idx_to_thresh, thresholds=fg_thresholds):\n",
      "    '''performs segmentFeatures for a list of Tests, returning a \n",
      "dictionary with same keys as input dict'''\n",
      "    seg_data_by_force = {}\n",
      "    for k, v in feat_dict.iteritems():\n",
      "        seg_data_by_force[k] = segmentFeatures(v, task, idx_to_thresh, thresholds)\n",
      "    return seg_data_by_force\n",
      "\n",
      "\n",
      "def segmentDictOfTestsAsList(feat_dict, task, idx_to_thresh, thresholds=fg_thresholds):\n",
      "    '''performs segmentFeatures for a list of Tests, returning a list of segs'''\n",
      "    list_to_return = []\n",
      "    for k, v in feat_dict.iteritems():\n",
      "        for item in segmentFeatures(v, task, idx_to_thresh, thresholds): list_to_return.append(item)\n",
      "        #list_to_return.append([segment for segment in segmentFeatures(v, task, idx_to_thresh, thresholds)])\n",
      "    return list_to_return\n",
      "    #return [segmentFeatures(v, task, idx_to_thresh, thresholds) for k, v in feat_dict.iteritems()]\n"
     ],
     "language": "python",
     "metadata": {},
     "outputs": [],
     "prompt_number": 3
    },
    {
     "cell_type": "code",
     "collapsed": false,
     "input": [],
     "language": "python",
     "metadata": {},
     "outputs": []
    }
   ],
   "metadata": {}
  }
 ]
}