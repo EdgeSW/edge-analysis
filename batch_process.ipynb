{
 "metadata": {
  "name": "batch_process"
 },
 "nbformat": 3,
 "nbformat_minor": 0,
 "worksheets": [
  {
   "cells": [
    {
     "cell_type": "code",
     "collapsed": false,
     "input": [
      "import sys, os\n",
      "sys.path.append('C:\\\\Users\\\\Tyler\\\\.ipython\\\\Simscore-Computing')\n",
      "import boto, time, json, pprint\n",
      "from datetime import datetime, timedelta\n",
      "import numpy as np\n",
      "\n",
      "import scoring\n",
      "import fetch.myS3 as myS3\n",
      "import fetch.mySQS as mySQS\n",
      "import validity_metrics as vm\n",
      "from aws import aws_ak, aws_sk\n",
      "from boto.sqs.message import Message\n"
     ],
     "language": "python",
     "metadata": {},
     "outputs": [],
     "prompt_number": 1
    },
    {
     "cell_type": "code",
     "collapsed": false,
     "input": [
      "'''Define Connections'''\n",
      "sqs_conn = boto.connect_sqs(aws_ak, aws_sk)\n",
      "q = sqs_conn.get_queue('Files2Ship')\n",
      "comq = sqs_conn.get_queue('EdgeFiles2Process')\n",
      "#Connect to ses\n",
      "ses_conn = boto.connect_ses(aws_ak, aws_sk)\n",
      "#Connect to SimpleDB\n",
      "sdb_conn = boto.connect_sdb(aws_ak, aws_sk)\n",
      "sdb_domain = sdb_conn.get_domain('ProcessedEdgeFiles')"
     ],
     "language": "python",
     "metadata": {},
     "outputs": [],
     "prompt_number": 2
    },
    {
     "cell_type": "code",
     "collapsed": false,
     "input": [
      "print mySQS.approx_total_messages(comq)\n",
      "if mySQS.approx_total_messages(comq)==0:\n",
      "    \n",
      "    print 'processing'\n",
      "    conn = boto.connect_s3(aws_ak, aws_sk)\n",
      "    bucket = conn.get_bucket('incoming-simscore-org')\n",
      "    theforgotten = myS3.getLeftBehind(daysback=7, conn=conn, sdb_domain=sdb_domain)\n",
      "    print theforgotten\n",
      "    \n",
      "    if len(theforgotten) > 0:\n",
      "        mySQS.append_list_to_queue(theforgotten, comq)\n"
     ],
     "language": "python",
     "metadata": {},
     "outputs": [
      {
       "output_type": "stream",
       "stream": "stdout",
       "text": [
        "0\n",
        "processing"
       ]
      },
      {
       "output_type": "stream",
       "stream": "stdout",
       "text": [
        "\n",
        "['edge1/2013/01/04.20.30.56.241.0.txt', 'edge1/2013/01/04.20.31.23.241.0.txt', 'edge1/2013/01/04.20.33.37.241.0.txt', 'edge1/2013/01/04.20.40.40.241.1.txt', 'edge1/2013/01/04.20.41.16.241.1.txt', 'edge1/2013/01/04.20.45.45.241.1.txt', 'edge1/2013/01/04.20.48.12.241.1.txt', 'edge1/2013/01/04.20.57.14.241.3.txt', 'edge10/2012/12/31.18.57.17.353.0.txt', 'edge10/2012/12/31.19.01.29.353.0.txt', 'edge10/2012/12/31.19.08.59.353.1.txt', 'edge10/2012/12/31.19.14.26.353.1.txt', 'edge10/2012/12/31.19.26.08.353.3.txt', 'edge10/2012/12/31.19.31.48.353.2.txt', 'edge10/2012/12/31.19.37.57.353.2.txt', 'edge10/2012/12/31.19.40.48.353.2.txt', 'edge10/2012/12/31.19.42.59.353.2.txt', 'edge10/2013/01/02.16.47.47.286.2.txt', 'edge10/2013/01/02.21.00.01.352.0.txt', 'edge10/2013/01/02.21.05.25.352.0.txt', 'edge10/2013/01/02.21.14.14.352.1.txt', 'edge10/2013/01/02.21.28.42.352.1.txt', 'edge10/2013/01/02.21.44.19.352.3.txt', 'edge10/2013/01/02.21.58.03.352.2.txt', 'edge10/2013/01/02.22.05.34.352.2.txt', 'edge2/2013/01/03.19.39.02.371.0.txt', 'edge2/2013/01/03.19.40.56.371.0.txt', 'edge2/2013/01/03.19.42.29.371.0.txt', 'edge2/2013/01/03.19.52.06.371.0.txt', 'edge2/2013/01/03.19.59.05.371.1.txt', 'edge2/2013/01/03.20.00.22.371.1.txt', 'edge2/2013/01/03.20.08.32.371.1.txt', 'edge2/2013/01/03.20.11.26.371.1.txt', 'edge2/2013/01/03.20.18.59.371.3.txt', 'edge2/2013/01/03.20.24.08.371.3.txt', 'edge2/2013/01/03.20.45.27.371.2.txt']"
       ]
      },
      {
       "output_type": "stream",
       "stream": "stdout",
       "text": [
        "\n"
       ]
      }
     ],
     "prompt_number": 3
    },
    {
     "cell_type": "code",
     "collapsed": false,
     "input": [
      "if mySQS.approx_total_messages(comq)==0:\n",
      "    print 'processing'\n",
      "    conn = boto.connect_s3(aws_ak, aws_sk)\n",
      "    bucket = conn.get_bucket('incoming-simscore-org')\n",
      "    \n",
      "    t0 = datetime.now()-timedelta(days=3) #138\n",
      "    filelist = myS3.getFilesBetween(mindate=t0, maxdate=datetime.now(), bucket=bucket, onlyTxtFiles=True)\n",
      "    #filelist =  ['edge11/2013/01/07.18.32.15.109.0.txt','edge7/2013/01/07.16.59.48.370.2.txt','edge11/2013/01/04.21.36.02.109.0.txt']\n",
      "    print len(filelist), filelist\n",
      "    \n",
      "    if len(filelist) > 0:\n",
      "        mySQS.append_list_to_queue(filelist, comq)\n",
      "     "
     ],
     "language": "python",
     "metadata": {},
     "outputs": [
      {
       "output_type": "stream",
       "stream": "stdout",
       "text": [
        "processing\n",
        "10"
       ]
      },
      {
       "output_type": "stream",
       "stream": "stdout",
       "text": [
        " ['edge7/2013/01/07.16.06.36.370.0.txt', 'edge7/2013/01/07.16.11.12.370.0.txt', 'edge7/2013/01/07.16.12.10.370.0.txt', 'edge7/2013/01/07.16.21.00.370.1.txt', 'edge7/2013/01/07.16.26.27.370.1.txt', 'edge7/2013/01/07.16.39.49.370.3.txt', 'edge7/2013/01/07.16.44.42.370.3.txt', 'edge7/2013/01/07.16.59.48.370.2.txt', 'edge7/2013/01/07.17.04.56.370.2.txt', 'edge7/2013/01/07.17.11.05.370.2.txt']\n"
       ]
      }
     ],
     "prompt_number": 3
    },
    {
     "cell_type": "code",
     "collapsed": false,
     "input": [
      "files = myS3.getLeftBehind(8, conn, sdb_domain)\n",
      "print files"
     ],
     "language": "python",
     "metadata": {},
     "outputs": [
      {
       "output_type": "stream",
       "stream": "stdout",
       "text": [
        "['edge11/2013/01/04.21.36.02.109.0.txt']\n"
       ]
      }
     ],
     "prompt_number": 12
    },
    {
     "cell_type": "code",
     "collapsed": false,
     "input": [
      "comq.clear()"
     ],
     "language": "python",
     "metadata": {},
     "outputs": [
      {
       "output_type": "pyout",
       "prompt_number": 10,
       "text": [
        "0"
       ]
      }
     ],
     "prompt_number": 10
    },
    {
     "cell_type": "code",
     "collapsed": false,
     "input": [],
     "language": "python",
     "metadata": {},
     "outputs": []
    }
   ],
   "metadata": {}
  }
 ]
}