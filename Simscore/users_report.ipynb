{
 "metadata": {
  "name": "users_report"
 },
 "nbformat": 3,
 "nbformat_minor": 0,
 "worksheets": [
  {
   "cells": [
    {
     "cell_type": "code",
     "collapsed": false,
     "input": [
      "import sys, os\n",
      "sys.path.append('C:\\\\Users\\\\Tyler\\\\.ipython\\\\edge-analysis')\n",
      "import boto, time, json, pprint\n",
      "from datetime import datetime, timedelta\n",
      "import numpy as np\n",
      "\n",
      "import fetch.myS3 as myS3\n",
      "import fetch.mySQS as mySQS\n",
      "import Simscore.validity_metrics as vm\n",
      "from fetch.aws import aws_ak, aws_sk\n"
     ],
     "language": "python",
     "metadata": {},
     "outputs": [],
     "prompt_number": 1
    },
    {
     "cell_type": "code",
     "collapsed": false,
     "input": [
      "conn = boto.connect_s3(aws_ak, aws_sk)\n",
      "bucket = conn.get_bucket('incoming-simscore-org')\n",
      "mind = mindate=datetime.utcnow()-timedelta(days=6)\n",
      "print mind, datetime.utcnow()\n",
      "allfiles = myS3.getFilesBetween(mindate=mind, bucket=bucket, onlyTxtFiles=True)"
     ],
     "language": "python",
     "metadata": {},
     "outputs": [
      {
       "output_type": "stream",
       "stream": "stdout",
       "text": [
        "2013-01-26 19:52:19.452000 2013-02-01 19:52:19.452000\n"
       ]
      }
     ],
     "prompt_number": 2
    },
    {
     "cell_type": "code",
     "collapsed": false,
     "input": [
      "userfiles = []\n",
      "for f in allfiles:\n",
      "    edge = f.split('/')[0][4:]\n",
      "    if f.split('.')[-3] != '109' and edge not in ['0','11','12']:\n",
      "        userfiles.append(f)\n",
      "        \n",
      "ffs = myS3.getTestFiles(userfiles, bucket) \n",
      "print ffs"
     ],
     "language": "python",
     "metadata": {},
     "outputs": [
      {
       "output_type": "stream",
       "stream": "stdout",
       "text": [
        "['edge6/2013/01/30.21.35.38.325.0.txt', 'edge6/2013/01/30.21.41.44.325.1.txt', 'edge6/2013/01/30.21.55.54.325.2.txt', 'edge6/2013/01/30.22.50.23.312.0.txt', 'edge6/2013/01/31.00.20.01.392.0.txt', 'edge6/2013/01/31.00.20.26.392.0.txt', 'edge6/2013/01/31.00.30.19.392.1.txt', 'edge6/2013/01/31.00.42.06.392.3.txt', 'edge6/2013/01/31.00.50.47.392.2.txt']\n"
       ]
      }
     ],
     "prompt_number": 3
    },
    {
     "cell_type": "code",
     "collapsed": false,
     "input": [
      "report = {}\n",
      "tasks = ['PegTx','Cutting','Suturing','ClipApply']\n",
      "%load_ext autoreload\n",
      "%autoreload\n",
      "\n",
      "for f in ffs:\n",
      "    print f\n",
      "    uid = f.split('.')[-3]\n",
      "    task = int(f.split('.')[-2])\n",
      "    if not report.get(uid, False): report[uid] = {'Summary':[0,0,0,0], tasks[0]:[], tasks[1]:[], tasks[2]:[], tasks[3]:[]}\n",
      "    \n",
      "    data, meta = myS3.getData(bucket, f, labeled=True)\n",
      "    #Compute Summary Metrics\n",
      "    jsonSimscore = vm.summary_metrics(meta, data, conn)\n",
      "    jsonSimscore = vm.data_metrics_append(jsonSimscore, data, f)\n",
      "    jsonSimscore = vm.machine_health_append(jsonSimscore, meta, data)\n",
      "    failtypes = jsonSimscore['FailTypes']\n",
      "    \n",
      "    report[uid]['Summary'][task] += 1\n",
      "    report[uid][tasks[task]].append([f, failtypes])\n",
      "        "
     ],
     "language": "python",
     "metadata": {},
     "outputs": [
      {
       "output_type": "stream",
       "stream": "stdout",
       "text": [
        "edge6/2013/01/30.21.35.38.325.0.txt\n",
        "edge6/2013/01/30.21.41.44.325.1.txt"
       ]
      },
      {
       "output_type": "stream",
       "stream": "stdout",
       "text": [
        "\n",
        "edge6/2013/01/30.21.55.54.325.2.txt"
       ]
      },
      {
       "output_type": "stream",
       "stream": "stdout",
       "text": [
        "\n",
        "edge6/2013/01/30.22.50.23.312.0.txt"
       ]
      },
      {
       "output_type": "stream",
       "stream": "stdout",
       "text": [
        "\n",
        "edge6/2013/01/31.00.20.01.392.0.txt"
       ]
      },
      {
       "output_type": "stream",
       "stream": "stdout",
       "text": [
        "\n",
        "edge6/2013/01/31.00.20.26.392.0.txt"
       ]
      },
      {
       "output_type": "stream",
       "stream": "stdout",
       "text": [
        "\n",
        "edge6/2013/01/31.00.30.19.392.1.txt"
       ]
      },
      {
       "output_type": "stream",
       "stream": "stdout",
       "text": [
        "\n",
        "edge6/2013/01/31.00.42.06.392.3.txt"
       ]
      },
      {
       "output_type": "stream",
       "stream": "stdout",
       "text": [
        "\n",
        "edge6/2013/01/31.00.50.47.392.2.txt"
       ]
      },
      {
       "output_type": "stream",
       "stream": "stdout",
       "text": [
        "\n"
       ]
      }
     ],
     "prompt_number": 4
    },
    {
     "cell_type": "code",
     "collapsed": false,
     "input": [
      "import json\n",
      "from openpyxl.workbook import Workbook\n",
      "from openpyxl.writer.excel import ExcelWriter\n",
      "\n",
      "from openpyxl.cell import get_column_letter\n",
      "\n",
      "wb = Workbook()\n",
      "dest_filename = r'User_Report.xlsx'\n",
      "ws = wb.worksheets[0]\n",
      "ws.title = \"User Report\"\n",
      "\n",
      "tasks = ['PegTx','Cutting','Suturing','ClipApply']\n",
      "i = 1\n",
      "url = 'http://simscore.org/browse_simscore/show?bucket=incoming-simscore-org&path=/'\n",
      "for u in report:\n",
      "    ws.append([int(u), 'Tasks','Files','FailTypes','Links','Check'])\n",
      "    for task in tasks:\n",
      "        if report[u][task]: \n",
      "            for test in report[u][task]:\n",
      "                ws.append(['', task, test[0], json.dumps(test[1]), url+test[0]])\n",
      "        else:\n",
      "            ws.append(['', task])\n",
      "            \n",
      "    ws.append(['', 'Tests:', json.dumps(report[u]['Summary']) ])\n",
      "    ws.append(['', 'Needs:'])\n",
      "    ws.append(['', 'Redo:'])\n",
      "    ws.append(['', 'SUMMARY:'])\n",
      "    ws.append([''])\n",
      "    \n",
      "\n",
      "\n",
      "\n",
      "wb.save(filename = dest_filename)"
     ],
     "language": "python",
     "metadata": {},
     "outputs": [],
     "prompt_number": 5
    },
    {
     "cell_type": "code",
     "collapsed": false,
     "input": [
      "for k in report.keys():\n",
      "    try: \n",
      "        filename = report[k]['PegTx'][0][0]\n",
      "        print filename.split('/')[1]+'/'+filename.split('/')[2]+'/'+filename.split('/')[3].split('.')[0], filename.split('.')[-3]\n",
      "        continue\n",
      "    except: pass\n",
      "    try: \n",
      "        filename = report[k]['Cutting'][0][0]\n",
      "        print filename.split('/')[1]+'/'+filename.split('/')[2]+'/'+filename.split('/')[3].split('.')[0], filename.split('.')[-3]\n",
      "        continue\n",
      "    except:pass\n",
      "    try: \n",
      "        filename = report[k]['Suturing'][0][0]\n",
      "        print filename.split('/')[1]+'/'+filename.split('/')[2]+'/'+filename.split('/')[3].split('.')[0], filename.split('.')[-3]\n",
      "        continue\n",
      "    except:pass\n",
      "    try: \n",
      "        filename = report[k]['ClipApply'][0][0]\n",
      "        print filename.split('/')[1]+'/'+filename.split('/')[2]+'/'+filename.split('/')[3].split('.')[0], filename.split('.')[-3]\n",
      "        continue\n",
      "    except: raise ValueError, 'somebody had no tests, wtf mate'\n",
      "    \n",
      "    "
     ],
     "language": "python",
     "metadata": {},
     "outputs": [
      {
       "output_type": "stream",
       "stream": "stdout",
       "text": [
        "2013/01/31 392\n",
        "2013/01/30 312\n",
        "2013/01/30 325\n"
       ]
      }
     ],
     "prompt_number": 6
    },
    {
     "cell_type": "code",
     "collapsed": false,
     "input": [
      "\n",
      "\n"
     ],
     "language": "python",
     "metadata": {},
     "outputs": []
    }
   ],
   "metadata": {}
  }
 ]
}