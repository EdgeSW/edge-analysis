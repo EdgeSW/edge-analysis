{
 "metadata": {
  "name": "users_report"
 },
 "nbformat": 3,
 "nbformat_minor": 0,
 "worksheets": [
  {
   "cells": [
    {
     "cell_type": "code",
     "collapsed": false,
     "input": [
      "import sys, os\n",
      "sys.path.append('C:\\\\Users\\\\Tyler\\\\.ipython\\\\Simscore-Computing')\n",
      "import boto, time, json, pprint\n",
      "from datetime import datetime, timedelta\n",
      "import numpy as np\n",
      "\n",
      "import fetch.myS3 as myS3\n",
      "import fetch.mySQS as mySQS\n",
      "import validity_metrics as vm\n",
      "from aws import aws_ak, aws_sk\n"
     ],
     "language": "python",
     "metadata": {},
     "outputs": [],
     "prompt_number": 1
    },
    {
     "cell_type": "code",
     "collapsed": false,
     "input": [
      "conn = boto.connect_s3(aws_ak, aws_sk)\n",
      "bucket = conn.get_bucket('incoming-simscore-org')\n",
      "allfiles = myS3.getFilesBetween(mindate=datetime.now()-timedelta(days=6), maxdate=datetime.now(), bucket=bucket, onlyTxtFiles=True)"
     ],
     "language": "python",
     "metadata": {},
     "outputs": [],
     "prompt_number": 2
    },
    {
     "cell_type": "code",
     "collapsed": false,
     "input": [
      "userfiles = []\n",
      "for f in allfiles:\n",
      "    edge = f.split('/')[0][4:]\n",
      "    if f.split('.')[-3] != '109' and edge not in ['0','11','12']:\n",
      "        userfiles.append(f)\n",
      "        \n",
      "ffs = myS3.getTestFiles(userfiles, bucket) \n",
      "print ffs"
     ],
     "language": "python",
     "metadata": {},
     "outputs": [
      {
       "output_type": "stream",
       "stream": "stdout",
       "text": [
        "['edge10/2012/12/20.15.28.11.365.0.txt', 'edge10/2012/12/20.15.43.08.365.1.txt', 'edge10/2012/12/20.16.03.36.365.3.txt', 'edge10/2012/12/20.16.27.36.365.2.txt', 'edge2/2012/12/19.18.26.38.347.0.txt', 'edge2/2012/12/19.18.41.23.347.1.txt', 'edge2/2012/12/19.18.53.10.347.3.txt', 'edge2/2012/12/19.18.56.23.347.3.txt', 'edge5/2012/12/18.15.54.25.366.0.txt', 'edge5/2012/12/18.16.02.39.366.1.txt', 'edge5/2012/12/18.16.13.19.366.3.txt', 'edge5/2012/12/18.16.20.46.366.2.txt', 'edge6/2012/12/14.21.20.58.346.0.txt', 'edge6/2012/12/14.21.32.09.346.3.txt', 'edge6/2012/12/14.21.51.18.346.2.txt']\n"
       ]
      }
     ],
     "prompt_number": 3
    },
    {
     "cell_type": "code",
     "collapsed": false,
     "input": [
      "report = {}\n",
      "tasks = ['PegTx','Cutting','Suturing','ClipApply']\n",
      "%load_ext autoreload\n",
      "%autoreload\n",
      "\n",
      "for f in ffs:\n",
      "    print f\n",
      "    uid = f.split('.')[-3]\n",
      "    task = int(f.split('.')[-2])\n",
      "    if not report.get(uid, False): report[uid] = {'Summary':[0,0,0,0], tasks[0]:[], tasks[1]:[], tasks[2]:[], tasks[3]:[]}\n",
      "    \n",
      "    data, meta = myS3.getData(bucket, f, labeled=True)\n",
      "    #Compute Summary Metrics\n",
      "    jsonSimscore = vm.summary_metrics(meta, data, conn)\n",
      "    jsonSimscore = vm.data_metrics_append(jsonSimscore, data, f)\n",
      "    jsonSimscore = vm.machine_health_append(jsonSimscore, meta, data)\n",
      "    failtypes = jsonSimscore['FailTypes']\n",
      "    \n",
      "    report[uid]['Summary'][task] += 1\n",
      "    report[uid][tasks[task]].append([f, failtypes])\n",
      "        "
     ],
     "language": "python",
     "metadata": {},
     "outputs": [
      {
       "output_type": "stream",
       "stream": "stdout",
       "text": [
        "edge10/2012/12/20.15.28.11.365.0.txt\n",
        "edge10/2012/12/20.15.43.08.365.1.txt"
       ]
      },
      {
       "output_type": "stream",
       "stream": "stdout",
       "text": [
        "\n",
        "edge10/2012/12/20.16.03.36.365.3.txt"
       ]
      },
      {
       "output_type": "stream",
       "stream": "stdout",
       "text": [
        "\n",
        "edge10/2012/12/20.16.27.36.365.2.txt"
       ]
      },
      {
       "output_type": "stream",
       "stream": "stdout",
       "text": [
        "\n",
        "edge2/2012/12/19.18.26.38.347.0.txt"
       ]
      },
      {
       "output_type": "stream",
       "stream": "stdout",
       "text": [
        "\n",
        "edge2/2012/12/19.18.41.23.347.1.txt"
       ]
      },
      {
       "output_type": "stream",
       "stream": "stdout",
       "text": [
        "\n",
        "edge2/2012/12/19.18.53.10.347.3.txt"
       ]
      },
      {
       "output_type": "stream",
       "stream": "stdout",
       "text": [
        "\n",
        "edge2/2012/12/19.18.56.23.347.3.txt"
       ]
      },
      {
       "output_type": "stream",
       "stream": "stdout",
       "text": [
        "\n",
        "edge5/2012/12/18.15.54.25.366.0.txt"
       ]
      },
      {
       "output_type": "stream",
       "stream": "stdout",
       "text": [
        "\n",
        "edge5/2012/12/18.16.02.39.366.1.txt"
       ]
      },
      {
       "output_type": "stream",
       "stream": "stdout",
       "text": [
        "\n",
        "edge5/2012/12/18.16.13.19.366.3.txt"
       ]
      },
      {
       "output_type": "stream",
       "stream": "stdout",
       "text": [
        "\n",
        "edge5/2012/12/18.16.20.46.366.2.txt"
       ]
      },
      {
       "output_type": "stream",
       "stream": "stdout",
       "text": [
        "\n",
        "edge6/2012/12/14.21.20.58.346.0.txt"
       ]
      },
      {
       "output_type": "stream",
       "stream": "stdout",
       "text": [
        "\n",
        "edge6/2012/12/14.21.32.09.346.3.txt"
       ]
      },
      {
       "output_type": "stream",
       "stream": "stdout",
       "text": [
        "\n",
        "edge6/2012/12/14.21.51.18.346.2.txt"
       ]
      },
      {
       "output_type": "stream",
       "stream": "stdout",
       "text": [
        "\n"
       ]
      }
     ],
     "prompt_number": 4
    },
    {
     "cell_type": "code",
     "collapsed": false,
     "input": [
      "import scoring\n",
      "report = scoring.load_pickle('user_report.txt')"
     ],
     "language": "python",
     "metadata": {},
     "outputs": [],
     "prompt_number": 4
    },
    {
     "cell_type": "code",
     "collapsed": false,
     "input": [
      "import pprint\n",
      "pprint.pprint(report)"
     ],
     "language": "python",
     "metadata": {},
     "outputs": [
      {
       "output_type": "stream",
       "stream": "stdout",
       "text": [
        "{'346': {'ClipApply': [['edge6/2012/12/14.21.32.09.346.3.txt',\n",
        "                        ['OutOfRange']]],\n",
        "         'Cutting': [],\n",
        "         'PegTx': [['edge6/2012/12/14.21.20.58.346.0.txt', []]],\n",
        "         'Summary': [1, 0, 1, 1],\n",
        "         'Suturing': [['edge6/2012/12/14.21.51.18.346.2.txt',\n",
        "                       ['ToolTipDrift']]]},\n",
        " '347': {'ClipApply': [['edge2/2012/12/19.18.53.10.347.3.txt',\n",
        "                        ['DeadSensors', 'OutOfRange']],\n",
        "                       ['edge2/2012/12/19.18.56.23.347.3.txt',\n",
        "                        ['DeadSensors', 'OutOfRange']]],\n",
        "         'Cutting': [['edge2/2012/12/19.18.41.23.347.1.txt', []]],\n",
        "         'PegTx': [['edge2/2012/12/19.18.26.38.347.0.txt', []]],\n",
        "         'Summary': [1, 1, 0, 2],\n",
        "         'Suturing': []},\n",
        " '365': {'ClipApply': [['edge10/2012/12/20.16.03.36.365.3.txt',\n",
        "                        ['DeadSensors', 'BadFrames']]],\n",
        "         'Cutting': [['edge10/2012/12/20.15.43.08.365.1.txt', ['BadFrames']]],\n",
        "         'PegTx': [['edge10/2012/12/20.15.28.11.365.0.txt',\n",
        "                    ['OutOfRange', 'BadFrames']]],\n",
        "         'Summary': [1, 1, 1, 1],\n",
        "         'Suturing': [['edge10/2012/12/20.16.27.36.365.2.txt',\n",
        "                       ['DeadSensors',\n",
        "                        'OutOfRange',\n",
        "                        'ToolTipDrift',\n",
        "                        'BadFrames']]]},\n",
        " '366': {'ClipApply': [['edge5/2012/12/18.16.13.19.366.3.txt',\n",
        "                        ['OutOfRange']]],\n",
        "         'Cutting': [['edge5/2012/12/18.16.02.39.366.1.txt', []]],\n",
        "         'PegTx': [['edge5/2012/12/18.15.54.25.366.0.txt', []]],\n",
        "         'Summary': [1, 1, 1, 1],\n",
        "         'Suturing': [['edge5/2012/12/18.16.20.46.366.2.txt',\n",
        "                       ['OutOfRange']]]}}\n"
       ]
      }
     ],
     "prompt_number": 5
    },
    {
     "cell_type": "code",
     "collapsed": false,
     "input": [
      "%load_ext autoreload\n",
      "%autoreload\n",
      "\n",
      "import json\n",
      "from openpyxl.workbook import Workbook\n",
      "from openpyxl.writer.excel import ExcelWriter\n",
      "\n",
      "from openpyxl.cell import get_column_letter\n",
      "\n",
      "wb = Workbook()\n",
      "dest_filename = r'User_Report.xlsx'\n",
      "ws = wb.worksheets[0]\n",
      "ws.title = \"User Report\"\n",
      "\n",
      "tasks = ['PegTx','Cutting','Suturing','ClipApply']\n",
      "i = 1\n",
      "url = 'http://simscore.org/browse_simscore/show?bucket=incoming-simscore-org&path=/'\n",
      "for u in report:\n",
      "    ws.append([int(u), 'Tasks','Files','FailTypes','Links','Check'])\n",
      "    for task in tasks:\n",
      "        if report[u][task]: \n",
      "            for test in report[u][task]:\n",
      "                ws.append(['', task, test[0], json.dumps(test[1]), url+test[0]])\n",
      "        else:\n",
      "            ws.append(['', task])\n",
      "            \n",
      "    ws.append(['', 'Tests:', json.dumps(report[u]['Summary']) ])\n",
      "    ws.append(['', 'Needs:'])\n",
      "    ws.append(['', 'Redo:'])\n",
      "    ws.append(['', 'SUMMARY:'])\n",
      "    ws.append([''])\n",
      "    \n",
      "\n",
      "\n",
      "\n",
      "wb.save(filename = dest_filename)"
     ],
     "language": "python",
     "metadata": {},
     "outputs": [],
     "prompt_number": 6
    },
    {
     "cell_type": "code",
     "collapsed": false,
     "input": [
      "for k in report.keys():\n",
      "    filename = report[k]['Suturing'][0][0]\n",
      "    \n",
      "    print filename.split('/')[1]+'/'+filename.split('/')[2]+'/'+filename.split('/')[3].split('.')[0]"
     ],
     "language": "python",
     "metadata": {},
     "outputs": [
      {
       "output_type": "stream",
       "stream": "stdout",
       "text": [
        "2012/09/28\n",
        "2012/09/28\n",
        "2012/08/13\n",
        "2012/09/19\n",
        "2012/09/14\n",
        "2012/08/23\n"
       ]
      }
     ],
     "prompt_number": 20
    },
    {
     "cell_type": "code",
     "collapsed": false,
     "input": [],
     "language": "python",
     "metadata": {},
     "outputs": []
    }
   ],
   "metadata": {}
  }
 ]
}