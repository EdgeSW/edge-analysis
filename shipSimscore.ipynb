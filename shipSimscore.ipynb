{
 "metadata": {
  "name": "shipSimscore"
 },
 "nbformat": 3,
 "nbformat_minor": 0,
 "worksheets": [
  {
   "cells": [
    {
     "cell_type": "heading",
     "level": 4,
     "metadata": {},
     "source": [
      "POST computed files to Simscore"
     ]
    },
    {
     "cell_type": "code",
     "collapsed": false,
     "input": [
      "import sys, os\n",
      "sys.path.append('C:\\\\Users\\\\Tyler\\\\.ipython\\\\Simscore-Computing')\n",
      "\n",
      "import boto\n",
      "import json, time\n",
      "from datetime import datetime\n",
      "import pycurl\n",
      "import validity_metrics as vm\n",
      "import report.simscore as sim\n",
      "from fetch.mySQS import sqs_connection as conn\n",
      "\n",
      "from boto.sqs.message import Message\n"
     ],
     "language": "python",
     "metadata": {},
     "outputs": [],
     "prompt_number": 31
    },
    {
     "cell_type": "code",
     "collapsed": false,
     "input": [
      "def send_fail(failure, conn): \n",
      "    conn.send_email(source='thartley@simulab.com',\n",
      "        subject='shipSimscore.py Errors', format='html',\n",
      "        body=failure,\n",
      "        to_addresses=['thartley@simulab.com'])\n",
      "    \n",
      "def logit(log, message):\n",
      "    log.write(message)\n",
      "    log.flush()\n",
      "\n",
      "def trysleeptimes(trys, sleeptimes=None):\n",
      "    if sleeptimes == None: sleeptimes=[0, 1, 10, 100, 200, 1000]\n",
      "    if trys < len(sleeptimes):\n",
      "        time.sleep(sleeptimes[trys])\n",
      "    else:\n",
      "        time.sleep(sleeptimes[-1])\n",
      "sleeptimes=[0, 1, 10, 100, 200, 1000]"
     ],
     "language": "python",
     "metadata": {},
     "outputs": [
      {
       "output_type": "pyout",
       "prompt_number": 27,
       "text": [
        "6"
       ]
      }
     ],
     "prompt_number": 27
    },
    {
     "cell_type": "code",
     "collapsed": false,
     "input": [
      "# Open up log file to write pycurl info to\n",
      "log = open (os.getcwd()+'\\\\ShipFails.log', 'a')\n",
      "logit(log, '*************************\\n%s\\nBooting up shipSimscore.py\\n*************************\\n' % str(datetime.now()))\n",
      "\n",
      "# Login to Simscore\n",
      "c = pycurl.Curl() \n",
      "login = 'http://dev.simscore.md3productions.com/simscores-v1/user/login'\n",
      "c, buf = sim.loginSimscore(c, address=login)\n",
      "logit(log, 'Login response: '+str(c.getinfo(c.HTTP_CODE))+'\\n'+buf.getvalue()+'\\n')\n"
     ],
     "language": "python",
     "metadata": {},
     "outputs": [],
     "prompt_number": 3
    },
    {
     "cell_type": "code",
     "collapsed": false,
     "input": [
      "#make a retry loop for posting to simscore (could put this in thread/sep .py)\n",
      "\n",
      "#Define Connections\n",
      "q = conn.get_queue('Files2Ship')\n",
      "from fetch.mySQS import ses_conn\n",
      "\n",
      "#TODO: needs to be simpledb stuff here\n",
      "\n",
      "\n",
      "#Run Eternally\n",
      "#while True:\n",
      "\n",
      "#long poll queue containing files to ship to simscore\n",
      "rs = q.read(wait_time_seconds=20)\n",
      "\n",
      "#if long poll returns file,\n",
      "if rs:\n",
      "    #Parse out json to be sent\n",
      "    jsonSimscore = json.loads(rs.get_body())\n",
      "    logit(log, '*************************\\n%s\\n' %datetime.now())\n",
      "    logit(log,'Read in file '+jsonSimscore['TestID']+' from queue\\n')\n",
      "    print jsonSimscore['TestID']\n",
      "    \n",
      "    trys = 0\n",
      "            \n",
      "    #POST to simscore\n",
      "    if sim.is_expired_cookie(c):\n",
      "        c, buf = sim.loginSimscore(c, address=login)\n",
      "    \n",
      "    while True:\n",
      "        compute = 'http://dev.simscore.md3productions.com/simscores-v1/machinereport' \n",
      "        pp = sim.RESTfields(address=compute, header=['Content-Type: application/json'], values=json.dumps(jsonSimscore))\n",
      "        c, out = pp.posthttp(c)\n",
      "        http_response = c.getinfo(c.HTTP_CODE)\n",
      "        \n",
      "        http_response = 100\n",
      "        print http_response; print out.getvalue()\n",
      "        \n",
      "        #if simscore DEFINITELY recieves POST, returns 200, etc:\n",
      "        if http_response == 200:\n",
      "            logit(log,'Message received - HTTP/1.1:%d \\n'%http_response)\n",
      "            \n",
      "            #delete message from queue.\n",
      "            d = q.delete_message(rs)\n",
      "            if d:\n",
      "                logit(log,'Messsage deleted from queue\\n')\n",
      "            break\n",
      "            \n",
      "        #else if no response, don't receive 200, simscore down, etc:\n",
      "        elif http_response in range(500,599):\n",
      "            logit(log,'Simscore error, HTTP/1.1:%d, waiting %d seconds\\n%s'%(http_response, sleeptimes[trys], out.getvalue()) )\n",
      "            trysleeptimes(trys)\n",
      "            trys += 1\n",
      "            \n",
      "        #else if error related to content of post, how post is made, \n",
      "        else:\n",
      "            #log&report error and filename\n",
      "            logit(log, 'Local error, HTTP: '+str(http_response)+'\\n'+out.getvalue()+'\\nSending email...')\n",
      "            \n",
      "            #email me\n",
      "            failmessage = 'Error sending '+jsonSimscore['TestID']+'\\n'+'shipSimscore error: %d\\n\\n%s'%(http_response,out.getvalue())\n",
      "            send_fail(failmessage, ses_conn)\n",
      "            break\n",
      "    \n",
      "else:\n",
      "    #perform check on S3\n",
      "    pass\n",
      "         "
     ],
     "language": "python",
     "metadata": {},
     "outputs": [
      {
       "output_type": "stream",
       "stream": "stdout",
       "text": [
        "edge6/2012/11/05.19.16.31.340.3\n",
        "100"
       ]
      },
      {
       "output_type": "stream",
       "stream": "stdout",
       "text": [
        "\n",
        "{\"mhid\":\"99\",\"trid\":\"100\"}\n"
       ]
      }
     ],
     "prompt_number": 36
    },
    {
     "cell_type": "code",
     "collapsed": false,
     "input": [],
     "language": "python",
     "metadata": {},
     "outputs": [
      {
       "ename": "SyntaxError",
       "evalue": "can't assign to function call (<ipython-input-29-12e8aba39aa4>, line 1)",
       "output_type": "pyerr",
       "traceback": [
        "\u001b[1;36m  File \u001b[1;32m\"<ipython-input-29-12e8aba39aa4>\"\u001b[1;36m, line \u001b[1;32m1\u001b[0m\n\u001b[1;31mSyntaxError\u001b[0m\u001b[1;31m:\u001b[0m can't assign to function call\n"
       ]
      }
     ],
     "prompt_number": 29
    },
    {
     "cell_type": "code",
     "collapsed": false,
     "input": [],
     "language": "python",
     "metadata": {},
     "outputs": []
    }
   ],
   "metadata": {}
  }
 ]
}